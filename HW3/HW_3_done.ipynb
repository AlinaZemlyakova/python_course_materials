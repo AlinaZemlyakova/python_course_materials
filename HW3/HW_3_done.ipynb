{
  "nbformat": 4,
  "nbformat_minor": 0,
  "metadata": {
    "colab": {
      "name": "HW 3 Natasha+sorting",
      "provenance": [],
      "collapsed_sections": []
    },
    "kernelspec": {
      "name": "python3",
      "display_name": "Python 3"
    },
    "language_info": {
      "name": "python"
    }
  },
  "cells": [
    {
      "cell_type": "code",
      "metadata": {
        "id": "TnXpaHv9XADf",
        "colab": {
          "base_uri": "https://localhost:8080/"
        },
        "outputId": "93fe6b10-3554-4f72-d64e-9f9552454657"
      },
      "source": [
        "!pip install -U natasha\n",
        "!pip install ipymarkup\n",
        "import pandas as pd"
      ],
      "execution_count": 155,
      "outputs": [
        {
          "output_type": "stream",
          "name": "stdout",
          "text": [
            "Requirement already satisfied: natasha in /usr/local/lib/python3.7/dist-packages (1.4.0)\n",
            "Requirement already satisfied: razdel>=0.5.0 in /usr/local/lib/python3.7/dist-packages (from natasha) (0.5.0)\n",
            "Requirement already satisfied: ipymarkup>=0.8.0 in /usr/local/lib/python3.7/dist-packages (from natasha) (0.9.0)\n",
            "Requirement already satisfied: slovnet>=0.3.0 in /usr/local/lib/python3.7/dist-packages (from natasha) (0.5.0)\n",
            "Requirement already satisfied: pymorphy2 in /usr/local/lib/python3.7/dist-packages (from natasha) (0.9.1)\n",
            "Requirement already satisfied: navec>=0.9.0 in /usr/local/lib/python3.7/dist-packages (from natasha) (0.10.0)\n",
            "Requirement already satisfied: yargy>=0.14.0 in /usr/local/lib/python3.7/dist-packages (from natasha) (0.15.0)\n",
            "Requirement already satisfied: intervaltree>=3 in /usr/local/lib/python3.7/dist-packages (from ipymarkup>=0.8.0->natasha) (3.1.0)\n",
            "Requirement already satisfied: sortedcontainers<3.0,>=2.0 in /usr/local/lib/python3.7/dist-packages (from intervaltree>=3->ipymarkup>=0.8.0->natasha) (2.4.0)\n",
            "Requirement already satisfied: numpy in /usr/local/lib/python3.7/dist-packages (from navec>=0.9.0->natasha) (1.19.5)\n",
            "Requirement already satisfied: dawg-python>=0.7.1 in /usr/local/lib/python3.7/dist-packages (from pymorphy2->natasha) (0.7.2)\n",
            "Requirement already satisfied: docopt>=0.6 in /usr/local/lib/python3.7/dist-packages (from pymorphy2->natasha) (0.6.2)\n",
            "Requirement already satisfied: pymorphy2-dicts-ru<3.0,>=2.4 in /usr/local/lib/python3.7/dist-packages (from pymorphy2->natasha) (2.4.417127.4579844)\n",
            "Requirement already satisfied: ipymarkup in /usr/local/lib/python3.7/dist-packages (0.9.0)\n",
            "Requirement already satisfied: intervaltree>=3 in /usr/local/lib/python3.7/dist-packages (from ipymarkup) (3.1.0)\n",
            "Requirement already satisfied: sortedcontainers<3.0,>=2.0 in /usr/local/lib/python3.7/dist-packages (from intervaltree>=3->ipymarkup) (2.4.0)\n"
          ]
        }
      ]
    },
    {
      "cell_type": "code",
      "metadata": {
        "id": "cYRtgCePXOL3"
      },
      "source": [
        "sents = ['Посол Израиля на Украине Йоэль Лион признался, что пришел в шок, узнав о решении властей Львовской области объявить 2019 год годом лидера запрещенной в России Организации украинских националистов (ОУН) Степана Бандеры.',\n",
        " 'Свое заявление он разместил в Twitter.',\n",
        " '«Я не могу понять, как прославление тех, кто непосредственно принимал участие в ужасных антисемитских преступлениях, помогает бороться с антисемитизмом и ксенофобией.',\n",
        " 'Украина не должна забывать о преступлениях, совершенных против украинских евреев, и никоим образом не отмечать их через почитание их исполнителей», — написал дипломат.',\n",
        " '11 декабря Львовский областной совет принял решение провозгласить 2019 год в регионе годом Степана Бандеры в связи с празднованием 110-летия со дня рождения лидера ОУН (Бандера родился 1 января 1909 года).',\n",
        " 'В июле аналогичное решение принял Житомирский областной совет.',\n",
        " 'В начале месяца с предложением к президенту страны Петру Порошенко вернуть Бандере звание Героя Украины обратились депутаты Верховной Рады.',\n",
        " 'Парламентарии уверены, что признание Бандеры национальным героем поможет в борьбе с подрывной деятельностью против Украины в информационном поле, а также остановит «распространение мифов, созданных российской пропагандой».',\n",
        " 'Степан Бандера (1909-1959) был одним из лидеров Организации украинских националистов, выступающей за создание независимого государства на территориях с украиноязычным населением.',\n",
        " 'В 2010 году в период президентства Виктора Ющенко Бандера был посмертно признан Героем Украины, однако впоследствии это решение было отменено судом.']"
      ],
      "execution_count": 156,
      "outputs": []
    },
    {
      "cell_type": "code",
      "metadata": {
        "id": "XlaM9ftPq2Ip"
      },
      "source": [
        "from natasha import (\n",
        "    Segmenter,\n",
        "    MorphVocab,\n",
        "    NamesExtractor,\n",
        "    AddrExtractor\n",
        ")"
      ],
      "execution_count": 157,
      "outputs": []
    },
    {
      "cell_type": "code",
      "source": [
        "mv = MorphVocab ()"
      ],
      "metadata": {
        "id": "9Xo0QLmoc7vR"
      },
      "execution_count": 158,
      "outputs": []
    },
    {
      "cell_type": "code",
      "metadata": {
        "id": "6lYq77-ZXjiU"
      },
      "source": [
        "ne = NamesExtractor(mv)\n",
        "ae = AddrExtractor(mv)"
      ],
      "execution_count": 159,
      "outputs": []
    },
    {
      "cell_type": "code",
      "metadata": {
        "colab": {
          "base_uri": "https://localhost:8080/"
        },
        "id": "UVH9qjlqfWsJ",
        "outputId": "5367db34-7064-4bed-9c66-46e85d8f9147"
      },
      "source": [
        "# text = sents[0]\n",
        "text = ''\n",
        "for s in sents:\n",
        "  text += s\n",
        "ents = list(ne(text)) + list(ae(text))\n",
        "ents[0]"
      ],
      "execution_count": 160,
      "outputs": [
        {
          "output_type": "execute_result",
          "data": {
            "text/plain": [
              "Match(\n",
              "    start=0,\n",
              "    stop=13,\n",
              "    fact=Name(\n",
              "        first='Израиля',\n",
              "        last='Посол',\n",
              "        middle=None\n",
              "    )\n",
              ")"
            ]
          },
          "metadata": {},
          "execution_count": 160
        }
      ]
    },
    {
      "cell_type": "code",
      "metadata": {
        "id": "NSvdsXjGhgzW"
      },
      "source": [
        "prepare_ents = []\n",
        "for ent in ents:\n",
        "  prepare_ents.append((\n",
        "      ent.start,\n",
        "      ent.stop,\n",
        "      ent.fact.__class__.__name__\n",
        "  ))"
      ],
      "execution_count": 161,
      "outputs": []
    },
    {
      "cell_type": "code",
      "source": [
        "from ipymarkup import show_span_line_markup\n",
        "show_span_line_markup(\n",
        "    text,\n",
        "    prepare_ents\n",
        ")"
      ],
      "metadata": {
        "colab": {
          "base_uri": "https://localhost:8080/",
          "height": 624
        },
        "id": "CETmzoJe9jFP",
        "outputId": "19a56ff7-7877-4480-d20a-a1a4018f6a52"
      },
      "execution_count": 162,
      "outputs": [
        {
          "output_type": "display_data",
          "data": {
            "text/html": [
              "<div class=\"tex2jax_ignore\" style=\"white-space: pre-wrap\"><div><span style=\"display: inline-block; vertical-align: top\"></span><span style=\"display: inline-block; vertical-align: top; position: relative; margin-bottom: 11px\"><span style=\"border-bottom: 3px solid #90caf9; padding-bottom: 8px\">Посол Израиля</span><span style=\"font-size: 11px; line-height: 1; white-space: nowrap; text-shadow: 1px 1px 0px white; position: absolute; left: 0; bottom: -8px\">Name</span></span><span style=\"display: inline-block; vertical-align: top\"> на </span><span style=\"display: inline-block; vertical-align: top; position: relative; margin-bottom: 22px\"><span style=\"border-bottom: 3px solid #90caf9; padding-bottom: 8px\"><span style=\"border-bottom: 3px solid #a5d6a7; padding-bottom: 19px\">Украине</span></span><span style=\"font-size: 11px; line-height: 1; white-space: nowrap; text-shadow: 1px 1px 0px white; position: absolute; left: 0; bottom: -8px\">Name</span><span style=\"font-size: 11px; line-height: 1; white-space: nowrap; text-shadow: 1px 1px 0px white; position: absolute; left: 0; bottom: -19px\">AddrPart</span></span><span style=\"display: inline-block; vertical-align: top\"></span><span style=\"display: inline-block; vertical-align: top; position: relative; margin-bottom: 11px\"><span style=\"border-bottom: 3px solid #90caf9; padding-bottom: 8px\"> Йоэль</span></span><span style=\"display: inline-block; vertical-align: top\"> </span><span style=\"display: inline-block; vertical-align: top; position: relative; margin-bottom: 11px\"><span style=\"border-bottom: 3px solid #90caf9; padding-bottom: 8px\">Лион</span><span style=\"font-size: 11px; line-height: 1; white-space: nowrap; text-shadow: 1px 1px 0px white; position: absolute; left: 0; bottom: -8px\">Name</span></span><span style=\"display: inline-block; vertical-align: top\"> признался, что пришел </span><span style=\"display: inline-block; vertical-align: top; position: relative; margin-bottom: 11px\"><span style=\"border-bottom: 3px solid #90caf9; padding-bottom: 8px\">в</span><span style=\"font-size: 11px; line-height: 1; white-space: nowrap; text-shadow: 1px 1px 0px white; position: absolute; left: 0; bottom: -8px\">Name</span></span><span style=\"display: inline-block; vertical-align: top\"> </span><span style=\"display: inline-block; vertical-align: top; position: relative; margin-bottom: 11px\"><span style=\"border-bottom: 3px solid #90caf9; padding-bottom: 8px\">шок</span><span style=\"font-size: 11px; line-height: 1; white-space: nowrap; text-shadow: 1px 1px 0px white; position: absolute; left: 0; bottom: -8px\">Name</span></span><span style=\"display: inline-block; vertical-align: top\">, узнав </span><span style=\"display: inline-block; vertical-align: top; position: relative; margin-bottom: 11px\"><span style=\"border-bottom: 3px solid #90caf9; padding-bottom: 8px\">о</span><span style=\"font-size: 11px; line-height: 1; white-space: nowrap; text-shadow: 1px 1px 0px white; position: absolute; left: 0; bottom: -8px\">Name</span></span><span style=\"display: inline-block; vertical-align: top\"> решении</span></div><div><span style=\"display: inline-block; vertical-align: top\"> властей </span><span style=\"display: inline-block; vertical-align: top; position: relative; margin-bottom: 11px\"><span style=\"border-bottom: 3px solid #90caf9; padding-bottom: 8px\">Львовской</span><span style=\"font-size: 11px; line-height: 1; white-space: nowrap; text-shadow: 1px 1px 0px white; position: absolute; left: 0; bottom: -8px\">Name</span></span><span style=\"display: inline-block; vertical-align: top\"> области объявить 2019 год годом </span><span style=\"display: inline-block; vertical-align: top; position: relative; margin-bottom: 11px\"><span style=\"border-bottom: 3px solid #90caf9; padding-bottom: 8px\">лидера</span><span style=\"font-size: 11px; line-height: 1; white-space: nowrap; text-shadow: 1px 1px 0px white; position: absolute; left: 0; bottom: -8px\">Name</span></span><span style=\"display: inline-block; vertical-align: top\"> запрещенной </span><span style=\"display: inline-block; vertical-align: top; position: relative; margin-bottom: 11px\"><span style=\"border-bottom: 3px solid #90caf9; padding-bottom: 8px\">в</span><span style=\"font-size: 11px; line-height: 1; white-space: nowrap; text-shadow: 1px 1px 0px white; position: absolute; left: 0; bottom: -8px\">Name</span></span><span style=\"display: inline-block; vertical-align: top\"> </span><span style=\"display: inline-block; vertical-align: top; position: relative; margin-bottom: 11px\"><span style=\"border-bottom: 3px solid #a5d6a7; padding-bottom: 8px\">России</span><span style=\"font-size: 11px; line-height: 1; white-space: nowrap; text-shadow: 1px 1px 0px white; position: absolute; left: 0; bottom: -8px\">AddrPart</span></span><span style=\"display: inline-block; vertical-align: top\"> </span></div><div><span style=\"display: inline-block; vertical-align: top\">Организации </span><span style=\"display: inline-block; vertical-align: top; position: relative; margin-bottom: 11px\"><span style=\"border-bottom: 3px solid #90caf9; padding-bottom: 8px\">украинских</span><span style=\"font-size: 11px; line-height: 1; white-space: nowrap; text-shadow: 1px 1px 0px white; position: absolute; left: 0; bottom: -8px\">Name</span></span><span style=\"display: inline-block; vertical-align: top\"> националистов (ОУН) </span><span style=\"display: inline-block; vertical-align: top; position: relative; margin-bottom: 11px\"><span style=\"border-bottom: 3px solid #90caf9; padding-bottom: 8px\">Степана Бандеры</span><span style=\"font-size: 11px; line-height: 1; white-space: nowrap; text-shadow: 1px 1px 0px white; position: absolute; left: 0; bottom: -8px\">Name</span></span><span style=\"display: inline-block; vertical-align: top\">.</span><span style=\"display: inline-block; vertical-align: top; position: relative; margin-bottom: 11px\"><span style=\"border-bottom: 3px solid #90caf9; padding-bottom: 8px\">Свое</span><span style=\"font-size: 11px; line-height: 1; white-space: nowrap; text-shadow: 1px 1px 0px white; position: absolute; left: 0; bottom: -8px\">Name</span></span><span style=\"display: inline-block; vertical-align: top\"> заявление он </span></div><div><span style=\"display: inline-block; vertical-align: top\">разместил </span><span style=\"display: inline-block; vertical-align: top; position: relative; margin-bottom: 11px\"><span style=\"border-bottom: 3px solid #90caf9; padding-bottom: 8px\">в</span><span style=\"font-size: 11px; line-height: 1; white-space: nowrap; text-shadow: 1px 1px 0px white; position: absolute; left: 0; bottom: -8px\">Name</span></span><span style=\"display: inline-block; vertical-align: top\"> Twitter.«Я </span><span style=\"display: inline-block; vertical-align: top; position: relative; margin-bottom: 11px\"><span style=\"border-bottom: 3px solid #90caf9; padding-bottom: 8px\">не</span><span style=\"font-size: 11px; line-height: 1; white-space: nowrap; text-shadow: 1px 1px 0px white; position: absolute; left: 0; bottom: -8px\">Name</span></span><span style=\"display: inline-block; vertical-align: top\"> </span><span style=\"display: inline-block; vertical-align: top; position: relative; margin-bottom: 11px\"><span style=\"border-bottom: 3px solid #90caf9; padding-bottom: 8px\">могу</span><span style=\"font-size: 11px; line-height: 1; white-space: nowrap; text-shadow: 1px 1px 0px white; position: absolute; left: 0; bottom: -8px\">Name</span></span><span style=\"display: inline-block; vertical-align: top\"> понять, как прославление </span><span style=\"display: inline-block; vertical-align: top; position: relative; margin-bottom: 11px\"><span style=\"border-bottom: 3px solid #90caf9; padding-bottom: 8px\">тех</span><span style=\"font-size: 11px; line-height: 1; white-space: nowrap; text-shadow: 1px 1px 0px white; position: absolute; left: 0; bottom: -8px\">Name</span></span><span style=\"display: inline-block; vertical-align: top\">, кто </span><span style=\"display: inline-block; vertical-align: top; position: relative; margin-bottom: 11px\"><span style=\"border-bottom: 3px solid #90caf9; padding-bottom: 8px\">непосредственно</span><span style=\"font-size: 11px; line-height: 1; white-space: nowrap; text-shadow: 1px 1px 0px white; position: absolute; left: 0; bottom: -8px\">Name</span></span><span style=\"display: inline-block; vertical-align: top\"></span></div><div><span style=\"display: inline-block; vertical-align: top\"> принимал участие </span><span style=\"display: inline-block; vertical-align: top; position: relative; margin-bottom: 11px\"><span style=\"border-bottom: 3px solid #90caf9; padding-bottom: 8px\">в</span><span style=\"font-size: 11px; line-height: 1; white-space: nowrap; text-shadow: 1px 1px 0px white; position: absolute; left: 0; bottom: -8px\">Name</span></span><span style=\"display: inline-block; vertical-align: top\"> ужасных антисемитских преступлениях, помогает бороться </span><span style=\"display: inline-block; vertical-align: top; position: relative; margin-bottom: 11px\"><span style=\"border-bottom: 3px solid #90caf9; padding-bottom: 8px\">с</span><span style=\"font-size: 11px; line-height: 1; white-space: nowrap; text-shadow: 1px 1px 0px white; position: absolute; left: 0; bottom: -8px\">Name</span></span><span style=\"display: inline-block; vertical-align: top\"> </span></div><div><span style=\"display: inline-block; vertical-align: top\">антисемитизмом </span><span style=\"display: inline-block; vertical-align: top; position: relative; margin-bottom: 11px\"><span style=\"border-bottom: 3px solid #90caf9; padding-bottom: 8px\">и</span><span style=\"font-size: 11px; line-height: 1; white-space: nowrap; text-shadow: 1px 1px 0px white; position: absolute; left: 0; bottom: -8px\">Name</span></span><span style=\"display: inline-block; vertical-align: top\"> ксенофобией.</span><span style=\"display: inline-block; vertical-align: top; position: relative; margin-bottom: 11px\"><span style=\"border-bottom: 3px solid #a5d6a7; padding-bottom: 8px\">Украина</span><span style=\"font-size: 11px; line-height: 1; white-space: nowrap; text-shadow: 1px 1px 0px white; position: absolute; left: 0; bottom: -8px\">AddrPart</span></span><span style=\"display: inline-block; vertical-align: top\"> </span><span style=\"display: inline-block; vertical-align: top; position: relative; margin-bottom: 11px\"><span style=\"border-bottom: 3px solid #90caf9; padding-bottom: 8px\">не</span><span style=\"font-size: 11px; line-height: 1; white-space: nowrap; text-shadow: 1px 1px 0px white; position: absolute; left: 0; bottom: -8px\">Name</span></span><span style=\"display: inline-block; vertical-align: top\"> должна забывать </span><span style=\"display: inline-block; vertical-align: top; position: relative; margin-bottom: 11px\"><span style=\"border-bottom: 3px solid #90caf9; padding-bottom: 8px\">о</span><span style=\"font-size: 11px; line-height: 1; white-space: nowrap; text-shadow: 1px 1px 0px white; position: absolute; left: 0; bottom: -8px\">Name</span></span><span style=\"display: inline-block; vertical-align: top\"> преступлениях, </span></div><div><span style=\"display: inline-block; vertical-align: top\"></span><span style=\"display: inline-block; vertical-align: top; position: relative; margin-bottom: 11px\"><span style=\"border-bottom: 3px solid #90caf9; padding-bottom: 8px\">совершенных</span><span style=\"font-size: 11px; line-height: 1; white-space: nowrap; text-shadow: 1px 1px 0px white; position: absolute; left: 0; bottom: -8px\">Name</span></span><span style=\"display: inline-block; vertical-align: top\"> против </span><span style=\"display: inline-block; vertical-align: top; position: relative; margin-bottom: 11px\"><span style=\"border-bottom: 3px solid #90caf9; padding-bottom: 8px\">украинских</span><span style=\"font-size: 11px; line-height: 1; white-space: nowrap; text-shadow: 1px 1px 0px white; position: absolute; left: 0; bottom: -8px\">Name</span></span><span style=\"display: inline-block; vertical-align: top\"> </span><span style=\"display: inline-block; vertical-align: top; position: relative; margin-bottom: 11px\"><span style=\"border-bottom: 3px solid #90caf9; padding-bottom: 8px\">евреев</span><span style=\"font-size: 11px; line-height: 1; white-space: nowrap; text-shadow: 1px 1px 0px white; position: absolute; left: 0; bottom: -8px\">Name</span></span><span style=\"display: inline-block; vertical-align: top\">, </span><span style=\"display: inline-block; vertical-align: top; position: relative; margin-bottom: 11px\"><span style=\"border-bottom: 3px solid #90caf9; padding-bottom: 8px\">и</span><span style=\"font-size: 11px; line-height: 1; white-space: nowrap; text-shadow: 1px 1px 0px white; position: absolute; left: 0; bottom: -8px\">Name</span></span><span style=\"display: inline-block; vertical-align: top\"> никоим </span><span style=\"display: inline-block; vertical-align: top; position: relative; margin-bottom: 11px\"><span style=\"border-bottom: 3px solid #90caf9; padding-bottom: 8px\">образом</span><span style=\"font-size: 11px; line-height: 1; white-space: nowrap; text-shadow: 1px 1px 0px white; position: absolute; left: 0; bottom: -8px\">Name</span></span><span style=\"display: inline-block; vertical-align: top\"> </span><span style=\"display: inline-block; vertical-align: top; position: relative; margin-bottom: 11px\"><span style=\"border-bottom: 3px solid #90caf9; padding-bottom: 8px\">не</span><span style=\"font-size: 11px; line-height: 1; white-space: nowrap; text-shadow: 1px 1px 0px white; position: absolute; left: 0; bottom: -8px\">Name</span></span><span style=\"display: inline-block; vertical-align: top\"> отмечать их через </span></div><div><span style=\"display: inline-block; vertical-align: top\">почитание их исполнителей», — написал </span><span style=\"display: inline-block; vertical-align: top; position: relative; margin-bottom: 11px\"><span style=\"border-bottom: 3px solid #90caf9; padding-bottom: 8px\">дипломат</span><span style=\"font-size: 11px; line-height: 1; white-space: nowrap; text-shadow: 1px 1px 0px white; position: absolute; left: 0; bottom: -8px\">Name</span></span><span style=\"display: inline-block; vertical-align: top\">.11 </span><span style=\"display: inline-block; vertical-align: top; position: relative; margin-bottom: 11px\"><span style=\"border-bottom: 3px solid #90caf9; padding-bottom: 8px\">декабря</span><span style=\"font-size: 11px; line-height: 1; white-space: nowrap; text-shadow: 1px 1px 0px white; position: absolute; left: 0; bottom: -8px\">Name</span></span><span style=\"display: inline-block; vertical-align: top\"> </span><span style=\"display: inline-block; vertical-align: top; position: relative; margin-bottom: 11px\"><span style=\"border-bottom: 3px solid #90caf9; padding-bottom: 8px\">Львовский</span><span style=\"font-size: 11px; line-height: 1; white-space: nowrap; text-shadow: 1px 1px 0px white; position: absolute; left: 0; bottom: -8px\">Name</span></span><span style=\"display: inline-block; vertical-align: top\"> областной </span></div><div><span style=\"display: inline-block; vertical-align: top\"></span><span style=\"display: inline-block; vertical-align: top; position: relative; margin-bottom: 11px\"><span style=\"border-bottom: 3px solid #90caf9; padding-bottom: 8px\">совет</span><span style=\"font-size: 11px; line-height: 1; white-space: nowrap; text-shadow: 1px 1px 0px white; position: absolute; left: 0; bottom: -8px\">Name</span></span><span style=\"display: inline-block; vertical-align: top\"> принял решение провозгласить 2019 год </span><span style=\"display: inline-block; vertical-align: top; position: relative; margin-bottom: 11px\"><span style=\"border-bottom: 3px solid #90caf9; padding-bottom: 8px\">в</span><span style=\"font-size: 11px; line-height: 1; white-space: nowrap; text-shadow: 1px 1px 0px white; position: absolute; left: 0; bottom: -8px\">Name</span></span><span style=\"display: inline-block; vertical-align: top\"> регионе годом </span><span style=\"display: inline-block; vertical-align: top; position: relative; margin-bottom: 11px\"><span style=\"border-bottom: 3px solid #90caf9; padding-bottom: 8px\">Степана Бандеры</span><span style=\"font-size: 11px; line-height: 1; white-space: nowrap; text-shadow: 1px 1px 0px white; position: absolute; left: 0; bottom: -8px\">Name</span></span><span style=\"display: inline-block; vertical-align: top\"> </span><span style=\"display: inline-block; vertical-align: top; position: relative; margin-bottom: 11px\"><span style=\"border-bottom: 3px solid #90caf9; padding-bottom: 8px\">в</span><span style=\"font-size: 11px; line-height: 1; white-space: nowrap; text-shadow: 1px 1px 0px white; position: absolute; left: 0; bottom: -8px\">Name</span></span><span style=\"display: inline-block; vertical-align: top\"> </span></div><div><span style=\"display: inline-block; vertical-align: top\">связи </span><span style=\"display: inline-block; vertical-align: top; position: relative; margin-bottom: 11px\"><span style=\"border-bottom: 3px solid #90caf9; padding-bottom: 8px\">с</span><span style=\"font-size: 11px; line-height: 1; white-space: nowrap; text-shadow: 1px 1px 0px white; position: absolute; left: 0; bottom: -8px\">Name</span></span><span style=\"display: inline-block; vertical-align: top\"> празднованием 110-летия </span><span style=\"display: inline-block; vertical-align: top; position: relative; margin-bottom: 11px\"><span style=\"border-bottom: 3px solid #90caf9; padding-bottom: 8px\">со</span><span style=\"font-size: 11px; line-height: 1; white-space: nowrap; text-shadow: 1px 1px 0px white; position: absolute; left: 0; bottom: -8px\">Name</span></span><span style=\"display: inline-block; vertical-align: top\"> дня рождения </span><span style=\"display: inline-block; vertical-align: top; position: relative; margin-bottom: 11px\"><span style=\"border-bottom: 3px solid #90caf9; padding-bottom: 8px\">лидера</span><span style=\"font-size: 11px; line-height: 1; white-space: nowrap; text-shadow: 1px 1px 0px white; position: absolute; left: 0; bottom: -8px\">Name</span></span><span style=\"display: inline-block; vertical-align: top\"> ОУН (</span><span style=\"display: inline-block; vertical-align: top; position: relative; margin-bottom: 11px\"><span style=\"border-bottom: 3px solid #90caf9; padding-bottom: 8px\">Бандера</span><span style=\"font-size: 11px; line-height: 1; white-space: nowrap; text-shadow: 1px 1px 0px white; position: absolute; left: 0; bottom: -8px\">Name</span></span><span style=\"display: inline-block; vertical-align: top\"> родился 1 </span></div><div><span style=\"display: inline-block; vertical-align: top\"></span><span style=\"display: inline-block; vertical-align: top; position: relative; margin-bottom: 11px\"><span style=\"border-bottom: 3px solid #90caf9; padding-bottom: 8px\">января</span><span style=\"font-size: 11px; line-height: 1; white-space: nowrap; text-shadow: 1px 1px 0px white; position: absolute; left: 0; bottom: -8px\">Name</span></span><span style=\"display: inline-block; vertical-align: top\"> 1909 года).</span><span style=\"display: inline-block; vertical-align: top; position: relative; margin-bottom: 11px\"><span style=\"border-bottom: 3px solid #90caf9; padding-bottom: 8px\">В</span><span style=\"font-size: 11px; line-height: 1; white-space: nowrap; text-shadow: 1px 1px 0px white; position: absolute; left: 0; bottom: -8px\">Name</span></span><span style=\"display: inline-block; vertical-align: top\"> </span><span style=\"display: inline-block; vertical-align: top; position: relative; margin-bottom: 11px\"><span style=\"border-bottom: 3px solid #90caf9; padding-bottom: 8px\">июле</span><span style=\"font-size: 11px; line-height: 1; white-space: nowrap; text-shadow: 1px 1px 0px white; position: absolute; left: 0; bottom: -8px\">Name</span></span><span style=\"display: inline-block; vertical-align: top\"> аналогичное решение принял </span><span style=\"display: inline-block; vertical-align: top; position: relative; margin-bottom: 11px\"><span style=\"border-bottom: 3px solid #90caf9; padding-bottom: 8px\">Житомирский</span><span style=\"font-size: 11px; line-height: 1; white-space: nowrap; text-shadow: 1px 1px 0px white; position: absolute; left: 0; bottom: -8px\">Name</span></span><span style=\"display: inline-block; vertical-align: top\"> областной </span></div><div><span style=\"display: inline-block; vertical-align: top\"></span><span style=\"display: inline-block; vertical-align: top; position: relative; margin-bottom: 11px\"><span style=\"border-bottom: 3px solid #90caf9; padding-bottom: 8px\">совет</span><span style=\"font-size: 11px; line-height: 1; white-space: nowrap; text-shadow: 1px 1px 0px white; position: absolute; left: 0; bottom: -8px\">Name</span></span><span style=\"display: inline-block; vertical-align: top\">.</span><span style=\"display: inline-block; vertical-align: top; position: relative; margin-bottom: 11px\"><span style=\"border-bottom: 3px solid #90caf9; padding-bottom: 8px\">В</span><span style=\"font-size: 11px; line-height: 1; white-space: nowrap; text-shadow: 1px 1px 0px white; position: absolute; left: 0; bottom: -8px\">Name</span></span><span style=\"display: inline-block; vertical-align: top\"> начале </span><span style=\"display: inline-block; vertical-align: top; position: relative; margin-bottom: 11px\"><span style=\"border-bottom: 3px solid #90caf9; padding-bottom: 8px\">месяца</span><span style=\"font-size: 11px; line-height: 1; white-space: nowrap; text-shadow: 1px 1px 0px white; position: absolute; left: 0; bottom: -8px\">Name</span></span><span style=\"display: inline-block; vertical-align: top\"> </span><span style=\"display: inline-block; vertical-align: top; position: relative; margin-bottom: 11px\"><span style=\"border-bottom: 3px solid #90caf9; padding-bottom: 8px\">с</span><span style=\"font-size: 11px; line-height: 1; white-space: nowrap; text-shadow: 1px 1px 0px white; position: absolute; left: 0; bottom: -8px\">Name</span></span><span style=\"display: inline-block; vertical-align: top\"> предложением </span><span style=\"display: inline-block; vertical-align: top; position: relative; margin-bottom: 11px\"><span style=\"border-bottom: 3px solid #90caf9; padding-bottom: 8px\">к</span><span style=\"font-size: 11px; line-height: 1; white-space: nowrap; text-shadow: 1px 1px 0px white; position: absolute; left: 0; bottom: -8px\">Name</span></span><span style=\"display: inline-block; vertical-align: top\"> президенту страны </span><span style=\"display: inline-block; vertical-align: top; position: relative; margin-bottom: 11px\"><span style=\"border-bottom: 3px solid #90caf9; padding-bottom: 8px\">Петру Порошенко</span><span style=\"font-size: 11px; line-height: 1; white-space: nowrap; text-shadow: 1px 1px 0px white; position: absolute; left: 0; bottom: -8px\">Name</span></span><span style=\"display: inline-block; vertical-align: top\"> вернуть</span></div><div><span style=\"display: inline-block; vertical-align: top\"> </span><span style=\"display: inline-block; vertical-align: top; position: relative; margin-bottom: 11px\"><span style=\"border-bottom: 3px solid #90caf9; padding-bottom: 8px\">Бандере</span><span style=\"font-size: 11px; line-height: 1; white-space: nowrap; text-shadow: 1px 1px 0px white; position: absolute; left: 0; bottom: -8px\">Name</span></span><span style=\"display: inline-block; vertical-align: top\"> звание </span><span style=\"display: inline-block; vertical-align: top; position: relative; margin-bottom: 11px\"><span style=\"border-bottom: 3px solid #90caf9; padding-bottom: 8px\">Героя</span><span style=\"font-size: 11px; line-height: 1; white-space: nowrap; text-shadow: 1px 1px 0px white; position: absolute; left: 0; bottom: -8px\">Name</span></span><span style=\"display: inline-block; vertical-align: top\"> </span><span style=\"display: inline-block; vertical-align: top; position: relative; margin-bottom: 11px\"><span style=\"border-bottom: 3px solid #a5d6a7; padding-bottom: 8px\">Украины</span><span style=\"font-size: 11px; line-height: 1; white-space: nowrap; text-shadow: 1px 1px 0px white; position: absolute; left: 0; bottom: -8px\">AddrPart</span></span><span style=\"display: inline-block; vertical-align: top\"> обратились </span><span style=\"display: inline-block; vertical-align: top; position: relative; margin-bottom: 11px\"><span style=\"border-bottom: 3px solid #90caf9; padding-bottom: 8px\">депутаты</span><span style=\"font-size: 11px; line-height: 1; white-space: nowrap; text-shadow: 1px 1px 0px white; position: absolute; left: 0; bottom: -8px\">Name</span></span><span style=\"display: inline-block; vertical-align: top\"> </span><span style=\"display: inline-block; vertical-align: top; position: relative; margin-bottom: 11px\"><span style=\"border-bottom: 3px solid #90caf9; padding-bottom: 8px\">Верховной Рады</span><span style=\"font-size: 11px; line-height: 1; white-space: nowrap; text-shadow: 1px 1px 0px white; position: absolute; left: 0; bottom: -8px\">Name</span></span><span style=\"display: inline-block; vertical-align: top\">.Парламентарии </span></div><div><span style=\"display: inline-block; vertical-align: top\">уверены, что признание </span><span style=\"display: inline-block; vertical-align: top; position: relative; margin-bottom: 11px\"><span style=\"border-bottom: 3px solid #90caf9; padding-bottom: 8px\">Бандеры</span><span style=\"font-size: 11px; line-height: 1; white-space: nowrap; text-shadow: 1px 1px 0px white; position: absolute; left: 0; bottom: -8px\">Name</span></span><span style=\"display: inline-block; vertical-align: top\"> национальным </span><span style=\"display: inline-block; vertical-align: top; position: relative; margin-bottom: 11px\"><span style=\"border-bottom: 3px solid #90caf9; padding-bottom: 8px\">героем</span><span style=\"font-size: 11px; line-height: 1; white-space: nowrap; text-shadow: 1px 1px 0px white; position: absolute; left: 0; bottom: -8px\">Name</span></span><span style=\"display: inline-block; vertical-align: top\"> поможет </span><span style=\"display: inline-block; vertical-align: top; position: relative; margin-bottom: 11px\"><span style=\"border-bottom: 3px solid #90caf9; padding-bottom: 8px\">в</span><span style=\"font-size: 11px; line-height: 1; white-space: nowrap; text-shadow: 1px 1px 0px white; position: absolute; left: 0; bottom: -8px\">Name</span></span><span style=\"display: inline-block; vertical-align: top\"> борьбе </span><span style=\"display: inline-block; vertical-align: top; position: relative; margin-bottom: 11px\"><span style=\"border-bottom: 3px solid #90caf9; padding-bottom: 8px\">с</span><span style=\"font-size: 11px; line-height: 1; white-space: nowrap; text-shadow: 1px 1px 0px white; position: absolute; left: 0; bottom: -8px\">Name</span></span><span style=\"display: inline-block; vertical-align: top\"> подрывной </span></div><div><span style=\"display: inline-block; vertical-align: top\">деятельностью против </span><span style=\"display: inline-block; vertical-align: top; position: relative; margin-bottom: 11px\"><span style=\"border-bottom: 3px solid #a5d6a7; padding-bottom: 8px\">Украины</span><span style=\"font-size: 11px; line-height: 1; white-space: nowrap; text-shadow: 1px 1px 0px white; position: absolute; left: 0; bottom: -8px\">AddrPart</span></span><span style=\"display: inline-block; vertical-align: top\"> </span><span style=\"display: inline-block; vertical-align: top; position: relative; margin-bottom: 11px\"><span style=\"border-bottom: 3px solid #90caf9; padding-bottom: 8px\">в</span><span style=\"font-size: 11px; line-height: 1; white-space: nowrap; text-shadow: 1px 1px 0px white; position: absolute; left: 0; bottom: -8px\">Name</span></span><span style=\"display: inline-block; vertical-align: top\"> информационном </span><span style=\"display: inline-block; vertical-align: top; position: relative; margin-bottom: 11px\"><span style=\"border-bottom: 3px solid #90caf9; padding-bottom: 8px\">поле</span><span style=\"font-size: 11px; line-height: 1; white-space: nowrap; text-shadow: 1px 1px 0px white; position: absolute; left: 0; bottom: -8px\">Name</span></span><span style=\"display: inline-block; vertical-align: top\">, </span><span style=\"display: inline-block; vertical-align: top; position: relative; margin-bottom: 11px\"><span style=\"border-bottom: 3px solid #90caf9; padding-bottom: 8px\">а</span><span style=\"font-size: 11px; line-height: 1; white-space: nowrap; text-shadow: 1px 1px 0px white; position: absolute; left: 0; bottom: -8px\">Name</span></span><span style=\"display: inline-block; vertical-align: top\"> также остановит </span></div><div><span style=\"display: inline-block; vertical-align: top\">«распространение </span><span style=\"display: inline-block; vertical-align: top; position: relative; margin-bottom: 11px\"><span style=\"border-bottom: 3px solid #90caf9; padding-bottom: 8px\">мифов</span><span style=\"font-size: 11px; line-height: 1; white-space: nowrap; text-shadow: 1px 1px 0px white; position: absolute; left: 0; bottom: -8px\">Name</span></span><span style=\"display: inline-block; vertical-align: top\">, созданных </span><span style=\"display: inline-block; vertical-align: top; position: relative; margin-bottom: 11px\"><span style=\"border-bottom: 3px solid #90caf9; padding-bottom: 8px\">российской</span><span style=\"font-size: 11px; line-height: 1; white-space: nowrap; text-shadow: 1px 1px 0px white; position: absolute; left: 0; bottom: -8px\">Name</span></span><span style=\"display: inline-block; vertical-align: top\"> пропагандой».</span><span style=\"display: inline-block; vertical-align: top; position: relative; margin-bottom: 11px\"><span style=\"border-bottom: 3px solid #90caf9; padding-bottom: 8px\">Степан Бандера</span><span style=\"font-size: 11px; line-height: 1; white-space: nowrap; text-shadow: 1px 1px 0px white; position: absolute; left: 0; bottom: -8px\">Name</span></span><span style=\"display: inline-block; vertical-align: top\"> </span></div><div><span style=\"display: inline-block; vertical-align: top\">(1909-1959) был </span><span style=\"display: inline-block; vertical-align: top; position: relative; margin-bottom: 11px\"><span style=\"border-bottom: 3px solid #90caf9; padding-bottom: 8px\">одним</span><span style=\"font-size: 11px; line-height: 1; white-space: nowrap; text-shadow: 1px 1px 0px white; position: absolute; left: 0; bottom: -8px\">Name</span></span><span style=\"display: inline-block; vertical-align: top\"> </span><span style=\"display: inline-block; vertical-align: top; position: relative; margin-bottom: 11px\"><span style=\"border-bottom: 3px solid #90caf9; padding-bottom: 8px\">из</span><span style=\"font-size: 11px; line-height: 1; white-space: nowrap; text-shadow: 1px 1px 0px white; position: absolute; left: 0; bottom: -8px\">Name</span></span><span style=\"display: inline-block; vertical-align: top\"> </span><span style=\"display: inline-block; vertical-align: top; position: relative; margin-bottom: 11px\"><span style=\"border-bottom: 3px solid #90caf9; padding-bottom: 8px\">лидеров</span><span style=\"font-size: 11px; line-height: 1; white-space: nowrap; text-shadow: 1px 1px 0px white; position: absolute; left: 0; bottom: -8px\">Name</span></span><span style=\"display: inline-block; vertical-align: top\"> Организации </span><span style=\"display: inline-block; vertical-align: top; position: relative; margin-bottom: 11px\"><span style=\"border-bottom: 3px solid #90caf9; padding-bottom: 8px\">украинских</span><span style=\"font-size: 11px; line-height: 1; white-space: nowrap; text-shadow: 1px 1px 0px white; position: absolute; left: 0; bottom: -8px\">Name</span></span><span style=\"display: inline-block; vertical-align: top\"> националистов, </span></div><div><span style=\"display: inline-block; vertical-align: top\">выступающей за создание </span><span style=\"display: inline-block; vertical-align: top; position: relative; margin-bottom: 11px\"><span style=\"border-bottom: 3px solid #90caf9; padding-bottom: 8px\">независимого</span><span style=\"font-size: 11px; line-height: 1; white-space: nowrap; text-shadow: 1px 1px 0px white; position: absolute; left: 0; bottom: -8px\">Name</span></span><span style=\"display: inline-block; vertical-align: top\"> государства на территориях </span><span style=\"display: inline-block; vertical-align: top; position: relative; margin-bottom: 11px\"><span style=\"border-bottom: 3px solid #90caf9; padding-bottom: 8px\">с</span><span style=\"font-size: 11px; line-height: 1; white-space: nowrap; text-shadow: 1px 1px 0px white; position: absolute; left: 0; bottom: -8px\">Name</span></span><span style=\"display: inline-block; vertical-align: top\"> украиноязычным</span></div><div><span style=\"display: inline-block; vertical-align: top\"> населением.</span><span style=\"display: inline-block; vertical-align: top; position: relative; margin-bottom: 11px\"><span style=\"border-bottom: 3px solid #90caf9; padding-bottom: 8px\">В</span><span style=\"font-size: 11px; line-height: 1; white-space: nowrap; text-shadow: 1px 1px 0px white; position: absolute; left: 0; bottom: -8px\">Name</span></span><span style=\"display: inline-block; vertical-align: top\"> 2010 году </span><span style=\"display: inline-block; vertical-align: top; position: relative; margin-bottom: 11px\"><span style=\"border-bottom: 3px solid #90caf9; padding-bottom: 8px\">в</span><span style=\"font-size: 11px; line-height: 1; white-space: nowrap; text-shadow: 1px 1px 0px white; position: absolute; left: 0; bottom: -8px\">Name</span></span><span style=\"display: inline-block; vertical-align: top\"> период президентства </span><span style=\"display: inline-block; vertical-align: top; position: relative; margin-bottom: 11px\"><span style=\"border-bottom: 3px solid #90caf9; padding-bottom: 8px\">Виктора Ющенко</span><span style=\"font-size: 11px; line-height: 1; white-space: nowrap; text-shadow: 1px 1px 0px white; position: absolute; left: 0; bottom: -8px\">Name</span></span><span style=\"display: inline-block; vertical-align: top\"> </span><span style=\"display: inline-block; vertical-align: top; position: relative; margin-bottom: 11px\"><span style=\"border-bottom: 3px solid #90caf9; padding-bottom: 8px\">Бандера</span><span style=\"font-size: 11px; line-height: 1; white-space: nowrap; text-shadow: 1px 1px 0px white; position: absolute; left: 0; bottom: -8px\">Name</span></span><span style=\"display: inline-block; vertical-align: top\"> был </span></div><div><span style=\"display: inline-block; vertical-align: top\">посмертно признан </span><span style=\"display: inline-block; vertical-align: top; position: relative; margin-bottom: 11px\"><span style=\"border-bottom: 3px solid #90caf9; padding-bottom: 8px\">Героем</span><span style=\"font-size: 11px; line-height: 1; white-space: nowrap; text-shadow: 1px 1px 0px white; position: absolute; left: 0; bottom: -8px\">Name</span></span><span style=\"display: inline-block; vertical-align: top\"> </span><span style=\"display: inline-block; vertical-align: top; position: relative; margin-bottom: 11px\"><span style=\"border-bottom: 3px solid #a5d6a7; padding-bottom: 8px\">Украины</span><span style=\"font-size: 11px; line-height: 1; white-space: nowrap; text-shadow: 1px 1px 0px white; position: absolute; left: 0; bottom: -8px\">AddrPart</span></span><span style=\"display: inline-block; vertical-align: top\">, однако впоследствии это решение </span><span style=\"display: inline-block; vertical-align: top; position: relative; margin-bottom: 11px\"><span style=\"border-bottom: 3px solid #90caf9; padding-bottom: 8px\">было</span><span style=\"font-size: 11px; line-height: 1; white-space: nowrap; text-shadow: 1px 1px 0px white; position: absolute; left: 0; bottom: -8px\">Name</span></span><span style=\"display: inline-block; vertical-align: top\"> отменено </span></div><div><span style=\"display: inline-block; vertical-align: top\"></span><span style=\"display: inline-block; vertical-align: top; position: relative; margin-bottom: 11px\"><span style=\"border-bottom: 3px solid #90caf9; padding-bottom: 8px\">судом</span><span style=\"font-size: 11px; line-height: 1; white-space: nowrap; text-shadow: 1px 1px 0px white; position: absolute; left: 0; bottom: -8px\">Name</span></span><span style=\"display: inline-block; vertical-align: top\">.</span></div></div>"
            ],
            "text/plain": [
              "<IPython.core.display.HTML object>"
            ]
          },
          "metadata": {}
        }
      ]
    },
    {
      "cell_type": "code",
      "source": [
        "#task 1: filtering rules\n",
        "\n",
        "def first_letter_is_upper (line):\n",
        "  if line[0].lower() == line[0]:\n",
        "    return False\n",
        "  return True"
      ],
      "metadata": {
        "id": "A4159cdACNzm"
      },
      "execution_count": 11,
      "outputs": []
    },
    {
      "cell_type": "code",
      "source": [
        "filtered_ents = []\n",
        "for e in ents:\n",
        "  if e.fact.__class__.__name__ == 'Name':\n",
        "    if e.fact.first != None and first_letter_is_upper(e.fact.first):\n",
        "      filtered_ents.append (e)\n",
        "      continue\n",
        "    if e.fact.last != None and first_letter_is_upper(e.fact.last):\n",
        "      filtered_ents.append (e)\n",
        "      continue\n",
        "    if e.fact.middle != None and first_letter_is_upper(e.fact.middle):\n",
        "      filtered_ents.append (e)\n",
        "      continue\n",
        "  elif e.fact.__class__.__name__ == 'AddrPart' and first_letter_is_upper(e.fact.value):\n",
        "    filtered_ents.append (e)"
      ],
      "metadata": {
        "id": "eGb-4XvE-NFH"
      },
      "execution_count": 12,
      "outputs": []
    },
    {
      "cell_type": "code",
      "source": [
        "prepare_filtered_ents = []\n",
        "for ent in filtered_ents:\n",
        "  prepare_filtered_ents.append((\n",
        "      ent.start,\n",
        "      ent.stop,\n",
        "      ent.fact.__class__.__name__\n",
        "  ))"
      ],
      "metadata": {
        "id": "5syBYdudGqWe"
      },
      "execution_count": 14,
      "outputs": []
    },
    {
      "cell_type": "code",
      "metadata": {
        "colab": {
          "base_uri": "https://localhost:8080/",
          "height": 558
        },
        "id": "fJuqDRtqfd_W",
        "outputId": "5fb75a5c-56d7-491f-c0f2-35831956a104"
      },
      "source": [
        "from ipymarkup import show_span_line_markup\n",
        "show_span_line_markup(\n",
        "    text,\n",
        "    prepare_filtered_ents\n",
        ")"
      ],
      "execution_count": 15,
      "outputs": [
        {
          "output_type": "display_data",
          "data": {
            "text/html": [
              "<div class=\"tex2jax_ignore\" style=\"white-space: pre-wrap\"><div><span style=\"display: inline-block; vertical-align: top\"></span><span style=\"display: inline-block; vertical-align: top; position: relative; margin-bottom: 11px\"><span style=\"border-bottom: 3px solid #90caf9; padding-bottom: 8px\">Посол Израиля</span><span style=\"font-size: 11px; line-height: 1; white-space: nowrap; text-shadow: 1px 1px 0px white; position: absolute; left: 0; bottom: -8px\">Name</span></span><span style=\"display: inline-block; vertical-align: top\"> на </span><span style=\"display: inline-block; vertical-align: top; position: relative; margin-bottom: 22px\"><span style=\"border-bottom: 3px solid #90caf9; padding-bottom: 8px\"><span style=\"border-bottom: 3px solid #a5d6a7; padding-bottom: 19px\">Украине</span></span><span style=\"font-size: 11px; line-height: 1; white-space: nowrap; text-shadow: 1px 1px 0px white; position: absolute; left: 0; bottom: -8px\">Name</span><span style=\"font-size: 11px; line-height: 1; white-space: nowrap; text-shadow: 1px 1px 0px white; position: absolute; left: 0; bottom: -19px\">AddrPart</span></span><span style=\"display: inline-block; vertical-align: top\"></span><span style=\"display: inline-block; vertical-align: top; position: relative; margin-bottom: 11px\"><span style=\"border-bottom: 3px solid #90caf9; padding-bottom: 8px\"> Йоэль</span></span><span style=\"display: inline-block; vertical-align: top\"> </span><span style=\"display: inline-block; vertical-align: top; position: relative; margin-bottom: 11px\"><span style=\"border-bottom: 3px solid #90caf9; padding-bottom: 8px\">Лион</span><span style=\"font-size: 11px; line-height: 1; white-space: nowrap; text-shadow: 1px 1px 0px white; position: absolute; left: 0; bottom: -8px\">Name</span></span><span style=\"display: inline-block; vertical-align: top\"> признался, что пришел в шок, узнав о решении</span></div><div><span style=\"display: inline-block; vertical-align: top\"> властей </span><span style=\"display: inline-block; vertical-align: top; position: relative; margin-bottom: 11px\"><span style=\"border-bottom: 3px solid #90caf9; padding-bottom: 8px\">Львовской</span><span style=\"font-size: 11px; line-height: 1; white-space: nowrap; text-shadow: 1px 1px 0px white; position: absolute; left: 0; bottom: -8px\">Name</span></span><span style=\"display: inline-block; vertical-align: top\"> области объявить 2019 год годом лидера запрещенной в </span><span style=\"display: inline-block; vertical-align: top; position: relative; margin-bottom: 11px\"><span style=\"border-bottom: 3px solid #a5d6a7; padding-bottom: 8px\">России</span><span style=\"font-size: 11px; line-height: 1; white-space: nowrap; text-shadow: 1px 1px 0px white; position: absolute; left: 0; bottom: -8px\">AddrPart</span></span><span style=\"display: inline-block; vertical-align: top\"> </span></div><div><span style=\"display: inline-block; vertical-align: top\">Организации украинских националистов (ОУН) </span><span style=\"display: inline-block; vertical-align: top; position: relative; margin-bottom: 11px\"><span style=\"border-bottom: 3px solid #90caf9; padding-bottom: 8px\">Степана Бандеры</span><span style=\"font-size: 11px; line-height: 1; white-space: nowrap; text-shadow: 1px 1px 0px white; position: absolute; left: 0; bottom: -8px\">Name</span></span><span style=\"display: inline-block; vertical-align: top\">.</span><span style=\"display: inline-block; vertical-align: top; position: relative; margin-bottom: 11px\"><span style=\"border-bottom: 3px solid #90caf9; padding-bottom: 8px\">Свое</span><span style=\"font-size: 11px; line-height: 1; white-space: nowrap; text-shadow: 1px 1px 0px white; position: absolute; left: 0; bottom: -8px\">Name</span></span><span style=\"display: inline-block; vertical-align: top\"> заявление он </span></div><div><span style=\"display: inline-block; vertical-align: top\">разместил в Twitter.«Я не могу понять, как прославление тех, кто непосредственно</span></div><div><span style=\"display: inline-block; vertical-align: top\"> принимал участие в ужасных антисемитских преступлениях, помогает бороться с </span></div><div><span style=\"display: inline-block; vertical-align: top\">антисемитизмом и ксенофобией.</span><span style=\"display: inline-block; vertical-align: top; position: relative; margin-bottom: 11px\"><span style=\"border-bottom: 3px solid #a5d6a7; padding-bottom: 8px\">Украина</span><span style=\"font-size: 11px; line-height: 1; white-space: nowrap; text-shadow: 1px 1px 0px white; position: absolute; left: 0; bottom: -8px\">AddrPart</span></span><span style=\"display: inline-block; vertical-align: top\"> не должна забывать о преступлениях, </span></div><div><span style=\"display: inline-block; vertical-align: top\">совершенных против украинских евреев, и никоим образом не отмечать их через </span></div><div><span style=\"display: inline-block; vertical-align: top\">почитание их исполнителей», — написал дипломат.11 декабря </span><span style=\"display: inline-block; vertical-align: top; position: relative; margin-bottom: 11px\"><span style=\"border-bottom: 3px solid #90caf9; padding-bottom: 8px\">Львовский</span><span style=\"font-size: 11px; line-height: 1; white-space: nowrap; text-shadow: 1px 1px 0px white; position: absolute; left: 0; bottom: -8px\">Name</span></span><span style=\"display: inline-block; vertical-align: top\"> областной </span></div><div><span style=\"display: inline-block; vertical-align: top\">совет принял решение провозгласить 2019 год в регионе годом </span><span style=\"display: inline-block; vertical-align: top; position: relative; margin-bottom: 11px\"><span style=\"border-bottom: 3px solid #90caf9; padding-bottom: 8px\">Степана Бандеры</span><span style=\"font-size: 11px; line-height: 1; white-space: nowrap; text-shadow: 1px 1px 0px white; position: absolute; left: 0; bottom: -8px\">Name</span></span><span style=\"display: inline-block; vertical-align: top\"> в </span></div><div><span style=\"display: inline-block; vertical-align: top\">связи с празднованием 110-летия со дня рождения лидера ОУН (</span><span style=\"display: inline-block; vertical-align: top; position: relative; margin-bottom: 11px\"><span style=\"border-bottom: 3px solid #90caf9; padding-bottom: 8px\">Бандера</span><span style=\"font-size: 11px; line-height: 1; white-space: nowrap; text-shadow: 1px 1px 0px white; position: absolute; left: 0; bottom: -8px\">Name</span></span><span style=\"display: inline-block; vertical-align: top\"> родился 1 </span></div><div><span style=\"display: inline-block; vertical-align: top\">января 1909 года).</span><span style=\"display: inline-block; vertical-align: top; position: relative; margin-bottom: 11px\"><span style=\"border-bottom: 3px solid #90caf9; padding-bottom: 8px\">В</span><span style=\"font-size: 11px; line-height: 1; white-space: nowrap; text-shadow: 1px 1px 0px white; position: absolute; left: 0; bottom: -8px\">Name</span></span><span style=\"display: inline-block; vertical-align: top\"> июле аналогичное решение принял </span><span style=\"display: inline-block; vertical-align: top; position: relative; margin-bottom: 11px\"><span style=\"border-bottom: 3px solid #90caf9; padding-bottom: 8px\">Житомирский</span><span style=\"font-size: 11px; line-height: 1; white-space: nowrap; text-shadow: 1px 1px 0px white; position: absolute; left: 0; bottom: -8px\">Name</span></span><span style=\"display: inline-block; vertical-align: top\"> областной </span></div><div><span style=\"display: inline-block; vertical-align: top\">совет.</span><span style=\"display: inline-block; vertical-align: top; position: relative; margin-bottom: 11px\"><span style=\"border-bottom: 3px solid #90caf9; padding-bottom: 8px\">В</span><span style=\"font-size: 11px; line-height: 1; white-space: nowrap; text-shadow: 1px 1px 0px white; position: absolute; left: 0; bottom: -8px\">Name</span></span><span style=\"display: inline-block; vertical-align: top\"> начале месяца с предложением к президенту страны </span><span style=\"display: inline-block; vertical-align: top; position: relative; margin-bottom: 11px\"><span style=\"border-bottom: 3px solid #90caf9; padding-bottom: 8px\">Петру Порошенко</span><span style=\"font-size: 11px; line-height: 1; white-space: nowrap; text-shadow: 1px 1px 0px white; position: absolute; left: 0; bottom: -8px\">Name</span></span><span style=\"display: inline-block; vertical-align: top\"> вернуть</span></div><div><span style=\"display: inline-block; vertical-align: top\"> </span><span style=\"display: inline-block; vertical-align: top; position: relative; margin-bottom: 11px\"><span style=\"border-bottom: 3px solid #90caf9; padding-bottom: 8px\">Бандере</span><span style=\"font-size: 11px; line-height: 1; white-space: nowrap; text-shadow: 1px 1px 0px white; position: absolute; left: 0; bottom: -8px\">Name</span></span><span style=\"display: inline-block; vertical-align: top\"> звание </span><span style=\"display: inline-block; vertical-align: top; position: relative; margin-bottom: 11px\"><span style=\"border-bottom: 3px solid #90caf9; padding-bottom: 8px\">Героя</span><span style=\"font-size: 11px; line-height: 1; white-space: nowrap; text-shadow: 1px 1px 0px white; position: absolute; left: 0; bottom: -8px\">Name</span></span><span style=\"display: inline-block; vertical-align: top\"> </span><span style=\"display: inline-block; vertical-align: top; position: relative; margin-bottom: 11px\"><span style=\"border-bottom: 3px solid #a5d6a7; padding-bottom: 8px\">Украины</span><span style=\"font-size: 11px; line-height: 1; white-space: nowrap; text-shadow: 1px 1px 0px white; position: absolute; left: 0; bottom: -8px\">AddrPart</span></span><span style=\"display: inline-block; vertical-align: top\"> обратились депутаты </span><span style=\"display: inline-block; vertical-align: top; position: relative; margin-bottom: 11px\"><span style=\"border-bottom: 3px solid #90caf9; padding-bottom: 8px\">Верховной Рады</span><span style=\"font-size: 11px; line-height: 1; white-space: nowrap; text-shadow: 1px 1px 0px white; position: absolute; left: 0; bottom: -8px\">Name</span></span><span style=\"display: inline-block; vertical-align: top\">.Парламентарии </span></div><div><span style=\"display: inline-block; vertical-align: top\">уверены, что признание </span><span style=\"display: inline-block; vertical-align: top; position: relative; margin-bottom: 11px\"><span style=\"border-bottom: 3px solid #90caf9; padding-bottom: 8px\">Бандеры</span><span style=\"font-size: 11px; line-height: 1; white-space: nowrap; text-shadow: 1px 1px 0px white; position: absolute; left: 0; bottom: -8px\">Name</span></span><span style=\"display: inline-block; vertical-align: top\"> национальным героем поможет в борьбе с подрывной </span></div><div><span style=\"display: inline-block; vertical-align: top\">деятельностью против </span><span style=\"display: inline-block; vertical-align: top; position: relative; margin-bottom: 11px\"><span style=\"border-bottom: 3px solid #a5d6a7; padding-bottom: 8px\">Украины</span><span style=\"font-size: 11px; line-height: 1; white-space: nowrap; text-shadow: 1px 1px 0px white; position: absolute; left: 0; bottom: -8px\">AddrPart</span></span><span style=\"display: inline-block; vertical-align: top\"> в информационном поле, а также остановит </span></div><div><span style=\"display: inline-block; vertical-align: top\">«распространение мифов, созданных российской пропагандой».</span><span style=\"display: inline-block; vertical-align: top; position: relative; margin-bottom: 11px\"><span style=\"border-bottom: 3px solid #90caf9; padding-bottom: 8px\">Степан Бандера</span><span style=\"font-size: 11px; line-height: 1; white-space: nowrap; text-shadow: 1px 1px 0px white; position: absolute; left: 0; bottom: -8px\">Name</span></span><span style=\"display: inline-block; vertical-align: top\"> </span></div><div><span style=\"display: inline-block; vertical-align: top\">(1909-1959) был одним из лидеров Организации украинских националистов, </span></div><div><span style=\"display: inline-block; vertical-align: top\">выступающей за создание независимого государства на территориях с украиноязычным</span></div><div><span style=\"display: inline-block; vertical-align: top\"> населением.</span><span style=\"display: inline-block; vertical-align: top; position: relative; margin-bottom: 11px\"><span style=\"border-bottom: 3px solid #90caf9; padding-bottom: 8px\">В</span><span style=\"font-size: 11px; line-height: 1; white-space: nowrap; text-shadow: 1px 1px 0px white; position: absolute; left: 0; bottom: -8px\">Name</span></span><span style=\"display: inline-block; vertical-align: top\"> 2010 году в период президентства </span><span style=\"display: inline-block; vertical-align: top; position: relative; margin-bottom: 11px\"><span style=\"border-bottom: 3px solid #90caf9; padding-bottom: 8px\">Виктора Ющенко</span><span style=\"font-size: 11px; line-height: 1; white-space: nowrap; text-shadow: 1px 1px 0px white; position: absolute; left: 0; bottom: -8px\">Name</span></span><span style=\"display: inline-block; vertical-align: top\"> </span><span style=\"display: inline-block; vertical-align: top; position: relative; margin-bottom: 11px\"><span style=\"border-bottom: 3px solid #90caf9; padding-bottom: 8px\">Бандера</span><span style=\"font-size: 11px; line-height: 1; white-space: nowrap; text-shadow: 1px 1px 0px white; position: absolute; left: 0; bottom: -8px\">Name</span></span><span style=\"display: inline-block; vertical-align: top\"> был </span></div><div><span style=\"display: inline-block; vertical-align: top\">посмертно признан </span><span style=\"display: inline-block; vertical-align: top; position: relative; margin-bottom: 11px\"><span style=\"border-bottom: 3px solid #90caf9; padding-bottom: 8px\">Героем</span><span style=\"font-size: 11px; line-height: 1; white-space: nowrap; text-shadow: 1px 1px 0px white; position: absolute; left: 0; bottom: -8px\">Name</span></span><span style=\"display: inline-block; vertical-align: top\"> </span><span style=\"display: inline-block; vertical-align: top; position: relative; margin-bottom: 11px\"><span style=\"border-bottom: 3px solid #a5d6a7; padding-bottom: 8px\">Украины</span><span style=\"font-size: 11px; line-height: 1; white-space: nowrap; text-shadow: 1px 1px 0px white; position: absolute; left: 0; bottom: -8px\">AddrPart</span></span><span style=\"display: inline-block; vertical-align: top\">, однако впоследствии это решение было отменено </span></div><div><span style=\"display: inline-block; vertical-align: top\">судом.</span></div></div>"
            ],
            "text/plain": [
              "<IPython.core.display.HTML object>"
            ]
          },
          "metadata": {}
        }
      ]
    },
    {
      "cell_type": "code",
      "source": [
        "#task 2: visualization (+ show_span_line_markup with ents and filtered_ents above)\n",
        "ner_original = []\n",
        "for e in ents:\n",
        "  if e.fact.__class__.__name__ == 'Name':\n",
        "    if e.fact.first != None:\n",
        "      ner_original.append(e.fact.first)\n",
        "    if e.fact.last != None:\n",
        "      ner_original.append(e.fact.last)"
      ],
      "metadata": {
        "id": "6eMNDDjx2_AY"
      },
      "execution_count": 163,
      "outputs": []
    },
    {
      "cell_type": "code",
      "source": [
        "ner_filtered = []\n",
        "for e in filtered_ents:\n",
        "  if e.fact.__class__.__name__ == 'Name':\n",
        "    if e.fact.first != None:\n",
        "      ner_filtered.append(e.fact.first)\n",
        "    if e.fact.last != None:\n",
        "      ner_filtered.append(e.fact.last)"
      ],
      "metadata": {
        "id": "EeiPlKY68KOw"
      },
      "execution_count": 164,
      "outputs": []
    },
    {
      "cell_type": "code",
      "source": [
        "d = {'original': ner_original,'filtered': ner_filtered}\n",
        "\n",
        "df = pd.DataFrame (dict([(k,pd.Series(v)) for k,v in d.items()]))"
      ],
      "metadata": {
        "id": "24pSEipt9OiO"
      },
      "execution_count": 170,
      "outputs": []
    },
    {
      "cell_type": "code",
      "source": [
        "df"
      ],
      "metadata": {
        "colab": {
          "base_uri": "https://localhost:8080/",
          "height": 424
        },
        "id": "YzSuvk-1-z6H",
        "outputId": "053d5eff-fdfd-4468-cd70-15861b185a24"
      },
      "execution_count": 172,
      "outputs": [
        {
          "output_type": "execute_result",
          "data": {
            "text/html": [
              "\n",
              "  <div id=\"df-180913cd-ae81-4db4-a1dd-673f88b3eace\">\n",
              "    <div class=\"colab-df-container\">\n",
              "      <div>\n",
              "<style scoped>\n",
              "    .dataframe tbody tr th:only-of-type {\n",
              "        vertical-align: middle;\n",
              "    }\n",
              "\n",
              "    .dataframe tbody tr th {\n",
              "        vertical-align: top;\n",
              "    }\n",
              "\n",
              "    .dataframe thead th {\n",
              "        text-align: right;\n",
              "    }\n",
              "</style>\n",
              "<table border=\"1\" class=\"dataframe\">\n",
              "  <thead>\n",
              "    <tr style=\"text-align: right;\">\n",
              "      <th></th>\n",
              "      <th>original</th>\n",
              "      <th>filtered</th>\n",
              "    </tr>\n",
              "  </thead>\n",
              "  <tbody>\n",
              "    <tr>\n",
              "      <th>0</th>\n",
              "      <td>Израиля</td>\n",
              "      <td>Израиля</td>\n",
              "    </tr>\n",
              "    <tr>\n",
              "      <th>1</th>\n",
              "      <td>Посол</td>\n",
              "      <td>Посол</td>\n",
              "    </tr>\n",
              "    <tr>\n",
              "      <th>2</th>\n",
              "      <td>Йоэль</td>\n",
              "      <td>Йоэль</td>\n",
              "    </tr>\n",
              "    <tr>\n",
              "      <th>3</th>\n",
              "      <td>Украине</td>\n",
              "      <td>Украине</td>\n",
              "    </tr>\n",
              "    <tr>\n",
              "      <th>4</th>\n",
              "      <td>Лион</td>\n",
              "      <td>Лион</td>\n",
              "    </tr>\n",
              "    <tr>\n",
              "      <th>...</th>\n",
              "      <td>...</td>\n",
              "      <td>...</td>\n",
              "    </tr>\n",
              "    <tr>\n",
              "      <th>79</th>\n",
              "      <td>Ющенко</td>\n",
              "      <td>NaN</td>\n",
              "    </tr>\n",
              "    <tr>\n",
              "      <th>80</th>\n",
              "      <td>Бандера</td>\n",
              "      <td>NaN</td>\n",
              "    </tr>\n",
              "    <tr>\n",
              "      <th>81</th>\n",
              "      <td>Героем</td>\n",
              "      <td>NaN</td>\n",
              "    </tr>\n",
              "    <tr>\n",
              "      <th>82</th>\n",
              "      <td>было</td>\n",
              "      <td>NaN</td>\n",
              "    </tr>\n",
              "    <tr>\n",
              "      <th>83</th>\n",
              "      <td>судом</td>\n",
              "      <td>NaN</td>\n",
              "    </tr>\n",
              "  </tbody>\n",
              "</table>\n",
              "<p>84 rows × 2 columns</p>\n",
              "</div>\n",
              "      <button class=\"colab-df-convert\" onclick=\"convertToInteractive('df-180913cd-ae81-4db4-a1dd-673f88b3eace')\"\n",
              "              title=\"Convert this dataframe to an interactive table.\"\n",
              "              style=\"display:none;\">\n",
              "        \n",
              "  <svg xmlns=\"http://www.w3.org/2000/svg\" height=\"24px\"viewBox=\"0 0 24 24\"\n",
              "       width=\"24px\">\n",
              "    <path d=\"M0 0h24v24H0V0z\" fill=\"none\"/>\n",
              "    <path d=\"M18.56 5.44l.94 2.06.94-2.06 2.06-.94-2.06-.94-.94-2.06-.94 2.06-2.06.94zm-11 1L8.5 8.5l.94-2.06 2.06-.94-2.06-.94L8.5 2.5l-.94 2.06-2.06.94zm10 10l.94 2.06.94-2.06 2.06-.94-2.06-.94-.94-2.06-.94 2.06-2.06.94z\"/><path d=\"M17.41 7.96l-1.37-1.37c-.4-.4-.92-.59-1.43-.59-.52 0-1.04.2-1.43.59L10.3 9.45l-7.72 7.72c-.78.78-.78 2.05 0 2.83L4 21.41c.39.39.9.59 1.41.59.51 0 1.02-.2 1.41-.59l7.78-7.78 2.81-2.81c.8-.78.8-2.07 0-2.86zM5.41 20L4 18.59l7.72-7.72 1.47 1.35L5.41 20z\"/>\n",
              "  </svg>\n",
              "      </button>\n",
              "      \n",
              "  <style>\n",
              "    .colab-df-container {\n",
              "      display:flex;\n",
              "      flex-wrap:wrap;\n",
              "      gap: 12px;\n",
              "    }\n",
              "\n",
              "    .colab-df-convert {\n",
              "      background-color: #E8F0FE;\n",
              "      border: none;\n",
              "      border-radius: 50%;\n",
              "      cursor: pointer;\n",
              "      display: none;\n",
              "      fill: #1967D2;\n",
              "      height: 32px;\n",
              "      padding: 0 0 0 0;\n",
              "      width: 32px;\n",
              "    }\n",
              "\n",
              "    .colab-df-convert:hover {\n",
              "      background-color: #E2EBFA;\n",
              "      box-shadow: 0px 1px 2px rgba(60, 64, 67, 0.3), 0px 1px 3px 1px rgba(60, 64, 67, 0.15);\n",
              "      fill: #174EA6;\n",
              "    }\n",
              "\n",
              "    [theme=dark] .colab-df-convert {\n",
              "      background-color: #3B4455;\n",
              "      fill: #D2E3FC;\n",
              "    }\n",
              "\n",
              "    [theme=dark] .colab-df-convert:hover {\n",
              "      background-color: #434B5C;\n",
              "      box-shadow: 0px 1px 3px 1px rgba(0, 0, 0, 0.15);\n",
              "      filter: drop-shadow(0px 1px 2px rgba(0, 0, 0, 0.3));\n",
              "      fill: #FFFFFF;\n",
              "    }\n",
              "  </style>\n",
              "\n",
              "      <script>\n",
              "        const buttonEl =\n",
              "          document.querySelector('#df-180913cd-ae81-4db4-a1dd-673f88b3eace button.colab-df-convert');\n",
              "        buttonEl.style.display =\n",
              "          google.colab.kernel.accessAllowed ? 'block' : 'none';\n",
              "\n",
              "        async function convertToInteractive(key) {\n",
              "          const element = document.querySelector('#df-180913cd-ae81-4db4-a1dd-673f88b3eace');\n",
              "          const dataTable =\n",
              "            await google.colab.kernel.invokeFunction('convertToInteractive',\n",
              "                                                     [key], {});\n",
              "          if (!dataTable) return;\n",
              "\n",
              "          const docLinkHtml = 'Like what you see? Visit the ' +\n",
              "            '<a target=\"_blank\" href=https://colab.research.google.com/notebooks/data_table.ipynb>data table notebook</a>'\n",
              "            + ' to learn more about interactive tables.';\n",
              "          element.innerHTML = '';\n",
              "          dataTable['output_type'] = 'display_data';\n",
              "          await google.colab.output.renderOutput(dataTable, element);\n",
              "          const docLink = document.createElement('div');\n",
              "          docLink.innerHTML = docLinkHtml;\n",
              "          element.appendChild(docLink);\n",
              "        }\n",
              "      </script>\n",
              "    </div>\n",
              "  </div>\n",
              "  "
            ],
            "text/plain": [
              "   original filtered\n",
              "0   Израиля  Израиля\n",
              "1     Посол    Посол\n",
              "2     Йоэль    Йоэль\n",
              "3   Украине  Украине\n",
              "4      Лион     Лион\n",
              "..      ...      ...\n",
              "79   Ющенко      NaN\n",
              "80  Бандера      NaN\n",
              "81   Героем      NaN\n",
              "82     было      NaN\n",
              "83    судом      NaN\n",
              "\n",
              "[84 rows x 2 columns]"
            ]
          },
          "metadata": {},
          "execution_count": 172
        }
      ]
    },
    {
      "cell_type": "code",
      "metadata": {
        "id": "vjPhR3oErbRJ",
        "colab": {
          "base_uri": "https://localhost:8080/"
        },
        "outputId": "65f7482c-7b6e-4612-b194-d7f4c3aec694"
      },
      "source": [
        "#task 3.1\n",
        "prepare_ents_sorted = sorted(prepare_ents, key=lambda x: x[0], reverse=False)\n",
        "print(prepare_ents_sorted)"
      ],
      "execution_count": 17,
      "outputs": [
        {
          "output_type": "stream",
          "name": "stdout",
          "text": [
            "[(0, 13, 'Name'), (17, 30, 'Name'), (17, 24, 'AddrPart'), (31, 35, 'Name'), (58, 59, 'Name'), (60, 63, 'Name'), (71, 72, 'Name'), (89, 98, 'Name'), (131, 137, 'Name'), (150, 151, 'Name'), (152, 158, 'AddrPart'), (171, 181, 'Name'), (202, 217, 'Name'), (218, 222, 'Name'), (246, 247, 'Name'), (259, 261, 'Name'), (262, 266, 'Name'), (292, 295, 'Name'), (301, 316, 'Name'), (334, 335, 'Name'), (391, 392, 'Name'), (408, 409, 'Name'), (422, 429, 'AddrPart'), (430, 432, 'Name'), (449, 450, 'Name'), (466, 477, 'Name'), (485, 495, 'Name'), (496, 502, 'Name'), (504, 505, 'Name'), (513, 520, 'Name'), (521, 523, 'Name'), (580, 588, 'Name'), (592, 599, 'Name'), (600, 609, 'Name'), (620, 625, 'Name'), (664, 665, 'Name'), (680, 695, 'Name'), (696, 697, 'Name'), (704, 705, 'Name'), (730, 732, 'Name'), (746, 752, 'Name'), (758, 765, 'Name'), (776, 782, 'Name'), (794, 795, 'Name'), (796, 800, 'Name'), (828, 839, 'Name'), (850, 855, 'Name'), (856, 857, 'Name'), (865, 871, 'Name'), (872, 873, 'Name'), (887, 888, 'Name'), (907, 922, 'Name'), (931, 938, 'Name'), (946, 951, 'Name'), (952, 959, 'AddrPart'), (971, 979, 'Name'), (980, 994, 'Name'), (1032, 1039, 'Name'), (1053, 1059, 'Name'), (1068, 1069, 'Name'), (1077, 1078, 'Name'), (1110, 1117, 'AddrPart'), (1118, 1119, 'Name'), (1135, 1139, 'Name'), (1141, 1142, 'Name'), (1176, 1181, 'Name'), (1193, 1203, 'Name'), (1217, 1231, 'Name'), (1248, 1253, 'Name'), (1254, 1256, 'Name'), (1257, 1264, 'Name'), (1277, 1287, 'Name'), (1327, 1339, 'Name'), (1367, 1368, 'Name'), (1395, 1396, 'Name'), (1407, 1408, 'Name'), (1430, 1444, 'Name'), (1445, 1452, 'Name'), (1475, 1481, 'Name'), (1482, 1489, 'AddrPart'), (1523, 1527, 'Name'), (1537, 1542, 'Name')]\n"
          ]
        }
      ]
    },
    {
      "cell_type": "code",
      "source": [
        "#task 3.2\n",
        "prepare_filtered_ents_sorted = sorted(prepare_filtered_ents, key=lambda x: x[0], reverse=False)\n",
        "print(prepare_filtered_ents_sorted)"
      ],
      "metadata": {
        "colab": {
          "base_uri": "https://localhost:8080/"
        },
        "id": "GAZIwvvxBzvo",
        "outputId": "b0c63a34-c5f1-40c9-e920-6a83ddf3591a"
      },
      "execution_count": 18,
      "outputs": [
        {
          "output_type": "stream",
          "name": "stdout",
          "text": [
            "[(0, 13, 'Name'), (17, 30, 'Name'), (17, 24, 'AddrPart'), (31, 35, 'Name'), (89, 98, 'Name'), (152, 158, 'AddrPart'), (202, 217, 'Name'), (218, 222, 'Name'), (422, 429, 'AddrPart'), (600, 609, 'Name'), (680, 695, 'Name'), (758, 765, 'Name'), (794, 795, 'Name'), (828, 839, 'Name'), (856, 857, 'Name'), (907, 922, 'Name'), (931, 938, 'Name'), (946, 951, 'Name'), (952, 959, 'AddrPart'), (980, 994, 'Name'), (1032, 1039, 'Name'), (1110, 1117, 'AddrPart'), (1217, 1231, 'Name'), (1395, 1396, 'Name'), (1430, 1444, 'Name'), (1445, 1452, 'Name'), (1475, 1481, 'Name'), (1482, 1489, 'AddrPart')]\n"
          ]
        }
      ]
    },
    {
      "cell_type": "code",
      "source": [
        "#task 4.1: get name and location\n",
        "#creating list, example: name_location = [ ('Герой', 'Украина'), ('Йоэль', 'Украина') ]\n",
        "\n",
        "def search_name(start, stop):\n",
        "  for e in filtered_ents:\n",
        "    if e.start == start and e.stop == stop:\n",
        "      if e.fact.first == None:\n",
        "        return e.fact.last\n",
        "      return e.fact.first\n",
        "\n",
        "def search_location(start, stop):\n",
        "  for e in filtered_ents:\n",
        "    if e.start == start and e.stop == stop:\n",
        "      return(e.fact.value)\n",
        "\n",
        "name_location = []\n",
        "l = len(prepare_filtered_ents_sorted)\n",
        "for index, e in enumerate(prepare_filtered_ents_sorted):\n",
        "  if e[2] == 'Name':\n",
        "    if index < (l - 1):\n",
        "      if prepare_filtered_ents_sorted[index+1][2] == 'AddrPart':\n",
        "        print(e, prepare_filtered_ents_sorted[index+1])\n",
        "        start_name = e[0]\n",
        "        end_name = e[1]\n",
        "        start_addr = prepare_filtered_ents_sorted[index+1][0]\n",
        "        end_addr = prepare_filtered_ents_sorted[index+1][1]\n",
        "        found = False\n",
        "        if start_addr >= start_name and start_addr <= end_name:\n",
        "          found = True\n",
        "        if abs(start_addr - end_name) <= 5:\n",
        "          found = True\n",
        "        if found:\n",
        "          name = search_name(start_name, end_name)\n",
        "          location = search_location(start_addr, end_addr)\n",
        "          print(name, location)\n",
        "          name_location.append((name, location))\n",
        "\n",
        "print(name_location)"
      ],
      "metadata": {
        "colab": {
          "base_uri": "https://localhost:8080/"
        },
        "id": "ITZtO7eSDyac",
        "outputId": "50ffcc53-69fa-447d-f808-ea25adaa8ef5"
      },
      "execution_count": 47,
      "outputs": [
        {
          "output_type": "stream",
          "name": "stdout",
          "text": [
            "(17, 30, 'Name') (17, 24, 'AddrPart')\n",
            "Йоэль Украине\n",
            "(89, 98, 'Name') (152, 158, 'AddrPart')\n",
            "(218, 222, 'Name') (422, 429, 'AddrPart')\n",
            "(946, 951, 'Name') (952, 959, 'AddrPart')\n",
            "Героя Украины\n",
            "(1032, 1039, 'Name') (1110, 1117, 'AddrPart')\n",
            "(1475, 1481, 'Name') (1482, 1489, 'AddrPart')\n",
            "Героем Украины\n",
            "[('Йоэль', 'Украине'), ('Героя', 'Украины'), ('Героем', 'Украины')]\n"
          ]
        }
      ]
    },
    {
      "cell_type": "code",
      "source": [
        "#task 4.1: Analyzing frequency of first names\n",
        "import pymorphy2\n",
        "morph = pymorphy2.MorphAnalyzer ()\n",
        "\n",
        "def normalize(word):\n",
        "  p = morph.parse(word)[0]\n",
        "  return p.normal_form"
      ],
      "metadata": {
        "id": "U0vyfetvjkO-"
      },
      "execution_count": 95,
      "outputs": []
    },
    {
      "cell_type": "code",
      "source": [
        "#creating dictionary which contains name and quantity then sort it\n",
        "\n",
        "names_qty = {}\n",
        "\n",
        "for e in filtered_ents:\n",
        "  if hasattr(e.fact, 'first'):\n",
        "    if e.fact.first != None:\n",
        "      if normalize(e.fact.first) in names_qty:\n",
        "        names_qty[normalize(e.fact.first)] += 1\n",
        "      else:\n",
        "        names_qty[normalize(e.fact.first)] = 1\n",
        "\n",
        "print(names_qty)\n",
        "names_qty_sorted = dict(sorted(names_qty.items(), key=lambda item: item[1], reverse=True))\n",
        "print(names_qty_sorted)"
      ],
      "metadata": {
        "colab": {
          "base_uri": "https://localhost:8080/"
        },
        "id": "uKnr6tugXMJY",
        "outputId": "f5de351c-aa64-409a-fe55-fc53f4c22c97"
      },
      "execution_count": 96,
      "outputs": [
        {
          "output_type": "stream",
          "name": "stdout",
          "text": [
            "{'израиль': 1, 'йоэль': 1, 'лион': 1, 'степан': 3, 'пётр': 1, 'рада': 1, 'виктор': 1}\n",
            "{'степан': 3, 'израиль': 1, 'йоэль': 1, 'лион': 1, 'пётр': 1, 'рада': 1, 'виктор': 1}\n"
          ]
        }
      ]
    },
    {
      "cell_type": "code",
      "source": [
        "#task 5: add extractors\n",
        "from natasha import (DatesExtractor,\n",
        "    MoneyExtractor)\n",
        "\n",
        "dates_extractor = DatesExtractor(mv)\n",
        "money_extractor = MoneyExtractor(mv)\n",
        "\n",
        "dateslist = list(dates_extractor(text))\n",
        "moneylist = list(money_extractor(text))\n",
        "datesmoneylist = dateslist + moneylist"
      ],
      "metadata": {
        "id": "D8DcOshgkGDx"
      },
      "execution_count": 67,
      "outputs": []
    },
    {
      "cell_type": "code",
      "source": [
        "prepare_dm = []\n",
        "for ent in datesmoneylist:\n",
        "  prepare_dm.append((\n",
        "      ent.start,\n",
        "      ent.stop,\n",
        "      ent.fact.__class__.__name__\n",
        "  ))"
      ],
      "metadata": {
        "id": "WXZcBQvcmweC"
      },
      "execution_count": 69,
      "outputs": []
    },
    {
      "cell_type": "code",
      "source": [
        "from ipymarkup import show_span_line_markup\n",
        "show_span_line_markup(\n",
        "    text,\n",
        "    prepare_dm\n",
        ")"
      ],
      "metadata": {
        "colab": {
          "base_uri": "https://localhost:8080/",
          "height": 448
        },
        "id": "Qq3YWsqPnj3x",
        "outputId": "abbebdae-5062-4fa7-ed2b-3e7f31f003fe"
      },
      "execution_count": 70,
      "outputs": [
        {
          "output_type": "display_data",
          "data": {
            "text/html": [
              "<div class=\"tex2jax_ignore\" style=\"white-space: pre-wrap\"><div><span style=\"display: inline-block; vertical-align: top\">Посол Израиля на Украине Йоэль Лион признался, что пришел в шок, узнав о решении</span></div><div><span style=\"display: inline-block; vertical-align: top\"> властей Львовской области объявить </span><span style=\"display: inline-block; vertical-align: top; position: relative; margin-bottom: 11px\"><span style=\"border-bottom: 3px solid #ef9a9a; padding-bottom: 8px\">2019 год</span><span style=\"font-size: 11px; line-height: 1; white-space: nowrap; text-shadow: 1px 1px 0px white; position: absolute; left: 0; bottom: -8px\">Date</span></span><span style=\"display: inline-block; vertical-align: top\"> годом лидера запрещенной в России </span></div><div><span style=\"display: inline-block; vertical-align: top\">Организации украинских националистов (ОУН) Степана Бандеры.Свое заявление он </span></div><div><span style=\"display: inline-block; vertical-align: top\">разместил в Twitter.«Я не могу понять, как прославление тех, кто непосредственно</span></div><div><span style=\"display: inline-block; vertical-align: top\"> принимал участие в ужасных антисемитских преступлениях, помогает бороться с </span></div><div><span style=\"display: inline-block; vertical-align: top\">антисемитизмом и ксенофобией.Украина не должна забывать о преступлениях, </span></div><div><span style=\"display: inline-block; vertical-align: top\">совершенных против украинских евреев, и никоим образом не отмечать их через </span></div><div><span style=\"display: inline-block; vertical-align: top\">почитание их исполнителей», — написал дипломат.</span><span style=\"display: inline-block; vertical-align: top; position: relative; margin-bottom: 11px\"><span style=\"border-bottom: 3px solid #ef9a9a; padding-bottom: 8px\">11 декабря</span><span style=\"font-size: 11px; line-height: 1; white-space: nowrap; text-shadow: 1px 1px 0px white; position: absolute; left: 0; bottom: -8px\">Date</span></span><span style=\"display: inline-block; vertical-align: top\"> Львовский областной </span></div><div><span style=\"display: inline-block; vertical-align: top\">совет принял решение провозгласить </span><span style=\"display: inline-block; vertical-align: top; position: relative; margin-bottom: 11px\"><span style=\"border-bottom: 3px solid #ef9a9a; padding-bottom: 8px\">2019 год</span><span style=\"font-size: 11px; line-height: 1; white-space: nowrap; text-shadow: 1px 1px 0px white; position: absolute; left: 0; bottom: -8px\">Date</span></span><span style=\"display: inline-block; vertical-align: top\"> в регионе годом Степана Бандеры в </span></div><div><span style=\"display: inline-block; vertical-align: top\">связи с празднованием 110-летия со дня рождения лидера ОУН (Бандера родился </span><span style=\"display: inline-block; vertical-align: top; position: relative; margin-bottom: 11px\"><span style=\"border-bottom: 3px solid #ef9a9a; padding-bottom: 8px\">1 </span><span style=\"font-size: 11px; line-height: 1; white-space: nowrap; text-shadow: 1px 1px 0px white; position: absolute; left: 0; bottom: -8px\">Date</span></span><span style=\"display: inline-block; vertical-align: top\"></span></div><div><span style=\"display: inline-block; vertical-align: top\"></span><span style=\"display: inline-block; vertical-align: top; position: relative; margin-bottom: 11px\"><span style=\"border-bottom: 3px solid #ef9a9a; padding-bottom: 8px\">января 1909 года</span></span><span style=\"display: inline-block; vertical-align: top\">).В июле аналогичное решение принял Житомирский областной </span></div><div><span style=\"display: inline-block; vertical-align: top\">совет.В начале месяца с предложением к президенту страны Петру Порошенко вернуть</span></div><div><span style=\"display: inline-block; vertical-align: top\"> Бандере звание Героя Украины обратились депутаты Верховной Рады.Парламентарии </span></div><div><span style=\"display: inline-block; vertical-align: top\">уверены, что признание Бандеры национальным героем поможет в борьбе с подрывной </span></div><div><span style=\"display: inline-block; vertical-align: top\">деятельностью против Украины в информационном поле, а также остановит </span></div><div><span style=\"display: inline-block; vertical-align: top\">«распространение мифов, созданных российской пропагандой».Степан Бандера </span></div><div><span style=\"display: inline-block; vertical-align: top\">(1909-1959) был одним из лидеров Организации украинских националистов, </span></div><div><span style=\"display: inline-block; vertical-align: top\">выступающей за создание независимого государства на территориях с украиноязычным</span></div><div><span style=\"display: inline-block; vertical-align: top\"> населением.В </span><span style=\"display: inline-block; vertical-align: top; position: relative; margin-bottom: 11px\"><span style=\"border-bottom: 3px solid #ef9a9a; padding-bottom: 8px\">2010 году</span><span style=\"font-size: 11px; line-height: 1; white-space: nowrap; text-shadow: 1px 1px 0px white; position: absolute; left: 0; bottom: -8px\">Date</span></span><span style=\"display: inline-block; vertical-align: top\"> в период президентства Виктора Ющенко Бандера был </span></div><div><span style=\"display: inline-block; vertical-align: top\">посмертно признан Героем Украины, однако впоследствии это решение было отменено </span></div><div><span style=\"display: inline-block; vertical-align: top\">судом.</span></div></div>"
            ],
            "text/plain": [
              "<IPython.core.display.HTML object>"
            ]
          },
          "metadata": {}
        }
      ]
    },
    {
      "cell_type": "code",
      "source": [
        "#filtering and structuring rules are not needed, works fine"
      ],
      "metadata": {
        "id": "0dUSTdZBttLP"
      },
      "execution_count": null,
      "outputs": []
    },
    {
      "cell_type": "markdown",
      "metadata": {
        "id": "z8VA-3N_rXeI"
      },
      "source": [
        "## Задание\n",
        "1. Отсмотрев результаты извлечения, написать правила фильтрации ложно-положительных сущностей - 1.5 балла\n",
        "\n",
        "2. Визуализировать на N примерах до и после (при этом сравнивать результаты должно быть просто и на глаз) - 1 балл\n",
        "\n",
        "3. Написать функцию сортировки списка сущностей:\n",
        "\n",
        "*   использовать полный перебор в дальнейшем  - 0 баллов\n",
        "*   python sort + lambda - 1 балл\n",
        "*   custom sort - 3 балла\n",
        "\n",
        "4. Написать правила (минимум 2) по извлечению структурированной информации, (например: имя - локация) - 2 балла\n",
        "\n",
        "5. Добавить еще экстраткоры из наташи (минимум +2 экстратора) и дописать правила фильтрации (если нужны) и правила структурирования - 1.5 балла\n",
        "\n",
        "6. Оценить по сложности, написанные алгоритмы и весь пайплайн в целом - 1 балл\n",
        "\n",
        "7. Ускорить и показать ускорение - 2 балла\n",
        "\n",
        "\n"
      ]
    }
  ]
}