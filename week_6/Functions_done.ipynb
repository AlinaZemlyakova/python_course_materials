{
  "cells": [
    {
      "cell_type": "markdown",
      "metadata": {
        "id": "dhbkOCV-yWsR"
      },
      "source": [
        "\n",
        "# Устройство функций в Python. \n",
        "# Написание простейших функций. \n",
        "Lambda-функции. Функция map(). Написание сложных функций. Декораторы, Генераторы, Рекурсия."
      ]
    },
    {
      "cell_type": "markdown",
      "metadata": {
        "id": "ELNdGBkCyWsX"
      },
      "source": [
        "### Что такое функция в Python?\n",
        "\n",
        "По своей сути функции в Python практически ничем не отличаются от функций из других языков программирования. Функцией называют именованный фрагмент программного кода, к которому можно обратиться из другого места вашей программы (но есть lambda-функции, у которых нет имени, о них будет рассказано в конце урока). Как правило, функции создаются для работы с данными, которые передаются ей в качестве аргументов, также функция может формировать некоторое возвращаемое значение. "
      ]
    },
    {
      "cell_type": "markdown",
      "metadata": {
        "id": "mPdeqQDLyWsb"
      },
      "source": [
        "### Объявляя функцию, нужно следовать определенным правилам:\n",
        "\n",
        "Объявление происходит с помощью ключевого слова **def**, за ним идёт имя функции и круглые скобки ().\n",
        "\n",
        "**Аргументы**, передаваемые в функцию, должны находится в круглых скобках. Там же можно определить их значения по умолчанию, указав их после знака равно.\n",
        "\n",
        "Перед основным содержимым желательно включить **строку документации** (docstring), которая обычно описывает назначение  и основные принципы работы функции.\n",
        "\n",
        "**Тело функции** начинается после знака двоеточия. Важно не забыть об отступах.\n",
        "\n",
        "Чтобы выйти из функции в Python, используют оператор **return [значение]**. Если оператор опущен, будет возвращено значение None.\n",
        "\n",
        "Функцию можно объявить где угодно: внутри модуля, класса или другой функции. Если она объявляет внутри класса, то называется методом класса и вызывается так: *class_name.function()*."
      ]
    },
    {
      "cell_type": "code",
      "execution_count": null,
      "metadata": {
        "id": "4ZGqovfcyWsf",
        "outputId": "9c944bf5-5f64-47dd-a27e-1838adcd1193"
      },
      "outputs": [
        {
          "data": {
            "text/plain": [
              "'ASDF'"
            ]
          },
          "execution_count": 1,
          "metadata": {},
          "output_type": "execute_result"
        }
      ],
      "source": [
        "'asdf'.upper()"
      ]
    },
    {
      "cell_type": "code",
      "execution_count": null,
      "metadata": {
        "id": "qRIN5DjfyWsl"
      },
      "outputs": [],
      "source": [
        "def Имя(аргументы):\n",
        "    '''Документация\n",
        "    '''\n",
        "    Тело (инструкции)\n",
        "    return [значение]"
      ]
    },
    {
      "cell_type": "markdown",
      "metadata": {
        "id": "LlwWyty2yWso"
      },
      "source": [
        "На самом деле мы уже использовали огромное количество функций и методов (str(), float(), .add(), .count() и так далее). \n",
        "\n",
        "Попробуем самостоятельно реализовать функцию, складывающую два числа и выводящую результат на печать:"
      ]
    },
    {
      "cell_type": "code",
      "execution_count": null,
      "metadata": {
        "id": "opZ05l2byWsq"
      },
      "outputs": [],
      "source": [
        "def summarize(a, b):\n",
        "    summ = a + b\n",
        "    print(summ)\n",
        "    return # вернёт None "
      ]
    },
    {
      "cell_type": "markdown",
      "metadata": {
        "id": "D2wKZqFjyWst"
      },
      "source": [
        "Теперь эту функцию в любом месте кода можно вызвать:"
      ]
    },
    {
      "cell_type": "code",
      "execution_count": null,
      "metadata": {
        "id": "4jYq83JpyWsx",
        "outputId": "564bbe51-738b-4437-8bed-bdaed1eb84fa"
      },
      "outputs": [
        {
          "name": "stdout",
          "output_type": "stream",
          "text": [
            "3\n"
          ]
        }
      ],
      "source": [
        "x = summarize(1, 2)"
      ]
    },
    {
      "cell_type": "code",
      "execution_count": null,
      "metadata": {
        "id": "24cp6yXdyWs1"
      },
      "outputs": [],
      "source": [
        "x"
      ]
    },
    {
      "cell_type": "code",
      "execution_count": null,
      "metadata": {
        "id": "IfN58aqFyWs5",
        "outputId": "dab0309f-4600-4a89-8a24-df1f5e5037b2"
      },
      "outputs": [
        {
          "data": {
            "text/plain": [
              "NoneType"
            ]
          },
          "execution_count": 5,
          "metadata": {},
          "output_type": "execute_result"
        }
      ],
      "source": [
        "type(x)"
      ]
    },
    {
      "cell_type": "markdown",
      "metadata": {
        "id": "Q2zEE4rCyWs8"
      },
      "source": [
        "А еще можно подать функцию в качестве аргумента для другой функции или записать ее в переменную:"
      ]
    },
    {
      "cell_type": "code",
      "execution_count": null,
      "metadata": {
        "id": "cAu3WlvvyWs_",
        "outputId": "f81874bf-bc56-4db1-ea56-c8d666d1a359"
      },
      "outputs": [
        {
          "name": "stdout",
          "output_type": "stream",
          "text": [
            "None\n",
            "None\n"
          ]
        }
      ],
      "source": [
        "def summ(a =2 , b=2):\n",
        "    summ = a + b\n",
        "#     return summ # вернёт сумму\n",
        "\n",
        "c = summ(4, 3) # переменная c будет равна возвращаемому значению\n",
        "\n",
        "\n",
        "print(c)\n",
        "print(summ()) # можно передать значения в аргументы другой функции\n"
      ]
    },
    {
      "cell_type": "code",
      "execution_count": null,
      "metadata": {
        "id": "BMvtjQWyyWtC"
      },
      "outputs": [],
      "source": [
        "def summ(a ='string'):\n",
        "    a = a+'dfghjmk,'\n",
        "    return a.swapcase()\n",
        "    "
      ]
    },
    {
      "cell_type": "code",
      "execution_count": null,
      "metadata": {
        "id": "VoJW2yo8yWtD",
        "outputId": "801532e7-3d24-4fcf-d2f3-d79eeba8cc60"
      },
      "outputs": [
        {
          "data": {
            "text/plain": [
              "'STRINGDFGHJMK,'"
            ]
          },
          "execution_count": 14,
          "metadata": {},
          "output_type": "execute_result"
        }
      ],
      "source": [
        "summ()"
      ]
    },
    {
      "cell_type": "markdown",
      "metadata": {
        "id": "77k-L1SvyWuE"
      },
      "source": [
        "При описании функции в *Python 3* можно задать аргументы с какими-либо начальными значениями, такие аргументы являются \"необязательными\". Вначале нужно описывать обязательные параметры, а после них – необязательные.\n",
        "При вызове функции не обязательно указывать значения \"необязательных\" параметров (спасибо, кэп). Если мы хотим изменить значение аргумента, не меняя начальные значения других аргументов, можно обращаться к нему по ключу."
      ]
    },
    {
      "cell_type": "code",
      "execution_count": null,
      "metadata": {
        "id": "KOjKLCJTyWvW",
        "outputId": "e5ba77f9-768f-402a-83bc-af5f00cc6644"
      },
      "outputs": [
        {
          "name": "stdout",
          "output_type": "stream",
          "text": [
            "my string\n",
            "3\n",
            "5\n"
          ]
        }
      ],
      "source": [
        "def example(first, second=3, third=5):\n",
        "    print(first)\n",
        "    print(second)\n",
        "    print(third)\n",
        "    \n",
        "example('my string')"
      ]
    },
    {
      "cell_type": "code",
      "execution_count": null,
      "metadata": {
        "id": "Ghqfns3LyWve",
        "outputId": "ee474af1-2e44-44e6-bc29-18f6a0dfc4c2"
      },
      "outputs": [
        {
          "name": "stdout",
          "output_type": "stream",
          "text": [
            "my string\n",
            "dfgh\n",
            "5\n"
          ]
        }
      ],
      "source": [
        "example('my string',second='dfgh')"
      ]
    },
    {
      "cell_type": "markdown",
      "metadata": {
        "id": "tEiXX1ksyWvk"
      },
      "source": [
        "А еще функция может быть пустой и ничего не делать. Выглядит это так:"
      ]
    },
    {
      "cell_type": "code",
      "execution_count": null,
      "metadata": {
        "id": "3TlhEhGkyWvy"
      },
      "outputs": [],
      "source": [
        "def foo():\n",
        "    pass #Оператор-заглушка, равноценный отсутствию операции."
      ]
    },
    {
      "cell_type": "code",
      "execution_count": null,
      "metadata": {
        "id": "DcyayXGAyWv0",
        "outputId": "decd0633-1d22-4570-85a2-1c8eddaa5761"
      },
      "outputs": [
        {
          "data": {
            "text/plain": [
              "NoneType"
            ]
          },
          "execution_count": 19,
          "metadata": {},
          "output_type": "execute_result"
        }
      ],
      "source": [
        "x = foo()\n",
        "type(x)"
      ]
    },
    {
      "cell_type": "markdown",
      "metadata": {
        "id": "w0OqUERJyWv4"
      },
      "source": [
        "А что если параметров у функции несколько, но только мы не знаем, сколько. Например, мы хотим складывать числа, которые пользователь вводит с клавиатуры, но мы заранее не знаем, сколько чисел он собирается ввести. Уже несколько раз мы упоминали такое понятие, как \"распаковка\" списков, кортежей и словарей (когда записывается что-то в духе \\*list_name или \\*\\*dictionary_name). "
      ]
    },
    {
      "cell_type": "markdown",
      "metadata": {
        "id": "8w78cXoryWv6"
      },
      "source": [
        "## Напоминание:\n",
        "Если мы хотим сожержимое двух списков положить в третий список или содержимое двух словарей положить в третий словарь, на помощь нам приходит так называемый \"звездочный синтаксис\":"
      ]
    },
    {
      "cell_type": "code",
      "execution_count": null,
      "metadata": {
        "id": "OW4OhBgRyWv9",
        "outputId": "758bfa66-5a9d-4c62-a095-078d39156ee2"
      },
      "outputs": [
        {
          "data": {
            "text/plain": [
              "[1, 2, 3, 4, 5, 6]"
            ]
          },
          "execution_count": 17,
          "metadata": {},
          "output_type": "execute_result"
        }
      ],
      "source": [
        "list1 = [1,2,3]\n",
        "list2 = [4,5,6]\n",
        "\n",
        "list3 = [*list1,*list2] ##положили все элементы обоих списков в третий\n",
        "list3"
      ]
    },
    {
      "cell_type": "code",
      "execution_count": null,
      "metadata": {
        "id": "eE-QJJo7yWwC",
        "outputId": "59913177-de5c-4be0-a411-b7ed307b2ad3"
      },
      "outputs": [
        {
          "data": {
            "text/plain": [
              "{'a': 4, 'b': 2, 'c': 3, 'e': 5, 'f': 6}"
            ]
          },
          "execution_count": 20,
          "metadata": {},
          "output_type": "execute_result"
        }
      ],
      "source": [
        "dict1 = {'a':1,'b':2,'c':3}\n",
        "dict2 = {'a':4,'e':5,'f':6}\n",
        "\n",
        "dict3 = {**dict1,**dict2} ##положили все элементы обоих словарей в третий\n",
        "dict3"
      ]
    },
    {
      "cell_type": "markdown",
      "metadata": {
        "id": "81AAZcRCyWwI"
      },
      "source": [
        "Точно таким же образом можно что-то указать \"в явном виде\", а что-то распаковать из структуры (например, вы хотите дописать в новый список числа 3 и 4):"
      ]
    },
    {
      "cell_type": "code",
      "execution_count": null,
      "metadata": {
        "id": "TEnNOy--yWwK",
        "outputId": "f7486694-5e57-4fa5-c0e2-a84b6af3e7c0"
      },
      "outputs": [
        {
          "name": "stdout",
          "output_type": "stream",
          "text": [
            "[3, 4, [0, 1, 2]]\n",
            "[3, 4, 0, 1, 2]\n"
          ]
        }
      ],
      "source": [
        "list1 = [0,1,2]\n",
        "print([3,4,list1]) # тут элементом стал сам список\n",
        "print([3,4,*list1]) # а тут мы элементы списка распаковали"
      ]
    },
    {
      "cell_type": "markdown",
      "metadata": {
        "id": "Dbt_8SwnyWwO"
      },
      "source": [
        "### В функции точно так же можно подавать несколько аргументов!\n",
        "Даже если вы заранее не знаете, сколько их будет. Вспомните, например, функцию print(). Она умеет давать ответ и при одном аргументе, и при двух и при любом N."
      ]
    },
    {
      "cell_type": "code",
      "execution_count": null,
      "metadata": {
        "id": "TtLLOieOyWwP",
        "outputId": "1d4aad58-1a13-4d36-fe98-57e28e8720b9"
      },
      "outputs": [
        {
          "name": "stdout",
          "output_type": "stream",
          "text": [
            "sum: 35\n"
          ]
        }
      ],
      "source": [
        "def adder(x, y, z):\n",
        "    print(\"sum:\",x + y + z)\n",
        "\n",
        "adder(10, 12, 13)"
      ]
    },
    {
      "cell_type": "code",
      "execution_count": null,
      "metadata": {
        "id": "eSWON3RWyWwT",
        "outputId": "23903f0e-cb82-470e-fedb-8c5eff994a2f"
      },
      "outputs": [
        {
          "name": "stdout",
          "output_type": "stream",
          "text": [
            "1 2 3\n"
          ]
        }
      ],
      "source": [
        "print(1,2,3)"
      ]
    },
    {
      "cell_type": "markdown",
      "metadata": {
        "id": "eUH9n-G_yWwU"
      },
      "source": [
        "### \\*args и \\*\\*kwargs спешат на помощь\n",
        "В Python можно передать переменное количество аргументов двумя способами:\n",
        "\n",
        "* \\*args для неименованных аргументов;\n",
        "* \\*\\*kwargs для именованных аргументов.\n",
        "Мы используем \\*args и \\*\\*kwargs в качестве аргумента, когда заранее не известно, сколько значений мы хотим передать функции."
      ]
    },
    {
      "cell_type": "markdown",
      "metadata": {
        "id": "REs_2QWvyWwX"
      },
      "source": [
        "### \\*args\n",
        "Как было сказано, \\*args нужен, когда мы хотим передать неизвестное количество неименованных аргументов. Если поставить * перед именем, это имя будет принимать не один аргумент, а несколько. Аргументы передаются как кортеж и доступны внутри функции под тем же именем, что и имя параметра, только без *."
      ]
    },
    {
      "cell_type": "code",
      "execution_count": null,
      "metadata": {
        "id": "qKOs-b5byWwa"
      },
      "outputs": [],
      "source": [
        ""
      ]
    },
    {
      "cell_type": "code",
      "execution_count": null,
      "metadata": {
        "id": "RaIsEw3_yWwb"
      },
      "outputs": [],
      "source": [
        "# a,b,c,d,e = [1,2,3,4,5]"
      ]
    },
    {
      "cell_type": "code",
      "execution_count": null,
      "metadata": {
        "id": "OoiQzRz1yWwl",
        "outputId": "e57576b0-913f-4c8e-c43d-138adc105eb3"
      },
      "outputs": [
        {
          "name": "stdout",
          "output_type": "stream",
          "text": [
            "Sum:  8\n",
            "Sum:  22\n",
            "Sum:  17\n"
          ]
        }
      ],
      "source": [
        "def adder(*nums):\n",
        "    summ = 0\n",
        "    for n in nums:\n",
        "        summ += n\n",
        "\n",
        "    print(\"Sum: \", summ)\n",
        "\n",
        "adder(3, 5)\n",
        "adder(4, 5, 6, 7)\n",
        "adder(1, 2, 3, 5, 6)"
      ]
    },
    {
      "cell_type": "markdown",
      "metadata": {
        "id": "Igramke1yWwn"
      },
      "source": [
        "### \\*\\*kwargs\n",
        "По аналогии с \\*args мы используем \\*\\*kwargs для передачи переменного количества именованных аргументов. Схоже с \\*args, если поставить ** перед именем, это имя будет принимать любое количество именованных аргументов. Кортеж/словарь из нескольких переданных аргументов будет доступен под этим именем. Например:"
      ]
    },
    {
      "cell_type": "code",
      "execution_count": null,
      "metadata": {
        "id": "B3JLGmb9yWwq",
        "outputId": "bcd03742-188d-4e66-c3e3-1f116ac0152d"
      },
      "outputs": [
        {
          "name": "stdout",
          "output_type": "stream",
          "text": [
            "\n",
            "Data type of argument:  <class 'dict'>\n",
            "Firstname is Yoko\n",
            "Lastname is Ono\n",
            "Age is 87\n",
            "Phone is 1234567890\n",
            "\n",
            "Data type of argument:  <class 'dict'>\n",
            "Firstname is John\n",
            "Lastname is Lennon\n",
            "Email is johnlennon@nomail.com\n",
            "Country is UK\n",
            "Age is 40\n",
            "Phone is 9876543210\n"
          ]
        }
      ],
      "source": [
        "def intro(**data):\n",
        "    print(\"\\nData type of argument: \",type(data))\n",
        "\n",
        "    for key, value in data.items():\n",
        "        print(\"{} is {}\".format(key, value))\n",
        "\n",
        "intro(Firstname=\"Yoko\", Lastname=\"Ono\", Age=87, Phone=1234567890)\n",
        "intro(Firstname=\"John\", Lastname=\"Lennon\", Email=\"johnlennon@nomail.com\", Country=\"UK\", Age=40, Phone=9876543210)"
      ]
    },
    {
      "cell_type": "markdown",
      "metadata": {
        "id": "y3ibFoWwyWws"
      },
      "source": [
        "В этом случае у нас есть функция **intro()** с параметром \\*\\*data. В функцию мы передали два словаря разной длины. Затем внутри функции мы прошлись в цикле по словарям, чтобы вывести их содержимое."
      ]
    },
    {
      "cell_type": "markdown",
      "metadata": {
        "id": "WKRaWebMyWwt"
      },
      "source": [
        "### Локальные и глобальные переменные aka Области видимости\n",
        "\n",
        "#### Локальные переменные\n",
        "Для создания переменных, обладающих локальной областью видимости, необходимо всего лишь поместить их в отдельный блок кода, изолированный от остальной программы. Например, у нас таким свойством обладают все переменные, которые мы прежде использовали в функциях, например:"
      ]
    },
    {
      "cell_type": "code",
      "execution_count": null,
      "metadata": {
        "id": "ZjDkxKqTyWwv",
        "outputId": "4f34d655-f8fe-43a3-c18e-b6036e2d09cc"
      },
      "outputs": [
        {
          "name": "stdout",
          "output_type": "stream",
          "text": [
            "6\n"
          ]
        },
        {
          "ename": "NameError",
          "evalue": "name 'output' is not defined",
          "output_type": "error",
          "traceback": [
            "\u001b[0;31m---------------------------------------------------------------------------\u001b[0m",
            "\u001b[0;31mNameError\u001b[0m                                 Traceback (most recent call last)",
            "\u001b[0;32m<ipython-input-27-69593f31f53f>\u001b[0m in \u001b[0;36m<module>\u001b[0;34m\u001b[0m\n\u001b[1;32m      5\u001b[0m \u001b[0;34m\u001b[0m\u001b[0m\n\u001b[1;32m      6\u001b[0m \u001b[0mprint\u001b[0m\u001b[0;34m(\u001b[0m\u001b[0mf\u001b[0m\u001b[0;34m(\u001b[0m\u001b[0;36m4\u001b[0m\u001b[0;34m)\u001b[0m\u001b[0;34m)\u001b[0m\u001b[0;34m\u001b[0m\u001b[0;34m\u001b[0m\u001b[0m\n\u001b[0;32m----> 7\u001b[0;31m \u001b[0mprint\u001b[0m\u001b[0;34m(\u001b[0m\u001b[0moutput\u001b[0m\u001b[0;34m)\u001b[0m\u001b[0;34m\u001b[0m\u001b[0;34m\u001b[0m\u001b[0m\n\u001b[0m",
            "\u001b[0;31mNameError\u001b[0m: name 'output' is not defined"
          ]
        }
      ],
      "source": [
        "def f(x):\n",
        "    output = x+1\n",
        "    output2 = output + 1\n",
        "    return output2\n",
        "\n",
        "print(f(4))\n",
        "print(output)"
      ]
    },
    {
      "cell_type": "markdown",
      "metadata": {
        "id": "yS4f79UDyWwx"
      },
      "source": [
        "Функция у нас сработала, а вот переменную за пределами функции мы не видим. А что если мы попробуем изнутри функции использовать переменную, определенную вовне?"
      ]
    },
    {
      "cell_type": "code",
      "execution_count": null,
      "metadata": {
        "id": "7b5FfuagyWwz",
        "outputId": "d486f0c5-b4b1-4063-a0d5-2622bb4eccbe"
      },
      "outputs": [
        {
          "name": "stdout",
          "output_type": "stream",
          "text": [
            "11\n"
          ]
        }
      ],
      "source": [
        "x = 11\n",
        "\n",
        "def foo(z):\n",
        "    print(x)\n",
        "    return None\n",
        "\n",
        "foo(10)"
      ]
    },
    {
      "cell_type": "markdown",
      "metadata": {
        "id": "gerEP12AyWw3"
      },
      "source": [
        "Сработало! Более того - все переменные, объявленные \"в более широкой области видимости\" всегда доступны \"в более узкой области видимости\". Попробуем завернуть несколько функций друг в друга и взглянуть на значения:"
      ]
    },
    {
      "cell_type": "code",
      "execution_count": null,
      "metadata": {
        "id": "eYdmCcsayWw4",
        "outputId": "d66c8f0d-db94-42ea-935e-0221eed88a0c"
      },
      "outputs": [
        {
          "data": {
            "text/plain": [
              "100"
            ]
          },
          "execution_count": 32,
          "metadata": {},
          "output_type": "execute_result"
        }
      ],
      "source": [
        "def f1():\n",
        "    x = 100\n",
        "    def f2():\n",
        "        x = 200\n",
        "    f2()\n",
        "    return x\n",
        "f1()"
      ]
    },
    {
      "cell_type": "markdown",
      "metadata": {
        "id": "-H0UT_QZyWw_"
      },
      "source": [
        "Выведено было значение с \"самого высокого уровня\"."
      ]
    },
    {
      "cell_type": "markdown",
      "metadata": {
        "id": "lgamz9whyWxq"
      },
      "source": [
        "Если нам все-таки нужно использовать значение переменной \"изнутри\" функции, можно сказать , что мы объявляем глобальную переменную. Для этого используется выражение **global**"
      ]
    },
    {
      "cell_type": "code",
      "execution_count": null,
      "metadata": {
        "id": "yUizz_O3yWxw",
        "outputId": "e2c0b3a5-a061-48f3-a321-882b43167394"
      },
      "outputs": [
        {
          "name": "stdout",
          "output_type": "stream",
          "text": [
            "I am looking for a course in Paris!\n",
            "Only in spring, but London is great as well!\n",
            "Only in spring, but London is great as well!\n"
          ]
        }
      ],
      "source": [
        "def f():\n",
        "    global s\n",
        "    print(s)\n",
        "    s = \"Only in spring, but London is great as well!\"\n",
        "    print(s)\n",
        "\n",
        "\n",
        "s = \"I am looking for a course in Paris!\" \n",
        "f()\n",
        "print(s)"
      ]
    },
    {
      "cell_type": "markdown",
      "metadata": {
        "id": "RZYUDB2KyWx0"
      },
      "source": [
        "Здесь мы вызвали функцию и она перезаписала нам значение в переменную s"
      ]
    },
    {
      "cell_type": "markdown",
      "metadata": {
        "id": "bCJwJrVwyWx3"
      },
      "source": [
        "В Python 3 есть еще один тип переменных, который позволяет использовать значение внутри областей видимости, но не выносить их в глобальную область. Это так называемые **nonlocal** переменные."
      ]
    },
    {
      "cell_type": "code",
      "execution_count": null,
      "metadata": {
        "id": "F7bpnrHeyWx5",
        "outputId": "f89ec0ae-ce4d-40a6-c33a-67749edffbf1"
      },
      "outputs": [
        {
          "name": "stdout",
          "output_type": "stream",
          "text": [
            "before ff Frankfurt am Maine\n",
            "Before calling g: Munich\n",
            "Calling g now:\n",
            "After calling g: Zurich\n",
            "after ff Frankfurt am Maine\n",
            "'city' in main: Stuttgart\n"
          ]
        }
      ],
      "source": [
        "def f():\n",
        "    city = \"Frankfurt am Maine\"\n",
        "    def ff():\n",
        "        city = \"Munich\"\n",
        "        def g():\n",
        "            nonlocal city\n",
        "            city = \"Zurich\"\n",
        "        print(\"Before calling g: \" + city)\n",
        "        print(\"Calling g now:\")\n",
        "        g()\n",
        "        print(\"After calling g: \" + city)\n",
        "    print('before ff', city)\n",
        "    ff()\n",
        "    print('after ff', city)\n",
        "    \n",
        "    \n",
        "city = \"Stuttgart\"\n",
        "f()\n",
        "print(\"'city' in main: \" + city)"
      ]
    },
    {
      "cell_type": "markdown",
      "metadata": {
        "id": "xjtBrCLOyWx7"
      },
      "source": [
        "Видно, что в глобальную область видимости Цюрих не доехал, но в локальной он переехал со 1го уровня вложенности в функцию f :)"
      ]
    },
    {
      "cell_type": "markdown",
      "metadata": {
        "id": "65HtWnHkyWx9"
      },
      "source": [
        "### Lambda-функции\n",
        "Это особый вид функций, которые объявляются с помощью ключевого слова **lambda** вместо **def**:\n",
        "Лямбда-функции принимают любое количество аргументов, но не могут содержать несколько выражений и всегда возвращают только одно значение.\n",
        "В программировании на **Python** можно обойтись без анонимных функций, которые по сути являются обычными, но без имени и с ограничением в одно выражение. Однако их использование в нужных местах упрощает написание и восприятие кода. Пишется так:\n",
        "\n",
        "* lambda arguments: expression\n",
        "\n",
        "arguments - аргументы, expression - выражение, возвращающее значение.\n",
        "\n",
        "Пример (lambda функция, которая добавляет к переданному аргументу 1 и возвращает результат):"
      ]
    },
    {
      "cell_type": "code",
      "execution_count": null,
      "metadata": {
        "id": "AUCZu8cTyWyC",
        "outputId": "3c708919-881a-4ed4-e05e-efb4d51fc175"
      },
      "outputs": [
        {
          "data": {
            "text/plain": [
              "[0, 1, 2, 3, 4, 5, 6, 7, 8]"
            ]
          },
          "execution_count": 36,
          "metadata": {},
          "output_type": "execute_result"
        }
      ],
      "source": [
        "add_1 = lambda x: [i for i in range(x + 1)]\n",
        "add_1(8) "
      ]
    },
    {
      "cell_type": "markdown",
      "metadata": {
        "id": "FtOU0zZzyWyU"
      },
      "source": [
        "А если мы вдруг решили сложить два числа, то это тоже можно сделать с помощью лямбда-функции:"
      ]
    },
    {
      "cell_type": "code",
      "execution_count": null,
      "metadata": {
        "id": "DlbCRi8nyWyY",
        "outputId": "b96cc68e-45e9-4cb2-8334-51084d3864e4"
      },
      "outputs": [
        {
          "data": {
            "text/plain": [
              "7"
            ]
          },
          "execution_count": 33,
          "metadata": {},
          "output_type": "execute_result"
        }
      ],
      "source": [
        "add_2 = lambda x, y: x + y\n",
        "add_2(3, 4)"
      ]
    },
    {
      "cell_type": "markdown",
      "metadata": {
        "id": "AKT3N13zyWyo"
      },
      "source": [
        "Заработало! А если по-другому назвать аргументы?"
      ]
    },
    {
      "cell_type": "code",
      "execution_count": null,
      "metadata": {
        "id": "fsfNJMqJyWyq"
      },
      "outputs": [],
      "source": [
        "def aa(x):\n",
        "    if x>0:\n",
        "        return x+5\n",
        "    else:\n",
        "        return 'foo'"
      ]
    },
    {
      "cell_type": "code",
      "execution_count": null,
      "metadata": {
        "id": "lXbxJKNuyWyr",
        "outputId": "d1080303-aa1b-4a0c-bf2c-de0cbc9fc8a8"
      },
      "outputs": [
        {
          "data": {
            "text/plain": [
              "7"
            ]
          },
          "execution_count": 34,
          "metadata": {},
          "output_type": "execute_result"
        }
      ],
      "source": [
        "add_2 = lambda f123, er45: f123 + er45\n",
        "add_2(3, 4)"
      ]
    },
    {
      "cell_type": "markdown",
      "metadata": {
        "id": "UlQoNVlwyWys"
      },
      "source": [
        "Во всех трех примерах мы все-таки присвоили имя каждой из функций. Давайте попробуем вызвать функцию по-настоящему анонимно. Аргументы передаются в скобках после скобок, содержащих определение lambda функции"
      ]
    },
    {
      "cell_type": "code",
      "execution_count": null,
      "metadata": {
        "id": "IJ-84V-QyWy5",
        "outputId": "97e40040-a2da-4a26-a41f-b696adf47e89"
      },
      "outputs": [
        {
          "data": {
            "text/plain": [
              "15"
            ]
          },
          "execution_count": 39,
          "metadata": {},
          "output_type": "execute_result"
        }
      ],
      "source": [
        "(lambda x, y: x * y)(3, 5)"
      ]
    },
    {
      "cell_type": "markdown",
      "metadata": {
        "id": "07hO6BdLyWy8"
      },
      "source": [
        "По сути, лямбда-функции умеют все, что и обычные функции, только они обязаны возвращать всего одно значение. \n",
        "* Они умеют работать с разными типами данных (Строками, например)\n",
        "* Можно вызывать функцию без параметров\n",
        "* Параметрам функции можно задать значения по умолчанию"
      ]
    },
    {
      "cell_type": "code",
      "execution_count": null,
      "metadata": {
        "id": "DnXaI3KXyWy9",
        "outputId": "721766ce-ccc9-41de-e64c-66ecaf7d3366"
      },
      "outputs": [
        {
          "data": {
            "text/plain": [
              "'Ха-Ха-Ха-'"
            ]
          },
          "execution_count": 36,
          "metadata": {},
          "output_type": "execute_result"
        }
      ],
      "source": [
        "# Со строками\n",
        "(lambda x, y: x * y)(\"Ха-\",3)\n"
      ]
    },
    {
      "cell_type": "code",
      "execution_count": null,
      "metadata": {
        "id": "1QvGtsYlyWzA",
        "outputId": "bf14846d-5e28-49ee-f5e6-49f7e6597e61"
      },
      "outputs": [
        {
          "data": {
            "text/plain": [
              "'ПерваяВторая'"
            ]
          },
          "execution_count": 41,
          "metadata": {},
          "output_type": "execute_result"
        }
      ],
      "source": [
        "(lambda x, y: x + y)(\"Первая\",\"Вторая\")"
      ]
    },
    {
      "cell_type": "code",
      "execution_count": null,
      "metadata": {
        "id": "5qPJlKRbyWzC",
        "outputId": "2352504e-d47f-4916-f5ee-4b0c9574eb8f"
      },
      "outputs": [
        {
          "data": {
            "text/plain": [
              "[0, 1, 2, 3]"
            ]
          },
          "execution_count": 37,
          "metadata": {},
          "output_type": "execute_result"
        }
      ],
      "source": [
        "# А вот тут без аргументов\n",
        "(lambda: [0,1,2,3])()"
      ]
    },
    {
      "cell_type": "code",
      "execution_count": null,
      "metadata": {
        "id": "SKbkX5lKyWzE",
        "outputId": "ecf5a78f-b414-4492-d613-fd7ad48ccb6b"
      },
      "outputs": [
        {
          "data": {
            "text/plain": [
              "'35'"
            ]
          },
          "execution_count": 38,
          "metadata": {},
          "output_type": "execute_result"
        }
      ],
      "source": [
        "# А тут есть значения по умолчанию\n",
        "(lambda x=3, y = 5: str(x) + str(y))()"
      ]
    },
    {
      "cell_type": "code",
      "execution_count": null,
      "metadata": {
        "id": "eSm5tW0EyWzG",
        "outputId": "8777f60a-42cf-4310-8085-9dc4e6c1fbc4"
      },
      "outputs": [
        {
          "data": {
            "text/plain": [
              "4"
            ]
          },
          "execution_count": 44,
          "metadata": {},
          "output_type": "execute_result"
        }
      ],
      "source": [
        "# Здесь в качестве первого аргумента пришел список, а второй использовался по умолчанию\n",
        "# На выходе должны получить первый элемент первого списка + 3\n",
        "(lambda x,y=3: x[0] + y)([1,2,3])"
      ]
    },
    {
      "cell_type": "code",
      "execution_count": null,
      "metadata": {
        "id": "e1ryWrwfyWzI",
        "outputId": "214cc112-de61-41c1-8fdb-e723b7ffba3a"
      },
      "outputs": [
        {
          "name": "stdout",
          "output_type": "stream",
          "text": [
            "6\n",
            "6\n",
            "6\n",
            "6\n",
            "6\n"
          ]
        }
      ],
      "source": [
        "print((lambda x, y, z: x + y + z)(1, 2, 3)) # Три аргумента\n",
        "\n",
        "print((lambda x, y, z=3: x + y + z)(1, 2)) # Три аргумента и у одного default-значение\n",
        "\n",
        "print((lambda x, y, z=3: x + y + z)(1, y=2)) # Три аргумента, у одного default-значение и один мы передали \"по имени\"\n",
        "\n",
        "print((lambda *args: sum(args))(1,2,3)) # Передали кортеж аргументов и сложили\n",
        "\n",
        "print((lambda **kwargs: sum(kwargs.values()))(one=1, two=2, three=3)) # Передали словарь аргументов и сложили"
      ]
    },
    {
      "cell_type": "markdown",
      "metadata": {
        "id": "a5g28PeQyWzL"
      },
      "source": [
        "### `map`"
      ]
    },
    {
      "cell_type": "markdown",
      "metadata": {
        "id": "DdXx1kyzyWzN"
      },
      "source": [
        "Лямбда-функции очень часто применяются для преобразования каких-то коллекций. Для этого `lambda`-функции можно подавать в функцию `map`. Мы с вами уже множество раз использовали `map`, например, для преобразования списков. Давайте возьмем список и возведем все его элементы в квадрат с помощью map и `lambda`-функции."
      ]
    },
    {
      "cell_type": "code",
      "execution_count": null,
      "metadata": {
        "id": "vsQF9v6NyWzN",
        "outputId": "256c2d05-fd6c-41cb-d4d2-4f903edb4bfc"
      },
      "outputs": [
        {
          "data": {
            "text/plain": [
              "['1', '3', '4', '6']"
            ]
          },
          "execution_count": 81,
          "metadata": {},
          "output_type": "execute_result"
        }
      ],
      "source": [
        "a = [1,3,4,6]\n",
        "def to_str(x):\n",
        "    return str(x)\n",
        "list(map(to_str, a))"
      ]
    },
    {
      "cell_type": "code",
      "execution_count": null,
      "metadata": {
        "id": "KacFXwAgyWzP",
        "outputId": "38f8ee81-c436-4702-b291-dedd5e0bd964"
      },
      "outputs": [
        {
          "data": {
            "text/plain": [
              "-1.0"
            ]
          },
          "execution_count": 63,
          "metadata": {},
          "output_type": "execute_result"
        }
      ],
      "source": [
        "from math import cos, pi, sin\n",
        "cos(pi)"
      ]
    },
    {
      "cell_type": "markdown",
      "metadata": {
        "id": "0qVpMvVPyWzR"
      },
      "source": [
        "### Task 1: \n",
        "Напишите функцию для вычисления факториала данного числа\n",
        "Ввод: 3\n",
        "\n",
        "Вывод: 6"
      ]
    },
    {
      "cell_type": "code",
      "source": [
        "def get_factorial (n):\n",
        "  fact = 1\n",
        "  for i in range (1, n + 1):\n",
        "    fact *= i\n",
        "  return fact"
      ],
      "metadata": {
        "id": "bchqEGdcFwke"
      },
      "execution_count": 33,
      "outputs": []
    },
    {
      "cell_type": "code",
      "source": [
        "get_factorial(5)"
      ],
      "metadata": {
        "colab": {
          "base_uri": "https://localhost:8080/"
        },
        "id": "t8DYXsS10xn0",
        "outputId": "403535b2-c91a-418b-d1c8-d9b49f5eed92"
      },
      "execution_count": 34,
      "outputs": [
        {
          "output_type": "execute_result",
          "data": {
            "text/plain": [
              "120"
            ]
          },
          "metadata": {},
          "execution_count": 34
        }
      ]
    },
    {
      "cell_type": "markdown",
      "metadata": {
        "id": "ilh8BG_gyWzU"
      },
      "source": [
        "### Рекурсия\n",
        "\n",
        "Рекурсия — это техника в Computer Science, когда функция вызывает сама себя. Самый известный пример — вычисление факториала n! = n * n — 1 * n -2 * … 2 *1. Зная, что 0! = 1, факториал можно записать следующим образом:"
      ]
    },
    {
      "cell_type": "code",
      "execution_count": null,
      "metadata": {
        "id": "VW_7aaryyWzU"
      },
      "outputs": [],
      "source": [
        "def factorial(n):\n",
        "    if n != 0:\n",
        "        return n * factorial(n-1)\n",
        "    else:\n",
        "        return 1\n",
        "\n",
        "# В этой реализации есть некоторые проблемы, но мы поговорим об этом потом :)"
      ]
    },
    {
      "cell_type": "code",
      "execution_count": null,
      "metadata": {
        "id": "2xz_GKTmyWzW",
        "outputId": "92ac62fa-638e-4395-8120-f584378b655e"
      },
      "outputs": [
        {
          "data": {
            "text/plain": [
              "120"
            ]
          },
          "execution_count": 83,
          "metadata": {},
          "output_type": "execute_result"
        }
      ],
      "source": [
        "factorial(5)"
      ]
    },
    {
      "cell_type": "markdown",
      "metadata": {
        "id": "stVcmDWdyWzY"
      },
      "source": [
        "Каждый раз, когда функция вызывает себя и сохраняет некоторую память. Таким образом, рекурсивная функция может содержать гораздо больше памяти, чем традиционная функция. Python останавливает вызовы функций после глубины в 1000 вызовов. Если вы запустите этот пример, получите ошибку."
      ]
    },
    {
      "cell_type": "code",
      "execution_count": null,
      "metadata": {
        "scrolled": true,
        "id": "77Ch-3mfyWzb",
        "outputId": "6d87d019-d11d-499a-a61d-3b1f13378fb6"
      },
      "outputs": [
        {
          "ename": "RecursionError",
          "evalue": "maximum recursion depth exceeded in comparison",
          "output_type": "error",
          "traceback": [
            "\u001b[0;31m---------------------------------------------------------------------------\u001b[0m",
            "\u001b[0;31mRecursionError\u001b[0m                            Traceback (most recent call last)",
            "\u001b[0;32m<ipython-input-84-9869a084a880>\u001b[0m in \u001b[0;36m<module>\u001b[0;34m\u001b[0m\n\u001b[1;32m      5\u001b[0m         \u001b[0;32mreturn\u001b[0m \u001b[0mn\u001b[0m \u001b[0;34m*\u001b[0m \u001b[0mfactorial\u001b[0m\u001b[0;34m(\u001b[0m\u001b[0mn\u001b[0m\u001b[0;34m-\u001b[0m\u001b[0;36m1\u001b[0m\u001b[0;34m)\u001b[0m\u001b[0;34m\u001b[0m\u001b[0;34m\u001b[0m\u001b[0m\n\u001b[1;32m      6\u001b[0m \u001b[0;34m\u001b[0m\u001b[0m\n\u001b[0;32m----> 7\u001b[0;31m \u001b[0mprint\u001b[0m\u001b[0;34m(\u001b[0m\u001b[0mfactorial\u001b[0m\u001b[0;34m(\u001b[0m\u001b[0;36m3000\u001b[0m\u001b[0;34m)\u001b[0m\u001b[0;34m)\u001b[0m\u001b[0;34m\u001b[0m\u001b[0;34m\u001b[0m\u001b[0m\n\u001b[0m",
            "\u001b[0;32m<ipython-input-84-9869a084a880>\u001b[0m in \u001b[0;36mfactorial\u001b[0;34m(n)\u001b[0m\n\u001b[1;32m      3\u001b[0m         \u001b[0;32mreturn\u001b[0m \u001b[0;36m1\u001b[0m\u001b[0;34m\u001b[0m\u001b[0;34m\u001b[0m\u001b[0m\n\u001b[1;32m      4\u001b[0m     \u001b[0;32melse\u001b[0m\u001b[0;34m:\u001b[0m\u001b[0;34m\u001b[0m\u001b[0;34m\u001b[0m\u001b[0m\n\u001b[0;32m----> 5\u001b[0;31m         \u001b[0;32mreturn\u001b[0m \u001b[0mn\u001b[0m \u001b[0;34m*\u001b[0m \u001b[0mfactorial\u001b[0m\u001b[0;34m(\u001b[0m\u001b[0mn\u001b[0m\u001b[0;34m-\u001b[0m\u001b[0;36m1\u001b[0m\u001b[0;34m)\u001b[0m\u001b[0;34m\u001b[0m\u001b[0;34m\u001b[0m\u001b[0m\n\u001b[0m\u001b[1;32m      6\u001b[0m \u001b[0;34m\u001b[0m\u001b[0m\n\u001b[1;32m      7\u001b[0m \u001b[0mprint\u001b[0m\u001b[0;34m(\u001b[0m\u001b[0mfactorial\u001b[0m\u001b[0;34m(\u001b[0m\u001b[0;36m3000\u001b[0m\u001b[0;34m)\u001b[0m\u001b[0;34m)\u001b[0m\u001b[0;34m\u001b[0m\u001b[0;34m\u001b[0m\u001b[0m\n",
            "... last 1 frames repeated, from the frame below ...\n",
            "\u001b[0;32m<ipython-input-84-9869a084a880>\u001b[0m in \u001b[0;36mfactorial\u001b[0;34m(n)\u001b[0m\n\u001b[1;32m      3\u001b[0m         \u001b[0;32mreturn\u001b[0m \u001b[0;36m1\u001b[0m\u001b[0;34m\u001b[0m\u001b[0;34m\u001b[0m\u001b[0m\n\u001b[1;32m      4\u001b[0m     \u001b[0;32melse\u001b[0m\u001b[0;34m:\u001b[0m\u001b[0;34m\u001b[0m\u001b[0;34m\u001b[0m\u001b[0m\n\u001b[0;32m----> 5\u001b[0;31m         \u001b[0;32mreturn\u001b[0m \u001b[0mn\u001b[0m \u001b[0;34m*\u001b[0m \u001b[0mfactorial\u001b[0m\u001b[0;34m(\u001b[0m\u001b[0mn\u001b[0m\u001b[0;34m-\u001b[0m\u001b[0;36m1\u001b[0m\u001b[0;34m)\u001b[0m\u001b[0;34m\u001b[0m\u001b[0;34m\u001b[0m\u001b[0m\n\u001b[0m\u001b[1;32m      6\u001b[0m \u001b[0;34m\u001b[0m\u001b[0m\n\u001b[1;32m      7\u001b[0m \u001b[0mprint\u001b[0m\u001b[0;34m(\u001b[0m\u001b[0mfactorial\u001b[0m\u001b[0;34m(\u001b[0m\u001b[0;36m3000\u001b[0m\u001b[0;34m)\u001b[0m\u001b[0;34m)\u001b[0m\u001b[0;34m\u001b[0m\u001b[0;34m\u001b[0m\u001b[0m\n",
            "\u001b[0;31mRecursionError\u001b[0m: maximum recursion depth exceeded in comparison"
          ]
        }
      ],
      "source": [
        "def factorial(n):\n",
        "    if n == 1:\n",
        "        return 1\n",
        "    else:\n",
        "        return n * factorial(n-1)\n",
        "\n",
        "print(factorial(3000))"
      ]
    },
    {
      "cell_type": "markdown",
      "metadata": {
        "id": "KBbbrc8gyWzc"
      },
      "source": [
        "А еще таким же образом можно вычислять `N`-ое число Фибоначчи (они как раз задаются рекурсивно).\n",
        "Заодно здесь мы видим, что выражений `return` может быть несколько (для различных условий)"
      ]
    },
    {
      "cell_type": "markdown",
      "metadata": {
        "id": "Ss0-FepcyWze"
      },
      "source": [
        "## Task #1.1\n",
        "вычислять `N`-ое число Фибоначчи (они как раз задаются рекурсивно)"
      ]
    },
    {
      "cell_type": "code",
      "execution_count": 52,
      "metadata": {
        "id": "rcV5LthGyWze"
      },
      "outputs": [],
      "source": [
        "def get_fibonacci(n):\n",
        "  if n == 0:\n",
        "    return 0\n",
        "  elif n == 1:\n",
        "    return 1\n",
        "  else:\n",
        "    return get_fibonacci(n-1) + get_fibonacci(n-2)"
      ]
    },
    {
      "cell_type": "code",
      "execution_count": 54,
      "metadata": {
        "id": "RtvF-EzyyWzg",
        "outputId": "88e59503-a5ed-4252-bd21-d4c1e9b04d7e",
        "colab": {
          "base_uri": "https://localhost:8080/"
        }
      },
      "outputs": [
        {
          "output_type": "execute_result",
          "data": {
            "text/plain": [
              "55"
            ]
          },
          "metadata": {},
          "execution_count": 54
        }
      ],
      "source": [
        "get_fibonacci(10)"
      ]
    },
    {
      "cell_type": "markdown",
      "metadata": {
        "id": "ZgZWMCpVyWzh"
      },
      "source": [
        "### Task #2\n",
        "Рекурсивно посчитать сумму чисел от 1 до N\n",
        "\n",
        "Вход: N\n",
        "\n",
        "Выход: sum(1,2,3,...,N)\n",
        "\n",
        "\n",
        "Вход: 3\n",
        "\n",
        "Выход: 6"
      ]
    },
    {
      "cell_type": "code",
      "execution_count": 62,
      "metadata": {
        "id": "xY0J8urByWzj"
      },
      "outputs": [],
      "source": [
        "def summe(n):\n",
        "  if n == 1:\n",
        "    return 1\n",
        "  else:\n",
        "    return n + summe(n-1)"
      ]
    },
    {
      "cell_type": "code",
      "execution_count": 63,
      "metadata": {
        "id": "abwWmsvNyWzk",
        "outputId": "ae15150a-25d6-44ee-8fcc-f572f5d38ef8",
        "colab": {
          "base_uri": "https://localhost:8080/"
        }
      },
      "outputs": [
        {
          "output_type": "execute_result",
          "data": {
            "text/plain": [
              "55"
            ]
          },
          "metadata": {},
          "execution_count": 63
        }
      ],
      "source": [
        "summe(10)"
      ]
    },
    {
      "cell_type": "markdown",
      "metadata": {
        "id": "8yRx1yVCyWzp"
      },
      "source": [
        "### Task #3\n",
        "Рекурсивно проверить, является ли строка палиндромом\n",
        "\n",
        "Вход: ололо\n",
        "\n",
        "Выход: True\n",
        "\n",
        "\n",
        "Вход: You shall not pass!\n",
        "\n",
        "Выход: False"
      ]
    },
    {
      "cell_type": "code",
      "execution_count": 64,
      "metadata": {
        "id": "EOf_FS-ZyWzr"
      },
      "outputs": [],
      "source": [
        "def IsPalindrome(word):\n",
        "  if len(word) < 2:\n",
        "    return True\n",
        "  if word[0] != word[-1]:\n",
        "    return False\n",
        "  return IsPalindrome(word[1:-1])"
      ]
    },
    {
      "cell_type": "code",
      "execution_count": 65,
      "metadata": {
        "id": "EqK5nNS5yWzs",
        "outputId": "17196393-43a2-4fe7-f8a0-7521b116964b",
        "colab": {
          "base_uri": "https://localhost:8080/"
        }
      },
      "outputs": [
        {
          "output_type": "execute_result",
          "data": {
            "text/plain": [
              "True"
            ]
          },
          "metadata": {},
          "execution_count": 65
        }
      ],
      "source": [
        "IsPalindrome('ололо')"
      ]
    }
  ],
  "metadata": {
    "kernelspec": {
      "display_name": "Python 3",
      "language": "python",
      "name": "python3"
    },
    "language_info": {
      "codemirror_mode": {
        "name": "ipython",
        "version": 3
      },
      "file_extension": ".py",
      "mimetype": "text/x-python",
      "name": "python",
      "nbconvert_exporter": "python",
      "pygments_lexer": "ipython3",
      "version": "3.8.8"
    },
    "colab": {
      "name": "Functions_done",
      "provenance": [],
      "collapsed_sections": [
        "Dbt_8SwnyWwO",
        "eUH9n-G_yWwU",
        "REs_2QWvyWwX",
        "Igramke1yWwn",
        "WKRaWebMyWwt",
        "65HtWnHkyWx9",
        "a5g28PeQyWzL"
      ]
    }
  },
  "nbformat": 4,
  "nbformat_minor": 0
}