{
  "nbformat": 4,
  "nbformat_minor": 0,
  "metadata": {
    "kernelspec": {
      "display_name": "Python 3",
      "language": "python",
      "name": "python3"
    },
    "language_info": {
      "codemirror_mode": {
        "name": "ipython",
        "version": 3
      },
      "file_extension": ".py",
      "mimetype": "text/x-python",
      "name": "python",
      "nbconvert_exporter": "python",
      "pygments_lexer": "ipython3",
      "version": "3.8.8"
    },
    "colab": {
      "name": "Set_Dict.ipynb",
      "provenance": []
    }
  },
  "cells": [
    {
      "cell_type": "markdown",
      "metadata": {
        "id": "H2cuHBaugY0F"
      },
      "source": [
        "## Task #0"
      ]
    },
    {
      "cell_type": "markdown",
      "metadata": {
        "id": "_doqEQ8bgY0L"
      },
      "source": [
        "Дан одномерный массив числовых значений, насчитывающий N элементов. Исключить из массива элементы, принадлежащие промежутку [1; 3].\n",
        "\n",
        "Input: \n",
        "`[0, 1, 6, 10, 100, 300]`\n",
        "\n",
        "Output:\n",
        "`[0, 10, 100, 300]`"
      ]
    },
    {
      "cell_type": "code",
      "metadata": {
        "id": "BIdCBjpMgY0P",
        "outputId": "b4d9d131-322f-4eb2-c5e5-acf7a5ade22a",
        "colab": {
          "base_uri": "https://localhost:8080/"
        }
      },
      "source": [
        "x = [0, 1, 6, 10, 100, 300]\n",
        "left, right = 1, 3\n",
        "n_iter = right - left\n",
        "while n_iter > 0:\n",
        "  x.pop(left)\n",
        "  n_iter -= 1\n",
        "x"
      ],
      "execution_count": 4,
      "outputs": [
        {
          "output_type": "execute_result",
          "data": {
            "text/plain": [
              "[0, 10, 100, 300]"
            ]
          },
          "metadata": {},
          "execution_count": 4
        }
      ]
    },
    {
      "cell_type": "markdown",
      "metadata": {
        "id": "FGtWir4UgY0Q"
      },
      "source": [
        "## Task #1"
      ]
    },
    {
      "cell_type": "markdown",
      "metadata": {
        "id": "jPK9NPN3gY0S"
      },
      "source": [
        "Дан одномерный массив числовых значений, насчитывающий N элементов. Подсчитать количество чисел, делящихся на 3 нацело, и среднее арифметическое чисел с чётными значениями. Поставить полученные величины на первое и последнее места в массиве (увеличив массив на 2 элемента).\n",
        "\n",
        "Input: \n",
        "`[0, -3, 2, 4]`\n",
        "\n",
        "Output:\n",
        "`[1, 0, -3, 2, 4, 2]`"
      ]
    },
    {
      "cell_type": "code",
      "metadata": {
        "id": "pXNvaQuSgY0V",
        "outputId": "1f0f220c-0fc9-44ba-b824-95e3148f2564",
        "colab": {
          "base_uri": "https://localhost:8080/"
        }
      },
      "source": [
        "x = [0, -3, 2, 4]\n",
        "index = 0\n",
        "count_three = 0\n",
        "sum_number = 0\n",
        "n_number = 0\n",
        "while index < len(x):\n",
        "    elem = x[index]\n",
        "    if elem % 3 == 0:\n",
        "      count_three += 1\n",
        "    if elem % 2 == 0:\n",
        "      n_number += 1\n",
        "      sum_number += elem\n",
        "    index +=1\n",
        "x = [count_three] + x + [sum_number // n_number]\n",
        "x"
      ],
      "execution_count": 5,
      "outputs": [
        {
          "output_type": "execute_result",
          "data": {
            "text/plain": [
              "[2, 0, -3, 2, 4, 2]"
            ]
          },
          "metadata": {},
          "execution_count": 5
        }
      ]
    },
    {
      "cell_type": "markdown",
      "metadata": {
        "id": "U0e4kCZMgY0W"
      },
      "source": [
        "## Task #2"
      ]
    },
    {
      "cell_type": "markdown",
      "metadata": {
        "id": "KbGrPCEUgY0X"
      },
      "source": [
        "Дан одномерный массив числовых значений, насчитывающий N элементов. Добавить столько элементов, чтобы элементов с положительными и отрицательными значениями стало бы поровну.\n",
        "\n",
        "Input: \n",
        "`[0, 8, -3, 2, 4 -1, 13, 24, 19]`\n",
        "\n",
        "Output:\n",
        "`[0, -1, 8, -3, 2, -1, 4, -1, 13, -1, 24, -1, 19]`"
      ]
    },
    {
      "cell_type": "code",
      "metadata": {
        "id": "fjdEecr8gY0Z"
      },
      "source": [
        ""
      ],
      "execution_count": null,
      "outputs": []
    },
    {
      "cell_type": "markdown",
      "metadata": {
        "id": "U8CmqGy_gY0c"
      },
      "source": [
        "## Task 3"
      ]
    },
    {
      "cell_type": "markdown",
      "metadata": {
        "id": "hHT-VQQngY0c"
      },
      "source": [
        "How to remove stop words in a text?"
      ]
    },
    {
      "cell_type": "code",
      "metadata": {
        "id": "twJW7i15gY0e"
      },
      "source": [
        "stop_words = [\"i\", \"me\", \"my\", \"myself\", \"we\", \"our\", \"ours\", \"ourselves\", \"you\", \"your\", \"yours\", \"yourself\", \"yourselves\", \"he\", \"him\", \"his\", \"himself\", \"she\", \"her\", \"hers\", \"herself\", \"it\", \"its\", \"itself\", \"they\", \"them\", \"their\", \"theirs\", \"themselves\", \"what\", \"which\", \"who\", \"whom\", \"this\", \"that\", \"these\", \"those\", \"am\", \"is\", \"are\", \"was\", \"were\", \"be\", \"been\", \"being\", \"have\", \"has\", \"had\", \"having\", \"do\", \"does\", \"did\", \"doing\", \"a\", \"an\", \"the\", \"and\", \"but\", \"if\", \"or\", \"because\", \"as\", \"until\", \"while\", \"of\", \"at\", \"by\", \"for\", \"with\", \"about\", \"against\", \"between\", \"into\", \"through\", \"during\", \"before\", \"after\", \"above\", \"below\", \"to\", \"from\", \"up\", \"down\", \"in\", \"out\", \"on\", \"off\", \"over\", \"under\", \"again\", \"further\", \"then\", \"once\", \"here\", \"there\", \"when\", \"where\", \"why\", \"how\", \"all\", \"any\", \"both\", \"each\", \"few\", \"more\", \"most\", \"other\", \"some\", \"such\", \"no\", \"nor\", \"not\", \"only\", \"own\", \"same\", \"so\", \"than\", \"too\", \"very\", \"s\", \"t\", \"can\", \"will\", \"just\", \"don\", \"should\", \"now\"]\n",
        "text = \"\"\"the outbreak of coronavirus disease 2019 ( COVID - 19 ) has created a global health crisis that has had a deep impact on the way we perceive our world and our everyday lives . Not only the rate of contagion and patterns of transmission threatens our sense of agency , but the safety measures put in place to contain the spread of the virus also require social distancing by refraining from doing what is inherently human , which is to find solace in the company of others . Within this context of physical threat , social and physical distancing , as well as public alarm , what has been ( and can be ) the role of the different mass media channels in our lives on individual , social and societal levels ? Mass media have long been recognized as powerful forces shaping how we experience the world and ourselves . This recognition is accompanied by a growing volume of research , that closely follows the footsteps of technological transformations ( e . g . radio , movies , television , the internet , mobiles ) and the zeitgeist ( e . g . cold war , 9 / 11 , climate change ) in an attempt to map mass media major impacts on how we perceive ourselves , both as individuals and citizens . Are media ( broadcast and digital ) still able to convey a sense of unity reaching large audiences , or are messages lost in the noisy crowd of mass self - communication ?\"\"\""
      ],
      "execution_count": 7,
      "outputs": []
    },
    {
      "cell_type": "code",
      "metadata": {
        "id": "RuVNxAJSgY0h",
        "outputId": "42dcbab5-f80b-451b-e173-acdef1c282be",
        "colab": {
          "base_uri": "https://localhost:8080/",
          "height": 149
        }
      },
      "source": [
        "tokens = text.split(\" \")\n",
        "index = 0\n",
        "filtered_tokens = []\n",
        "while index < len(tokens):\n",
        "  current_token = tokens[index]\n",
        "  if current_token not in stop_words:\n",
        "    filtered_tokens.append(current_token)\n",
        "  index += 1\n",
        "\" \".join(filtered_tokens)"
      ],
      "execution_count": 8,
      "outputs": [
        {
          "output_type": "execute_result",
          "data": {
            "application/vnd.google.colaboratory.intrinsic+json": {
              "type": "string"
            },
            "text/plain": [
              "'outbreak coronavirus disease 2019 ( COVID - 19 ) created global health crisis deep impact way perceive world everyday lives . Not rate contagion patterns transmission threatens sense agency , safety measures put place contain spread virus also require social distancing refraining inherently human , find solace company others . Within context physical threat , social physical distancing , well public alarm , ( ) role different mass media channels lives individual , social societal levels ? Mass media long recognized powerful forces shaping experience world . This recognition accompanied growing volume research , closely follows footsteps technological transformations ( e . g . radio , movies , television , internet , mobiles ) zeitgeist ( e . g . cold war , 9 / 11 , climate change ) attempt map mass media major impacts perceive , individuals citizens . Are media ( broadcast digital ) still able convey sense unity reaching large audiences , messages lost noisy crowd mass self - communication ?'"
            ]
          },
          "metadata": {},
          "execution_count": 8
        }
      ]
    },
    {
      "cell_type": "markdown",
      "metadata": {
        "id": "K6Quw_VMgY0i"
      },
      "source": [
        "## Task 4"
      ]
    },
    {
      "cell_type": "markdown",
      "metadata": {
        "id": "D0fjXmZmgY0j"
      },
      "source": [
        "How to extract usernames from emails ?"
      ]
    },
    {
      "cell_type": "code",
      "metadata": {
        "id": "u36PR3NcgY0k"
      },
      "source": [
        "text = \"The new registrations are potter709@gmail.com , elixir101@gmail.com . If you find any disruptions , kindly contact granger111@gamil.com or severus77@gamil.com \""
      ],
      "execution_count": 9,
      "outputs": []
    },
    {
      "cell_type": "code",
      "metadata": {
        "id": "xaFCvM9ygY0l",
        "outputId": "6be77386-522a-498d-d4a0-dab99998df72",
        "colab": {
          "base_uri": "https://localhost:8080/"
        }
      },
      "source": [
        "# use find()\n",
        "tokens = text.split(\" \")\n",
        "index = 0\n",
        "emails = []\n",
        "while index < len(tokens):\n",
        "  current_token = tokens[index]\n",
        "  start_position = current_token.find(\"@\")\n",
        "  if start_position != -1:\n",
        "    username = current_token[0: start_position]\n",
        "    emails.append (username)\n",
        "  index += 1\n",
        "emails"
      ],
      "execution_count": 12,
      "outputs": [
        {
          "output_type": "execute_result",
          "data": {
            "text/plain": [
              "['potter709', 'elixir101', 'granger111', 'severus77']"
            ]
          },
          "metadata": {},
          "execution_count": 12
        }
      ]
    },
    {
      "cell_type": "code",
      "metadata": {
        "id": "WSNGa7t6w4zz",
        "outputId": "166373e8-9ca5-4b02-9c39-8b12a5863eca",
        "colab": {
          "base_uri": "https://localhost:8080/"
        }
      },
      "source": [
        "tokens = text.split(\" \")\n",
        "index = 0\n",
        "emails = []\n",
        "while index < len(tokens):\n",
        "  current_token = tokens[index]\n",
        "  start_position = current_token.find(\"@\")\n",
        "  if start_position != -1:\n",
        "    username = current_token.split('@')\n",
        "    print(username[0])\n",
        "  index += 1"
      ],
      "execution_count": 15,
      "outputs": [
        {
          "output_type": "stream",
          "name": "stdout",
          "text": [
            "potter709\n",
            "elixir101\n",
            "granger111\n",
            "severus77\n"
          ]
        }
      ]
    },
    {
      "cell_type": "markdown",
      "metadata": {
        "id": "g6ib06oAgY0l"
      },
      "source": [
        "\n",
        "# Цикл `For`"
      ]
    },
    {
      "cell_type": "markdown",
      "metadata": {
        "id": "hdrb7CSBgY0n"
      },
      "source": [
        "Цикл `for`, также называемый циклом с параметром, в языке Питон богат возможностями. В цикле `for` указывается переменная и множество значений, по которому будет пробегать переменная. Множество значений может быть задано списком, кортежем, строкой или диапазоном.\n",
        "\n",
        "Вот простейший пример использования цикла, где в качестве множества значений используется кортеж"
      ]
    },
    {
      "cell_type": "code",
      "metadata": {
        "id": "vGQnekP1gY0u",
        "outputId": "bb858920-f639-46da-c1c7-867ccbaabe5d"
      },
      "source": [
        "i = 1\n",
        "for color in 'red', 'orange', 'yellow', 'green', 'cyan', 'blue', 'violet':\n",
        "    print('#', i, ' color of rainbow is ', color, sep = '')\n",
        "    i += 1"
      ],
      "execution_count": null,
      "outputs": [
        {
          "name": "stdout",
          "output_type": "stream",
          "text": [
            "#1 color of rainbow is red\n",
            "#2 color of rainbow is orange\n",
            "#3 color of rainbow is yellow\n",
            "#4 color of rainbow is green\n",
            "#5 color of rainbow is cyan\n",
            "#6 color of rainbow is blue\n",
            "#7 color of rainbow is violet\n"
          ]
        }
      ]
    },
    {
      "cell_type": "markdown",
      "metadata": {
        "id": "caoDRwuzgY0x"
      },
      "source": [
        "В этом примере переменная `color` последовательно принимает значения `'red'`, `'orange'` и т.д. В теле цикла выводится сообщение, которое содержит название цвета, то есть значение переменной color, а также номер итерации цикла  число, которое сначала равно `1`, а потом увеличивается на один (инструкцией `i += 1` с каждым проходом цикла.\n",
        "\n",
        "Инструкция `i += 1` эквивалентна конструкции `i = i + 1` (это просто сокращенная запись). Такую сокращенную запись можно использовать для всех арифметических операций: `*=`, `-=`, `/=`, `%=`...\n",
        "\n",
        "В списке значений могут быть выражения различных типов, например:\n",
        "\n"
      ]
    },
    {
      "cell_type": "code",
      "metadata": {
        "id": "Z11_pWP9gY0y",
        "outputId": "2a67e37b-74c7-4b8b-c509-3fdb24f0250c"
      },
      "source": [
        "for i in 1, 2, 3, 'one', 'two', 'three':\n",
        "    print(i)"
      ],
      "execution_count": null,
      "outputs": [
        {
          "name": "stdout",
          "output_type": "stream",
          "text": [
            "1\n",
            "2\n",
            "3\n",
            "one\n",
            "two\n",
            "three\n"
          ]
        }
      ]
    },
    {
      "cell_type": "markdown",
      "metadata": {
        "id": "1gRmsXX-gY00"
      },
      "source": [
        "# Функция `range`"
      ]
    },
    {
      "cell_type": "markdown",
      "metadata": {
        "id": "3aXIo1T3gY00"
      },
      "source": [
        "Как правило, циклы `for` используются либо для повторения какой-либо последовательности действий заданное число раз, либо для изменения значения переменной в цикле от некоторого начального значения до некоторого конечного.\n",
        "\n",
        "Для повторения цикла некоторое заданное число раз `n` можно использовать цикл `for` вместе с функцией `range`:"
      ]
    },
    {
      "cell_type": "code",
      "metadata": {
        "id": "DVXpY89HgY01",
        "outputId": "ff675f7e-89b9-4d8a-c6f3-458b968afd90"
      },
      "source": [
        "for i in range(4):  # равносильно инструкции for i in 0, 1, 2, 3:\n",
        "    # здесь можно выполнять циклические действия\n",
        "    print(i)\n",
        "    print(i ** 2)\n",
        "# цикл закончился, поскольку закончился блок с отступом\n",
        "print('Конец цикла')"
      ],
      "execution_count": null,
      "outputs": [
        {
          "name": "stdout",
          "output_type": "stream",
          "text": [
            "0\n",
            "0\n",
            "1\n",
            "1\n",
            "2\n",
            "4\n",
            "3\n",
            "9\n",
            "Конец цикла\n"
          ]
        }
      ]
    },
    {
      "cell_type": "markdown",
      "metadata": {
        "id": "UyYsGNfggY03"
      },
      "source": [
        "В качестве `n` может использоваться числовая константа, переменная или произвольное арифметическое выражение (например, `2 ** 10`). Если значение `n` равно нулю или отрицательное, то тело цикла не выполнится ни разу.\n",
        "\n",
        "Функция `range` может также принимать не один, а два параметра. Вызов `range(a, b)` означает, что индексная переменная будеть принимать значения от a до `b - 1`, то есть первый параметр функции `range`, вызываемой с двумя параметрами, задает начальное значение индексной переменной, а второй параметр — первое значение, которое индексная переменная принимать не будет. Если же `a≥b`, то цикл не будет выполнен ни разу. Например, для того, чтобы просуммировать значения чисел от `1` до `n` можно воспользоваться следующей программой:"
      ]
    },
    {
      "cell_type": "code",
      "metadata": {
        "id": "RrMzCA5CgY04",
        "outputId": "be7df79e-6bad-4f17-e5ba-a66d98959379"
      },
      "source": [
        "sum_ = 0\n",
        "n = 5\n",
        "for i in range(1, n + 1):\n",
        "    sum += i\n",
        "print(sum_)"
      ],
      "execution_count": null,
      "outputs": [
        {
          "name": "stdout",
          "output_type": "stream",
          "text": [
            "15\n"
          ]
        }
      ]
    },
    {
      "cell_type": "code",
      "metadata": {
        "id": "zIIuQagf5X_7",
        "outputId": "7b189b94-1e8a-490a-a869-814ffc9f5d2c",
        "colab": {
          "base_uri": "https://localhost:8080/"
        }
      },
      "source": [
        "list(range(10, 0, -1))"
      ],
      "execution_count": 16,
      "outputs": [
        {
          "output_type": "execute_result",
          "data": {
            "text/plain": [
              "[10, 9, 8, 7, 6, 5, 4, 3, 2, 1]"
            ]
          },
          "metadata": {},
          "execution_count": 16
        }
      ]
    },
    {
      "cell_type": "code",
      "metadata": {
        "id": "-HtGqn6Y5guJ",
        "outputId": "1236fae6-d2ac-42e0-f049-a1836a60a277",
        "colab": {
          "base_uri": "https://localhost:8080/"
        }
      },
      "source": [
        "list(range(0, 10, 2))"
      ],
      "execution_count": 17,
      "outputs": [
        {
          "output_type": "execute_result",
          "data": {
            "text/plain": [
              "[0, 2, 4, 6, 8]"
            ]
          },
          "metadata": {},
          "execution_count": 17
        }
      ]
    },
    {
      "cell_type": "markdown",
      "metadata": {
        "id": "bLHGGJuPgY06"
      },
      "source": [
        "В этом примере переменная `i` принимает значения `1, 2, ..., n`, и значение переменной sum последовательно увеличивается на указанные значения.\n",
        "\n",
        "Наконец, чтобы организовать цикл, в котором индексная переменная будет уменьшаться, необходимо использовать функцию `range` с тремя параметрами. Первый параметр задает начальное значение индексной переменной, второй параметр — значение, до которого будет изменяться индексная переменная (не включая его!), а третий параметр — величину изменения индексной переменной. Например, сделать цикл по всем нечетным числам от `1` до `99` можно при помощи функции `range(1, 100, 2)`, а сделать цикл по всем числам от `100` до `1` можно при помощи `range(100, 0, -1)`.\n",
        "\n",
        "Более формально, цикл for i in `range(a, b, d)` при `d > 0` задает значения индексной переменной `i = a`, `i = a + d`, `i = a + 2 * d` и так для всех значений, для которых `i < b`. Если же `d < 0`, то переменная цикла принимает все значения `i > b`.\n",
        "\n"
      ]
    },
    {
      "cell_type": "markdown",
      "metadata": {
        "id": "iwoU8DJBgY07"
      },
      "source": [
        "## Task #5.0"
      ]
    },
    {
      "cell_type": "markdown",
      "metadata": {
        "id": "x8fLUszdgY08"
      },
      "source": [
        "Write a program to print the following number pattern using a loop.\n",
        "\n",
        "`\n",
        "1 \n",
        "1 2 \n",
        "1 2 3 \n",
        "1 2 3 4 \n",
        "1 2 3 4 5`"
      ]
    },
    {
      "cell_type": "code",
      "metadata": {
        "id": "Ru7MZb-wgY09",
        "outputId": "8066a05b-d142-46af-e631-5956e321d10b",
        "colab": {
          "base_uri": "https://localhost:8080/"
        }
      },
      "source": [
        "n = 5\n",
        "for string_index in range (1, n + 1):\n",
        "  print(*list(range(1, string_index + 1))) #благодаря звездочке происходит распаковка"
      ],
      "execution_count": 37,
      "outputs": [
        {
          "output_type": "stream",
          "name": "stdout",
          "text": [
            "1\n",
            "1 2\n",
            "1 2 3\n",
            "1 2 3 4\n",
            "1 2 3 4 5\n"
          ]
        }
      ]
    },
    {
      "cell_type": "code",
      "metadata": {
        "id": "Sul-g7gQ__5x",
        "outputId": "dbb70059-42e9-4279-edcf-826ef8fc436f",
        "colab": {
          "base_uri": "https://localhost:8080/"
        }
      },
      "source": [
        "N = 5\n",
        "for string_index in range(1,N+1):\n",
        "    output_string = ''\n",
        "    for i in range (1, string_index + 1):\n",
        "        output_string += str(i) + ' '\n",
        "    print (output_string)"
      ],
      "execution_count": 38,
      "outputs": [
        {
          "output_type": "stream",
          "name": "stdout",
          "text": [
            "1 \n",
            "1 2 \n",
            "1 2 3 \n",
            "1 2 3 4 \n",
            "1 2 3 4 5 \n"
          ]
        }
      ]
    },
    {
      "cell_type": "markdown",
      "metadata": {
        "id": "RkX2EQErgY0-"
      },
      "source": [
        "## Task #5.1"
      ]
    },
    {
      "cell_type": "markdown",
      "metadata": {
        "id": "nmxpIpC3gY1B"
      },
      "source": [
        "Write a program to use for loop to print the following reverse number pattern\n",
        "\n",
        "\n",
        "`\n",
        "5 4 3 2 1 \n",
        "4 3 2 1 \n",
        "3 2 1 \n",
        "2 1 \n",
        "1`"
      ]
    },
    {
      "cell_type": "code",
      "metadata": {
        "id": "tYzZFBr6gY1D"
      },
      "source": [
        ""
      ],
      "execution_count": null,
      "outputs": []
    },
    {
      "cell_type": "markdown",
      "metadata": {
        "id": "s6uvmwUOgY1D"
      },
      "source": [
        "## Task #6"
      ]
    },
    {
      "cell_type": "markdown",
      "metadata": {
        "id": "WEZGBj_7gY1D"
      },
      "source": [
        "Can you you create a list from 1300 to 700 with descending steps of 100? Is your stop value included in the list?"
      ]
    },
    {
      "cell_type": "code",
      "metadata": {
        "id": "QrVo7RpOgY1E"
      },
      "source": [
        ""
      ],
      "execution_count": null,
      "outputs": []
    },
    {
      "cell_type": "markdown",
      "metadata": {
        "id": "ouLS-2UkgY1E"
      },
      "source": [
        "# Множества (set)\n",
        "\n",
        "Мы уже знаем списки и кортежи - упорядоченные структуры, которые могут хранить в себе объекты любых типов, к которым мы можем обратиться по индексу. Теперь поговорим о стуктурах неупорядоченных - множествах и словарях. \n",
        "\n",
        "Множества хранят некоторое количество объектов, но, в отличие от списка, один объект может храниться в множестве не более одного раза. Кроме того, порядок элементов множества произволен, им нельзя управлять.\n",
        "\n",
        "Тип называется set, это же является конструктором типа, т.е. в функцию set можно передать произвольную последовательность, и из этой последовательности будет построено множество:"
      ]
    },
    {
      "cell_type": "code",
      "metadata": {
        "id": "vFWmlzCFgY1F",
        "outputId": "b6cd4812-3046-4c2e-a1ff-1a496c64791d"
      },
      "source": [
        "x = set()\n",
        "type(x)"
      ],
      "execution_count": null,
      "outputs": [
        {
          "data": {
            "text/plain": [
              "set"
            ]
          },
          "execution_count": 2,
          "metadata": {},
          "output_type": "execute_result"
        }
      ]
    },
    {
      "cell_type": "code",
      "metadata": {
        "id": "QQKulMOBgY1G",
        "outputId": "2fbff872-d014-47d4-dd43-d31111a4b10c"
      },
      "source": [
        "x = (4, 5, 6)\n",
        "print(set(x)) # передаем список"
      ],
      "execution_count": null,
      "outputs": [
        {
          "name": "stdout",
          "output_type": "stream",
          "text": [
            "{4, 5, 6}\n"
          ]
        }
      ]
    },
    {
      "cell_type": "code",
      "metadata": {
        "id": "aVDpt7EJgY1G",
        "outputId": "1927ff14-973d-4867-bcbc-34940d799233"
      },
      "source": [
        "set(range(10))"
      ],
      "execution_count": null,
      "outputs": [
        {
          "data": {
            "text/plain": [
              "{0, 1, 2, 3, 4, 5, 6, 7, 8, 9}"
            ]
          },
          "execution_count": 9,
          "metadata": {},
          "output_type": "execute_result"
        }
      ]
    },
    {
      "cell_type": "code",
      "metadata": {
        "id": "wrlcmFiwgY1I",
        "outputId": "45c5fd58-6c20-43c5-e565-0530cc622548"
      },
      "source": [
        "print(set()) # передаем tuple\n",
        "print(set(range(10)))\n",
        "print(set()) # пустое множество"
      ],
      "execution_count": null,
      "outputs": [
        {
          "name": "stdout",
          "output_type": "stream",
          "text": [
            "{10, 20, 30}\n",
            "{4, 5, 6}\n",
            "{0, 1, 2, 3, 4, 5, 6, 7, 8, 9}\n",
            "set()\n"
          ]
        }
      ]
    },
    {
      "cell_type": "markdown",
      "metadata": {
        "id": "Ujv5ORKXgY1I"
      },
      "source": [
        "\n",
        "Другой способ создать множество - это перечислить его элементы в фигурных скобках (список - в квадратных, кортеж в круглых, а множество - в фигурных)"
      ]
    },
    {
      "cell_type": "code",
      "metadata": {
        "id": "lMo0HMy8gY1K",
        "outputId": "e6d686b8-24d6-4fcb-f959-890dd7ab7c87"
      },
      "source": [
        "primes = {2, 3, 5, 7}\n",
        "animals = {\"cat\", \"dog\", \"horse\", 'cat'}\n",
        "\n",
        "print(primes)\n",
        "print(animals)"
      ],
      "execution_count": null,
      "outputs": [
        {
          "name": "stdout",
          "output_type": "stream",
          "text": [
            "{2, 3, 5, 7}\n",
            "{'horse', 'cat', 'dog'}\n"
          ]
        }
      ]
    },
    {
      "cell_type": "code",
      "metadata": {
        "id": "0s7RECZOgY1K",
        "outputId": "6df06219-122a-4278-8fb8-0aa1cb8120ba"
      },
      "source": [
        "x = [1,2,3,2,2,2,2,2,2,2,'dog',1]\n",
        "print(set(x))"
      ],
      "execution_count": null,
      "outputs": [
        {
          "name": "stdout",
          "output_type": "stream",
          "text": [
            "{1, 2, 3, 'dog'}\n"
          ]
        }
      ]
    },
    {
      "cell_type": "markdown",
      "metadata": {
        "id": "sIrNiNs3gY1L"
      },
      "source": [
        "Кстати, обратите внимание, что множество может состоять только из уникальных объектов. Выше множество animals включает в себя только одну кошку несмотря на то, что в конструктор мы передали 'cat' два раза. Преобразовать в список в множество - самый простой способ узнать количество уникальных объектов.\n",
        "\n",
        "Со множествами работает почти всё, что работает с последовательностями (но не работают индексы, потому что элементы не хранятся упорядоченно)."
      ]
    },
    {
      "cell_type": "code",
      "metadata": {
        "id": "9-1rCuaVgY1M",
        "outputId": "d0f1e110-0855-44d2-ccfa-8b790c222d19"
      },
      "source": [
        "print(len(primes))"
      ],
      "execution_count": null,
      "outputs": [
        {
          "name": "stdout",
          "output_type": "stream",
          "text": [
            "4\n"
          ]
        }
      ]
    },
    {
      "cell_type": "code",
      "metadata": {
        "id": "vqE4Pm3wgY1N",
        "outputId": "d8b41579-79f8-46e5-8ed6-9616ff7b4362"
      },
      "source": [
        "primes = {1,11,22,34,5}\n",
        "11 in primes"
      ],
      "execution_count": null,
      "outputs": [
        {
          "data": {
            "text/plain": [
              "True"
            ]
          },
          "execution_count": 14,
          "metadata": {},
          "output_type": "execute_result"
        }
      ]
    },
    {
      "cell_type": "code",
      "metadata": {
        "id": "O8pGthDtgY1O",
        "outputId": "dc7b9d6d-361a-4b34-c459-af01618ede06"
      },
      "source": [
        "animals = {\"cat\", \"dog\", \"horse\", 'cat'}\n",
        "\"cow\" in animals"
      ],
      "execution_count": null,
      "outputs": [
        {
          "data": {
            "text/plain": [
              "False"
            ]
          },
          "execution_count": 15,
          "metadata": {},
          "output_type": "execute_result"
        }
      ]
    },
    {
      "cell_type": "code",
      "metadata": {
        "id": "KkgDxoaWgY1Q",
        "outputId": "e0070e5b-2851-4e0a-f729-56a1170e2f98"
      },
      "source": [
        " # длина\n",
        "print(11 in primes) # проверка на наличие элемента in хорошо и быстро работает для множеств\n",
        "print(\"cow\" in animals)"
      ],
      "execution_count": null,
      "outputs": [
        {
          "name": "stdout",
          "output_type": "stream",
          "text": [
            "4\n",
            "False\n",
            "False\n"
          ]
        }
      ]
    },
    {
      "cell_type": "markdown",
      "metadata": {
        "id": "Dsc-9h3fgY1Q"
      },
      "source": [
        "Все возможные операции с множествами: https://docs.python.org/3/library/stdtypes.html#set-types-set-frozenset\n",
        "\n",
        "Отдельно мы посмотрим на так называемые операции над множествами. Если вы знаете круги Эйлера, то помните как различают объекты множеств - пересечение, объекты, которые принадлежат множеству а, но не принадлежат b и так далее. Давайте посмотрим, как эти операции реализовани в питоне."
      ]
    },
    {
      "cell_type": "markdown",
      "metadata": {
        "id": "l_JYPQBMgY1Q"
      },
      "source": [
        "### круги Эйлера"
      ]
    },
    {
      "cell_type": "markdown",
      "metadata": {
        "id": "M0POjWlCgY1R"
      },
      "source": [
        "На полке стояло 26 волшебных книг по заклинаниям, все они были прочитаны. Из них 4 прочитал и Гарри Поттер, и Рон. Гермиона прочитала 7 книг, которых не читали ни Гарри Поттер, ни Рон, и две книги, которые читал Гарри Поттер. Всего Гарри Поттер прочитал 11 книг. Сколько книг прочитал только Рон?"
      ]
    },
    {
      "cell_type": "code",
      "metadata": {
        "id": "I5P4voo-gY1S"
      },
      "source": [
        ""
      ],
      "execution_count": null,
      "outputs": []
    },
    {
      "cell_type": "code",
      "metadata": {
        "id": "Y4rRfN7igY1T"
      },
      "source": [
        "a = {1, 2, 3, 4}\n",
        "b = {3, 4, 5, 6}\n",
        "c = {2, 3}"
      ],
      "execution_count": 40,
      "outputs": []
    },
    {
      "cell_type": "code",
      "metadata": {
        "id": "lFFoG7nDgY1T",
        "outputId": "072fc3ae-f79f-47d1-8144-fc41c435e98c"
      },
      "source": [
        "print(c <= a) #c является полным подмножеством а"
      ],
      "execution_count": null,
      "outputs": [
        {
          "name": "stdout",
          "output_type": "stream",
          "text": [
            "True\n"
          ]
        }
      ]
    },
    {
      "cell_type": "code",
      "metadata": {
        "id": "3gMbAKPqgY1T",
        "outputId": "4ce6deed-347c-449e-b189-611a087bd533"
      },
      "source": [
        "print(c >= a)"
      ],
      "execution_count": null,
      "outputs": [
        {
          "name": "stdout",
          "output_type": "stream",
          "text": [
            "False\n"
          ]
        }
      ]
    },
    {
      "cell_type": "code",
      "metadata": {
        "id": "jWqCyGXrgY1V",
        "outputId": "b38d10fe-5e59-4b7e-a470-3405f090c091"
      },
      "source": [
        "print(a | b) #объединение двух множеств"
      ],
      "execution_count": null,
      "outputs": [
        {
          "name": "stdout",
          "output_type": "stream",
          "text": [
            "{1, 2, 3, 4, 5, 6}\n"
          ]
        }
      ]
    },
    {
      "cell_type": "code",
      "metadata": {
        "id": "6VUelt0wD3yT",
        "outputId": "9412c92c-f261-4cc5-a634-4266c4735bbb",
        "colab": {
          "base_uri": "https://localhost:8080/"
        }
      },
      "source": [
        "print (a & b) #пересечение"
      ],
      "execution_count": 41,
      "outputs": [
        {
          "output_type": "stream",
          "name": "stdout",
          "text": [
            "{3, 4}\n"
          ]
        }
      ]
    },
    {
      "cell_type": "code",
      "metadata": {
        "id": "qZbGcMG-gY1V",
        "outputId": "b358d9f4-5dd6-4def-9dd3-f2573c669d7a"
      },
      "source": [
        "a.intersection(b) #пересечение"
      ],
      "execution_count": null,
      "outputs": [
        {
          "data": {
            "text/plain": [
              "{3, 4}"
            ]
          },
          "execution_count": 22,
          "metadata": {},
          "output_type": "execute_result"
        }
      ]
    },
    {
      "cell_type": "code",
      "metadata": {
        "id": "FIS9Co3sgY1V",
        "outputId": "64fccb6f-1679-418b-e3f7-c41d53055048"
      },
      "source": [
        "a.union(b) #объединение двух множеств 2-й вар"
      ],
      "execution_count": null,
      "outputs": [
        {
          "data": {
            "text/plain": [
              "{1, 2, 3, 4, 5, 6}"
            ]
          },
          "execution_count": 23,
          "metadata": {},
          "output_type": "execute_result"
        }
      ]
    },
    {
      "cell_type": "code",
      "metadata": {
        "id": "8hJYMa1IgY1W",
        "outputId": "02766cae-97ed-452f-e5d4-5b98c882ec58"
      },
      "source": [
        "a^b #объединение без пересечения"
      ],
      "execution_count": null,
      "outputs": [
        {
          "data": {
            "text/plain": [
              "{1, 2, 5, 6}"
            ]
          },
          "execution_count": 24,
          "metadata": {},
          "output_type": "execute_result"
        }
      ]
    },
    {
      "cell_type": "code",
      "metadata": {
        "id": "Kx1wUhB9gY1X",
        "outputId": "90590e13-9da5-46c8-98dc-4700d32d6783"
      },
      "source": [
        "b.difference(a)"
      ],
      "execution_count": null,
      "outputs": [
        {
          "data": {
            "text/plain": [
              "{5, 6}"
            ]
          },
          "execution_count": 28,
          "metadata": {},
          "output_type": "execute_result"
        }
      ]
    },
    {
      "cell_type": "code",
      "metadata": {
        "id": "di2G5uMAgY1Y",
        "outputId": "7f968c68-8313-4130-e5b1-1f33a3d29bee"
      },
      "source": [
        "a = {1, 2, 3, 4}\n",
        "b = {3, 4, 5, 6}\n",
        "c = {2, 3}\n",
        "\n",
        " # проверка на подмножество (с подномжество a)\n",
        "print(c <= b) # не подмножество, т.к. в b нет 2 \n",
        "print(a >= c) \n",
        "print(a | b) # объединение a.union(b) aka a+b\n",
        "print(a & b) # пересечение a.intersection(b)\n",
        "print(a - b) # разность множеств (все что в a, кроме b) a.difference(b)\n",
        "print(a ^ b) # симметрическая разность множеств (объединение без пересечения) \n",
        "\n",
        "c = a.copy() # копирование множества, или set(a)\n",
        "print(c)"
      ],
      "execution_count": null,
      "outputs": [
        {
          "name": "stdout",
          "output_type": "stream",
          "text": [
            "True\n",
            "False\n",
            "True\n",
            "{1, 2, 3, 4, 5, 6}\n",
            "{1, 2, 3, 4, 5, 6}\n",
            "{3, 4}\n",
            "{1, 2}\n",
            "{1, 2, 5, 6}\n",
            "{1, 2, 3, 4}\n"
          ]
        }
      ]
    },
    {
      "cell_type": "markdown",
      "metadata": {
        "id": "NJzQjhnbgY1Z"
      },
      "source": [
        "## Task #7"
      ]
    },
    {
      "cell_type": "markdown",
      "metadata": {
        "id": "GbQ-LkzUgY1Z"
      },
      "source": [
        "Write a Python program to find the elements in a given set that are not in another set."
      ]
    },
    {
      "cell_type": "code",
      "metadata": {
        "id": "LbKIUngQgY1a"
      },
      "source": [
        ""
      ],
      "execution_count": null,
      "outputs": []
    },
    {
      "cell_type": "markdown",
      "metadata": {
        "id": "c1AKv_SbgY1a"
      },
      "source": [
        "## Task 8"
      ]
    },
    {
      "cell_type": "markdown",
      "metadata": {
        "id": "txER103IgY1b"
      },
      "source": [
        "Write a Python program to remove the intersection of a 2nd set from the 1st set."
      ]
    },
    {
      "cell_type": "code",
      "metadata": {
        "id": "7-egD_i3gY1b"
      },
      "source": [
        ""
      ],
      "execution_count": null,
      "outputs": []
    },
    {
      "cell_type": "code",
      "metadata": {
        "id": "FSN3lSHRgY1c",
        "outputId": "081eee5f-317b-441b-c3fa-a25879f7180e"
      },
      "source": [
        "a = {1, 2, 3, 4}\n",
        "c = a.copy()\n",
        "c"
      ],
      "execution_count": null,
      "outputs": [
        {
          "data": {
            "text/plain": [
              "{1, 2, 3, 4}"
            ]
          },
          "execution_count": 29,
          "metadata": {},
          "output_type": "execute_result"
        }
      ]
    },
    {
      "cell_type": "code",
      "metadata": {
        "id": "ol-KSYmKgY1d",
        "outputId": "b0b3c8b8-a0e0-408f-efdb-2d0dfe2c6a91"
      },
      "source": [
        "print(c.issubset(a)) # c <= a \n",
        "print(c.isdisjoint(a)) # a и c не пересекаются?\n",
        "print(a.issuperset(c)) # a включает в себя с как подмножество"
      ],
      "execution_count": null,
      "outputs": [
        {
          "name": "stdout",
          "output_type": "stream",
          "text": [
            "True\n",
            "False\n",
            "True\n"
          ]
        }
      ]
    },
    {
      "cell_type": "code",
      "metadata": {
        "id": "hcjWacHTgY1e",
        "outputId": "5bfe0c2a-6ab9-4b07-d919-d6edfac39067"
      },
      "source": [
        "s = {1,2,3}\n",
        "s"
      ],
      "execution_count": null,
      "outputs": [
        {
          "data": {
            "text/plain": [
              "{1, 2, 3}"
            ]
          },
          "execution_count": 30,
          "metadata": {},
          "output_type": "execute_result"
        }
      ]
    },
    {
      "cell_type": "code",
      "metadata": {
        "id": "MdhXXlENgY1e",
        "outputId": "1633e6f4-7cac-468d-9aeb-e0300b9531bd"
      },
      "source": [
        "s.add(10)\n",
        "s"
      ],
      "execution_count": null,
      "outputs": [
        {
          "data": {
            "text/plain": [
              "{1, 2, 3, 10}"
            ]
          },
          "execution_count": 31,
          "metadata": {},
          "output_type": "execute_result"
        }
      ]
    },
    {
      "cell_type": "code",
      "metadata": {
        "id": "lFqqoyLugY1f",
        "outputId": "2349b622-1aa2-4d9e-d036-4c03217c3f18"
      },
      "source": [
        "s.add(10)\n",
        "s"
      ],
      "execution_count": null,
      "outputs": [
        {
          "data": {
            "text/plain": [
              "{1, 2, 3, 10}"
            ]
          },
          "execution_count": 34,
          "metadata": {},
          "output_type": "execute_result"
        }
      ]
    },
    {
      "cell_type": "code",
      "metadata": {
        "id": "V7NAYJn2gY1g",
        "outputId": "6a573fb3-8810-4848-ff54-c9f69c5d1798"
      },
      "source": [
        "s.discard(500)\n",
        "s"
      ],
      "execution_count": null,
      "outputs": [
        {
          "data": {
            "text/plain": [
              "{1, 2, 3, 10}"
            ]
          },
          "execution_count": 36,
          "metadata": {},
          "output_type": "execute_result"
        }
      ]
    },
    {
      "cell_type": "code",
      "metadata": {
        "id": "3hIuGXIugY1g",
        "outputId": "5978391b-ab87-4202-9fc4-0f56cc27d98f"
      },
      "source": [
        "x = s.pop()\n",
        "print(s)\n",
        "print(x)"
      ],
      "execution_count": null,
      "outputs": [
        {
          "name": "stdout",
          "output_type": "stream",
          "text": [
            "{1, 2, 3}\n",
            "10\n"
          ]
        }
      ]
    },
    {
      "cell_type": "code",
      "metadata": {
        "id": "JR87BfzBgY1h",
        "outputId": "73adf7c0-269c-4f24-ed48-d3f6ecb024a5"
      },
      "source": [
        "s"
      ],
      "execution_count": null,
      "outputs": [
        {
          "data": {
            "text/plain": [
              "{1, 2, 3}"
            ]
          },
          "execution_count": 38,
          "metadata": {},
          "output_type": "execute_result"
        }
      ]
    },
    {
      "cell_type": "code",
      "metadata": {
        "id": "wwSENW02gY1k",
        "outputId": "9e384ba5-fe67-4ee6-c6e0-19a72093dd7d"
      },
      "source": [
        "s.clear()\n",
        "s"
      ],
      "execution_count": null,
      "outputs": [
        {
          "data": {
            "text/plain": [
              "set()"
            ]
          },
          "execution_count": 39,
          "metadata": {},
          "output_type": "execute_result"
        }
      ]
    },
    {
      "cell_type": "markdown",
      "metadata": {
        "id": "SSVqNtzjgY1m"
      },
      "source": [
        "Предыдущие операции не меняли множества, создавали новые. А как менять множество:\n"
      ]
    },
    {
      "cell_type": "code",
      "metadata": {
        "id": "I_y2EE6VgY1n",
        "outputId": "d9f44e49-5750-41e8-99b7-66b82d84614d"
      },
      "source": [
        "s = {1, 2, 3}\n",
        "s.add(10) # добавить\n",
        "print(s) # обратите внимание, что порядок элементов непредсказуем\n",
        "s.remove(1) # удаление элемента\n",
        "s.discard(1) # аналогично, но не будет ошибки, если вдруг такого элемента нет в множестве\n",
        "print(s)\n",
        "x = s.pop() # удаляет и возвращает один произвольный элемент множества (можем сохранить его в переменную)\n",
        "print(s)\n",
        "print(x)\n",
        "s.clear() # очистить\n",
        "print(s)"
      ],
      "execution_count": null,
      "outputs": [
        {
          "name": "stdout",
          "output_type": "stream",
          "text": [
            "{10, 1, 2, 3}\n",
            "{10, 2, 3}\n",
            "{2, 3}\n",
            "10\n",
            "set()\n"
          ]
        }
      ]
    },
    {
      "cell_type": "code",
      "metadata": {
        "id": "u6ALsnK3gY1n",
        "outputId": "a32e94b3-a9f3-4c9f-aba1-7c016d6a4907"
      },
      "source": [
        "s = {1, 2}\n",
        "# s |= {10, 20}\n",
        "s = s|{10, 20}\n",
        "s"
      ],
      "execution_count": null,
      "outputs": [
        {
          "data": {
            "text/plain": [
              "{1, 2, 10, 20}"
            ]
          },
          "execution_count": 41,
          "metadata": {},
          "output_type": "execute_result"
        }
      ]
    },
    {
      "cell_type": "markdown",
      "metadata": {
        "id": "5lSDmKZHgY1p"
      },
      "source": [
        "Как мы сокращали арифметические операции раньше (например, +=), так же можно сокращать операции над множествами."
      ]
    },
    {
      "cell_type": "code",
      "metadata": {
        "id": "0toNI7K0gY1q",
        "outputId": "36067607-634a-485b-8715-c56c98055ef9"
      },
      "source": [
        "s |= {10, 20} # s = s | {10, 20} # объединение множества s с {10,20}\n",
        "print(s)\n",
        "# s ^=, s &= и т.п."
      ],
      "execution_count": null,
      "outputs": [
        {
          "name": "stdout",
          "output_type": "stream",
          "text": [
            "{10, 20}\n"
          ]
        }
      ]
    },
    {
      "cell_type": "markdown",
      "metadata": {
        "id": "okuORRabgY1t"
      },
      "source": [
        "# Словари (dict)\n",
        "Обычный массив (в питоне это список) можно понимать как функцию, которая сопоставляет начальному отрезку натурального ряда какие-то значения."
      ]
    },
    {
      "cell_type": "markdown",
      "metadata": {
        "id": "d--4g_m3gY1u"
      },
      "source": [
        "Давайте посмотрим на списки непривычным способом. Списки - это функции (отображения), которые отображают начальный ряд натуральных чисел в объекты (проще говоря - преводят число 0,1,2,3... во что-то): "
      ]
    },
    {
      "cell_type": "code",
      "metadata": {
        "id": "qsULzXjwgY1u",
        "outputId": "9f4148bb-d3cd-4e30-a873-aeb4ce3c5ab9"
      },
      "source": [
        "l = [10, 20, 30, 'a']\n",
        "print(l[0])\n",
        "print(l[1])\n",
        "print(l[2])\n",
        "print(l[3])"
      ],
      "execution_count": null,
      "outputs": [
        {
          "name": "stdout",
          "output_type": "stream",
          "text": [
            "10\n",
            "20\n",
            "30\n",
            "a\n"
          ]
        }
      ]
    },
    {
      "cell_type": "markdown",
      "metadata": {
        "id": "_raTzPsngY1v"
      },
      "source": [
        "В словарях отображать можно не только начала натурального ряда, а произвольные объекты. Представьте себе настоящий словарь или телефонную книжку. Имени человека соответствует номер телефона.\n",
        "\n",
        "Классическое использование словарей в анализе данных: хранить частоту слова в тексте.\n",
        "\n",
        "кот $\\rightarrow$ 10\n",
        "\n",
        "и $\\rightarrow$ 100\n",
        "\n",
        "Тейлора $\\rightarrow$ 2"
      ]
    },
    {
      "cell_type": "markdown",
      "metadata": {
        "id": "bx6mIkIBgY1w"
      },
      "source": [
        "Словарь состоит из набора ключей и соответствующих им значений. Значения могут быть любыми объектами (также как и в списке, хранить можно произвольные объекты). А ключи могут быть почти любыми объектами, но только неизменяемыми. В частности числами, строками, кортежами. Список или множество не могут быть ключом.\n",
        "\n",
        "Одному ключу соответствует ровно одно значение. Но одно и то же значение, в принципе, можно сопоставить разным ключам."
      ]
    },
    {
      "cell_type": "code",
      "metadata": {
        "id": "n_pa9dutgY1x",
        "outputId": "172989f4-8f84-44cd-d659-6ebe7b0f1475"
      },
      "source": [
        "a = dict()\n",
        "type(a)"
      ],
      "execution_count": null,
      "outputs": [
        {
          "data": {
            "text/plain": [
              "dict"
            ]
          },
          "execution_count": 43,
          "metadata": {},
          "output_type": "execute_result"
        }
      ]
    },
    {
      "cell_type": "code",
      "metadata": {
        "id": "v80w8cIhgY1y",
        "outputId": "001bc31a-269d-49e6-b4a3-1a36c870e55d"
      },
      "source": [
        "a['chapter1'] = 'ghfdlksgrjkasgdjkagrdjksargs'\n",
        "a"
      ],
      "execution_count": null,
      "outputs": [
        {
          "data": {
            "text/plain": [
              "{'chapter1': 'ghfdlksgrjkasgdjkagrdjksargs'}"
            ]
          },
          "execution_count": 44,
          "metadata": {},
          "output_type": "execute_result"
        }
      ]
    },
    {
      "cell_type": "code",
      "metadata": {
        "id": "esHfNBTpgY10"
      },
      "source": [
        "a[1] = 'hrjegrejk'\n"
      ],
      "execution_count": null,
      "outputs": []
    },
    {
      "cell_type": "code",
      "metadata": {
        "id": "F9WcwEF_gY10"
      },
      "source": [
        "x = (3,4,5)\n",
        "a[x] = 'hrjekwslerw'"
      ],
      "execution_count": null,
      "outputs": []
    },
    {
      "cell_type": "code",
      "metadata": {
        "id": "96pA3ypZgY11"
      },
      "source": [
        "x = (1,2,3,'str')\n",
        "a[x] = 'fuidaslt'"
      ],
      "execution_count": null,
      "outputs": []
    },
    {
      "cell_type": "code",
      "metadata": {
        "id": "aOll-tgDgY11",
        "outputId": "efcf50d8-05c5-4302-b99e-c42486f72c5e"
      },
      "source": [
        "a"
      ],
      "execution_count": null,
      "outputs": [
        {
          "data": {
            "text/plain": [
              "{'chapter1': 'ghfdlksgrjkasgdjkagrdjksargs',\n",
              " 1: 'hrjegrejk',\n",
              " (3, 4, 5): 'hrjekwslerw',\n",
              " (1, 2, 3, 'str'): 'fuidaslt'}"
            ]
          },
          "execution_count": 53,
          "metadata": {},
          "output_type": "execute_result"
        }
      ]
    },
    {
      "cell_type": "code",
      "metadata": {
        "id": "5WVYksE8gY12",
        "outputId": "fb59b95c-e09e-4e62-9a7c-f5e0331fce9f"
      },
      "source": [
        "a = dict()\n",
        "a[(2,3)] = [2,3] # кортеж может быть ключом, потому что он неизменямый\n",
        "a"
      ],
      "execution_count": null,
      "outputs": [
        {
          "data": {
            "text/plain": [
              "{(2, 3): [2, 3]}"
            ]
          },
          "execution_count": 30,
          "metadata": {},
          "output_type": "execute_result"
        }
      ]
    },
    {
      "cell_type": "code",
      "metadata": {
        "id": "NzJNYypFgY13",
        "outputId": "e8d6303a-91d9-459f-a539-f22e000f3e9b"
      },
      "source": [
        "b = dict()\n",
        "b[[2,3]] = [2,3] # а список уже нет, получим ошибку\n",
        "print(b)"
      ],
      "execution_count": null,
      "outputs": [
        {
          "ename": "TypeError",
          "evalue": "unhashable type: 'list'",
          "output_type": "error",
          "traceback": [
            "\u001b[1;31m---------------------------------------------------------------------------\u001b[0m",
            "\u001b[1;31mTypeError\u001b[0m                                 Traceback (most recent call last)",
            "\u001b[1;32m<ipython-input-31-c056762b57aa>\u001b[0m in \u001b[0;36m<module>\u001b[1;34m()\u001b[0m\n\u001b[0;32m      1\u001b[0m \u001b[0mb\u001b[0m \u001b[1;33m=\u001b[0m \u001b[0mdict\u001b[0m\u001b[1;33m(\u001b[0m\u001b[1;33m)\u001b[0m\u001b[1;33m\u001b[0m\u001b[0m\n\u001b[1;32m----> 2\u001b[1;33m \u001b[0mb\u001b[0m\u001b[1;33m[\u001b[0m\u001b[1;33m[\u001b[0m\u001b[1;36m2\u001b[0m\u001b[1;33m,\u001b[0m\u001b[1;36m3\u001b[0m\u001b[1;33m]\u001b[0m\u001b[1;33m]\u001b[0m \u001b[1;33m=\u001b[0m \u001b[1;33m[\u001b[0m\u001b[1;36m2\u001b[0m\u001b[1;33m,\u001b[0m\u001b[1;36m3\u001b[0m\u001b[1;33m]\u001b[0m \u001b[1;31m# а список уже нет, получим ошибку\u001b[0m\u001b[1;33m\u001b[0m\u001b[0m\n\u001b[0m\u001b[0;32m      3\u001b[0m \u001b[0mprint\u001b[0m\u001b[1;33m(\u001b[0m\u001b[0mb\u001b[0m\u001b[1;33m)\u001b[0m\u001b[1;33m\u001b[0m\u001b[0m\n",
            "\u001b[1;31mTypeError\u001b[0m: unhashable type: 'list'"
          ]
        }
      ]
    },
    {
      "cell_type": "markdown",
      "metadata": {
        "id": "W7EeEwVXgY13"
      },
      "source": [
        "### Создание словаря\n",
        "В фигурных скобках (как множество), через двоеточие ключ:значение"
      ]
    },
    {
      "cell_type": "code",
      "metadata": {
        "id": "EN8uqteCgY15",
        "outputId": "616ed3e7-f384-4967-b54a-97f7034ed76a"
      },
      "source": [
        "d = dict()\n",
        "d"
      ],
      "execution_count": null,
      "outputs": [
        {
          "data": {
            "text/plain": [
              "{}"
            ]
          },
          "execution_count": 55,
          "metadata": {},
          "output_type": "execute_result"
        }
      ]
    },
    {
      "cell_type": "code",
      "metadata": {
        "id": "eMAhqKTsgY17",
        "outputId": "73b7b165-23c1-46bd-ff48-cf6682e25da4"
      },
      "source": [
        "d1 = {\"кот\": 10, \"и\": 100, \"Тейлора\": 2}\n",
        "print(d1)"
      ],
      "execution_count": null,
      "outputs": [
        {
          "name": "stdout",
          "output_type": "stream",
          "text": [
            "{'кот': 10, 'и': 100, 'Тейлора': 2}\n"
          ]
        }
      ]
    },
    {
      "cell_type": "code",
      "metadata": {
        "id": "1_mTvgwEgY19",
        "outputId": "ffe02ad5-ffc8-40eb-de5b-edb70fe67026"
      },
      "source": [
        "d1[\"кот\"]"
      ],
      "execution_count": null,
      "outputs": [
        {
          "data": {
            "text/plain": [
              "10"
            ]
          },
          "execution_count": 57,
          "metadata": {},
          "output_type": "execute_result"
        }
      ]
    },
    {
      "cell_type": "markdown",
      "metadata": {
        "id": "QTbDA7msgY1-"
      },
      "source": [
        "Через функцию dict(). Обратите внимание, что тогда ключ-значение задаются не через двоеточие, а через знак присваивания. А строковые ключи пишем без кавычек - по сути мы создаем переменные с такими названиями и присваиваим им значения (а потом функция dict() уже превратит их в строки)."
      ]
    },
    {
      "cell_type": "code",
      "metadata": {
        "id": "4jySCE24gY1_",
        "outputId": "5304bf0f-c102-4e3f-ef78-00afe0680215"
      },
      "source": [
        "d2 = dict(кот=10, и=100, Тейлора=2)\n",
        "print(d2) # получили тот же результат, что выше"
      ],
      "execution_count": null,
      "outputs": [
        {
          "name": "stdout",
          "output_type": "stream",
          "text": [
            "{'кот': 10, 'и': 100, 'Тейлора': 2}\n"
          ]
        }
      ]
    },
    {
      "cell_type": "markdown",
      "metadata": {
        "id": "Wt0P3Q1ugY2A"
      },
      "source": [
        "И третий способ - передаем функции dict() список списков или кортежей с парами ключ-значение."
      ]
    },
    {
      "cell_type": "code",
      "metadata": {
        "id": "Hg-LbRaNgY2A",
        "outputId": "56821e1c-b5d5-4a3e-f523-561ec434f1a4"
      },
      "source": [
        "d3 = dict([(\"кот\", 10), (\"и\", 100), (\"Тейлора\", 2)]) # перечисление (например, список) tuple\n",
        "print(d3)"
      ],
      "execution_count": null,
      "outputs": [
        {
          "name": "stdout",
          "output_type": "stream",
          "text": [
            "{'кот': 10, 'и': 100, 'Тейлора': 2}\n"
          ]
        }
      ]
    },
    {
      "cell_type": "markdown",
      "metadata": {
        "id": "QTu9VPSjgY2B"
      },
      "source": [
        "Помните, когда мы говорили про списки, мы обсуждали проблему того, что важно создавать именно копию объекта, чтобы сохранять исходный список. Копию словаря можно сделать так"
      ]
    },
    {
      "cell_type": "code",
      "metadata": {
        "id": "7r-PyAVqgY2C",
        "outputId": "596c38ce-e785-4610-ee63-bd6a0bb0043c"
      },
      "source": [
        "d4 = dict(d3) # фактически, копируем dict который строчкой выше\n",
        "print(d4)"
      ],
      "execution_count": null,
      "outputs": [
        {
          "name": "stdout",
          "output_type": "stream",
          "text": [
            "{'кот': 10, 'и': 100, 'Тейлора': 2}\n"
          ]
        }
      ]
    },
    {
      "cell_type": "code",
      "metadata": {
        "id": "Rpiv378IgY2C",
        "outputId": "0b9a1f24-059b-43ec-d665-86470d11d911"
      },
      "source": [
        "d1 == d2 == d3 == d4 # Содержание всех словарей одинаковое"
      ],
      "execution_count": null,
      "outputs": [
        {
          "data": {
            "text/plain": [
              "True"
            ]
          },
          "execution_count": 62,
          "metadata": {},
          "output_type": "execute_result"
        }
      ]
    },
    {
      "cell_type": "markdown",
      "metadata": {
        "id": "zqUSaeRtgY2D"
      },
      "source": [
        "Пустой словарь можно создать двумя способами."
      ]
    },
    {
      "cell_type": "code",
      "metadata": {
        "id": "8xxy5PJ2gY2D",
        "outputId": "f0defc26-29eb-4b61-8527-36dc6dae1715"
      },
      "source": [
        "d2 = {} # это пустой словарь (но не пустое множество)\n",
        "d4 = dict()\n",
        "print(d2, d4)"
      ],
      "execution_count": null,
      "outputs": [
        {
          "name": "stdout",
          "output_type": "stream",
          "text": [
            "{} {}\n"
          ]
        }
      ]
    },
    {
      "cell_type": "code",
      "metadata": {
        "id": "4v6AHW7ugY2E",
        "outputId": "fed9cae5-e9a7-4eea-ab5a-69220be8f67b"
      },
      "source": [
        "x = {}\n",
        "type(x)"
      ],
      "execution_count": null,
      "outputs": [
        {
          "data": {
            "text/plain": [
              "dict"
            ]
          },
          "execution_count": 64,
          "metadata": {},
          "output_type": "execute_result"
        }
      ]
    },
    {
      "cell_type": "markdown",
      "metadata": {
        "id": "4SFSf9JZgY2G"
      },
      "source": [
        "## Task #9"
      ]
    },
    {
      "cell_type": "markdown",
      "metadata": {
        "id": "VhOdvBTwgY2G"
      },
      "source": [
        "Access the value of key ‘history’ from the below"
      ]
    },
    {
      "cell_type": "code",
      "metadata": {
        "id": "QbJ6xsZegY2G"
      },
      "source": [
        "sampleDict = { \n",
        "   \"class\":{ \n",
        "      \"student\":{ \n",
        "         \"name\":\"Mike\",\n",
        "         \"marks\":{ \n",
        "            \"physics\":70,\n",
        "            \"history\":80\n",
        "         }\n",
        "      }\n",
        "   }\n",
        "}"
      ],
      "execution_count": null,
      "outputs": []
    },
    {
      "cell_type": "markdown",
      "metadata": {
        "id": "wynIqoj5gY2H"
      },
      "source": [
        "## Task #10"
      ]
    },
    {
      "cell_type": "markdown",
      "metadata": {
        "id": "b0vaiH0VgY2H"
      },
      "source": [
        "Write a Python program to convert a tuple to a dictionary.\n",
        "\n",
        "Input: `[(0, 1), (1, 2), (2, 3)]`\n",
        "\n",
        "Output: `{0: 1, 1: 2, 2: 3}`"
      ]
    },
    {
      "cell_type": "markdown",
      "metadata": {
        "id": "olPLGK73gY2H"
      },
      "source": [
        "## Task 11"
      ]
    },
    {
      "cell_type": "markdown",
      "metadata": {
        "id": "OVSZVeoagY2H"
      },
      "source": [
        "Delete set of keys from a dictionary"
      ]
    },
    {
      "cell_type": "code",
      "metadata": {
        "id": "YGWrjBa2gY2H"
      },
      "source": [
        "sampleDict = {\n",
        "  \"name\": \"Kelly\",\n",
        "  \"age\":25,\n",
        "  \"salary\": 8000,\n",
        "  \"city\": \"New york\"\n",
        "  \n",
        "}\n",
        "keysToRemove = [\"name\", \"salary\"]"
      ],
      "execution_count": null,
      "outputs": []
    },
    {
      "cell_type": "code",
      "metadata": {
        "id": "W1E6s-qUgY2H"
      },
      "source": [
        ""
      ],
      "execution_count": null,
      "outputs": []
    },
    {
      "cell_type": "markdown",
      "metadata": {
        "id": "XVvoeGTXgY2I"
      },
      "source": [
        "### Операции со словарями"
      ]
    },
    {
      "cell_type": "markdown",
      "metadata": {
        "id": "LAgctHKOgY2J"
      },
      "source": [
        "Как мы уже говорили, словари неупорядоченные структуры и обратиться по индексу к объекту уже больше не удастся."
      ]
    },
    {
      "cell_type": "code",
      "metadata": {
        "id": "zjoMmBWQgY2J",
        "outputId": "cf21ba99-ff43-4058-b2e3-10f2f7d4d6d5"
      },
      "source": [
        "d1[1] # выдаст ошибку во всех случах кроме того, если в вашем словаре вдруг есть ключ 1"
      ],
      "execution_count": null,
      "outputs": [
        {
          "ename": "KeyError",
          "evalue": "1",
          "output_type": "error",
          "traceback": [
            "\u001b[1;31m---------------------------------------------------------------------------\u001b[0m",
            "\u001b[1;31mKeyError\u001b[0m                                  Traceback (most recent call last)",
            "\u001b[1;32m<ipython-input-57-627b04325301>\u001b[0m in \u001b[0;36m<module>\u001b[1;34m()\u001b[0m\n\u001b[1;32m----> 1\u001b[1;33m \u001b[0md1\u001b[0m\u001b[1;33m[\u001b[0m\u001b[1;36m1\u001b[0m\u001b[1;33m]\u001b[0m \u001b[1;31m# выдаст ошибку во всех случах кроме того, если в вашем словаре вдруг есть ключ 1\u001b[0m\u001b[1;33m\u001b[0m\u001b[0m\n\u001b[0m",
            "\u001b[1;31mKeyError\u001b[0m: 1"
          ]
        }
      ]
    },
    {
      "cell_type": "markdown",
      "metadata": {
        "id": "2BOvy6gsgY2J"
      },
      "source": [
        "Но можно обращаться к значению по ключу."
      ]
    },
    {
      "cell_type": "code",
      "metadata": {
        "id": "KpB5ytvlgY2K",
        "outputId": "88f08c6d-454d-4e44-fe19-314441131c41"
      },
      "source": [
        "d3 = dict([(\"кот\", 10), (\"и\", 100), (\"Тейлора\", 2)])\n",
        "print(d1['кот'])"
      ],
      "execution_count": null,
      "outputs": [
        {
          "name": "stdout",
          "output_type": "stream",
          "text": [
            "10\n"
          ]
        }
      ]
    },
    {
      "cell_type": "code",
      "metadata": {
        "id": "bCAMtic5gY2L",
        "outputId": "615a06d9-3976-40ea-d1b2-5977a163e3c3"
      },
      "source": [
        "d1[1]"
      ],
      "execution_count": null,
      "outputs": [
        {
          "ename": "KeyError",
          "evalue": "1",
          "output_type": "error",
          "traceback": [
            "\u001b[0;31m---------------------------------------------------------------------------\u001b[0m",
            "\u001b[0;31mKeyError\u001b[0m                                  Traceback (most recent call last)",
            "\u001b[0;32m<ipython-input-66-b333f2df0ab4>\u001b[0m in \u001b[0;36m<module>\u001b[0;34m\u001b[0m\n\u001b[0;32m----> 1\u001b[0;31m \u001b[0md1\u001b[0m\u001b[0;34m[\u001b[0m\u001b[0;36m1\u001b[0m\u001b[0;34m]\u001b[0m\u001b[0;34m\u001b[0m\u001b[0;34m\u001b[0m\u001b[0m\n\u001b[0m",
            "\u001b[0;31mKeyError\u001b[0m: 1"
          ]
        }
      ]
    },
    {
      "cell_type": "markdown",
      "metadata": {
        "id": "nsvj_wD2gY2M"
      },
      "source": [
        "Можно создать новую пару ключ-значение. Для этого просто указываем в квадратных скобках название нового ключа."
      ]
    },
    {
      "cell_type": "code",
      "metadata": {
        "id": "sxU67jEtgY2N",
        "outputId": "69c81a12-b951-42cf-899d-aa431a74b0f3"
      },
      "source": [
        "d1[1] = 'test'\n",
        "print(d1[1]) # теперь работает!"
      ],
      "execution_count": null,
      "outputs": [
        {
          "name": "stdout",
          "output_type": "stream",
          "text": [
            "test\n"
          ]
        }
      ]
    },
    {
      "cell_type": "markdown",
      "metadata": {
        "id": "D91j4-j4gY2O"
      },
      "source": [
        "Внимание: если элемент с указанным ключом уже существует, новый с таким же ключом не добавится! Ключ – это уникальный идентификатор элемента. Если мы добавим в словарь новый элемент с уже существующим ключом, мы просто изменим старый – словари являются изменяемыми объектами. "
      ]
    },
    {
      "cell_type": "code",
      "metadata": {
        "id": "aYb_DRtmgY2O",
        "outputId": "2cfad236-2e28-40c1-97bf-6e2531e469e2"
      },
      "source": [
        "d3 = dict([(\"кот\", 10), (\"и\", 100), (\"Тейлора\", 2)])\n",
        "d1[\"кот\"] = 11 # так же как в списке по индексу - можно присвоить новое значение по ключу\n",
        "d1"
      ],
      "execution_count": null,
      "outputs": [
        {
          "data": {
            "text/plain": [
              "{'кот': 11, 'и': 100, 'Тейлора': 2, 1: 'test'}"
            ]
          },
          "execution_count": 68,
          "metadata": {},
          "output_type": "execute_result"
        }
      ]
    },
    {
      "cell_type": "code",
      "metadata": {
        "id": "MszUmXrogY2O",
        "outputId": "c76e58e0-36b0-4da3-8d3f-7d7c5761c970"
      },
      "source": [
        "d1[\"кот\"] += 1 # или даже изменить его за счет арифметической операции\n",
        "d1"
      ],
      "execution_count": null,
      "outputs": [
        {
          "data": {
            "text/plain": [
              "{'кот': 13, 'и': 100, 'Тейлора': 2, 1: 'test'}"
            ]
          },
          "execution_count": 70,
          "metadata": {},
          "output_type": "execute_result"
        }
      ]
    },
    {
      "cell_type": "markdown",
      "metadata": {
        "id": "cRySfNPNgY2P"
      },
      "source": [
        "А вот одинаковые значения в словаре могут быть."
      ]
    },
    {
      "cell_type": "code",
      "metadata": {
        "id": "TK-xXaQlgY2Q",
        "outputId": "5d18a48f-6759-4f84-f230-023208206398"
      },
      "source": [
        "d1['собака'] = 13\n",
        "print(d1)"
      ],
      "execution_count": null,
      "outputs": [
        {
          "name": "stdout",
          "output_type": "stream",
          "text": [
            "{'кот': 13, 'и': 100, 'Тейлора': 2, 1: 'test', 'собака': 13}\n"
          ]
        }
      ]
    },
    {
      "cell_type": "markdown",
      "metadata": {
        "id": "3Jd12YDkgY2Q"
      },
      "source": [
        "## Task 12"
      ]
    },
    {
      "cell_type": "markdown",
      "metadata": {
        "id": "Awjy4np6gY2Q"
      },
      "source": [
        "Count frequency for each word in a given text"
      ]
    },
    {
      "cell_type": "code",
      "metadata": {
        "id": "C0hhsHYhgY2Q"
      },
      "source": [
        "text = \"\"\"the outbreak of coronavirus disease 2019 ( COVID - 19 ) has created a global health crisis that has had a deep impact on the way we perceive our world and our everyday lives . Not only the rate of contagion and patterns of transmission threatens our sense of agency , but the safety measures put in place to contain the spread of the virus also require social distancing by refraining from doing what is inherently human , which is to find solace in the company of others . Within this context of physical threat , social and physical distancing , as well as public alarm , what has been ( and can be ) the role of the different mass media channels in our lives on individual , social and societal levels ? Mass media have long been recognized as powerful forces shaping how we experience the world and ourselves . This recognition is accompanied by a growing volume of research , that closely follows the footsteps of technological transformations ( e . g . radio , movies , television , the internet , mobiles ) and the zeitgeist ( e . g . cold war , 9 / 11 , climate change ) in an attempt to map mass media major impacts on how we perceive ourselves , both as individuals and citizens . Are media ( broadcast and digital ) still able to convey a sense of unity reaching large audiences , or are messages lost in the noisy crowd of mass self - communication ?\"\"\""
      ],
      "execution_count": null,
      "outputs": []
    },
    {
      "cell_type": "code",
      "metadata": {
        "id": "u73gZBXXgY2Q"
      },
      "source": [
        ""
      ],
      "execution_count": null,
      "outputs": []
    },
    {
      "cell_type": "markdown",
      "metadata": {
        "id": "Mpu4X-3LgY2R"
      },
      "source": [
        "Кроме обращения по ключу, можно достать значение с помощью метода .get(). Отличие работы метода в том, что если ключа еще нет в словаре, он не генерирует ошибку, а возвращает объект типа None (\"ничего\"). Это очень полезно в решении некоторых задач. "
      ]
    },
    {
      "cell_type": "code",
      "metadata": {
        "id": "ZFJ0eH7_gY2R",
        "outputId": "d838d551-3d93-4106-f908-e1bc483dabed"
      },
      "source": [
        "d1"
      ],
      "execution_count": null,
      "outputs": [
        {
          "data": {
            "text/plain": [
              "{'кот': 13, 'и': 100, 'Тейлора': 2, 1: 'test', 'собака': 13}"
            ]
          },
          "execution_count": 73,
          "metadata": {},
          "output_type": "execute_result"
        }
      ]
    },
    {
      "cell_type": "code",
      "metadata": {
        "id": "3Vl2sqOJgY2S"
      },
      "source": [
        "print(d1['кот'])"
      ],
      "execution_count": null,
      "outputs": []
    },
    {
      "cell_type": "code",
      "metadata": {
        "id": "-ITh_o1XgY2S",
        "outputId": "540daa41-1ef8-4a22-f260-fd8319adac66"
      },
      "source": [
        "print(d1.get(\"ктоо\")) # вернут None\n"
      ],
      "execution_count": null,
      "outputs": [
        {
          "name": "stdout",
          "output_type": "stream",
          "text": [
            "None\n"
          ]
        }
      ]
    },
    {
      "cell_type": "markdown",
      "metadata": {
        "id": "Ohsw71hKgY2U"
      },
      "source": [
        "Удобство метода .get() заключается в том, что мы сами можем установить, какое значение будет возвращено, в случае, если пары с выбранным ключом нет в словаре. Так, вместо None мы можем вернуть строку Not found, и ломаться ничего не будет:"
      ]
    },
    {
      "cell_type": "code",
      "metadata": {
        "id": "pvlN50C9gY2U",
        "outputId": "3c6328a4-2528-44ce-a3ec-63d37a0407b2"
      },
      "source": [
        "print(d1.get(\"ктоо\", 'Not found')) # передаем вторым аргументом, что возвращать\n",
        "print(d1.get(\"ктоо\", False)) # передаем вторым аргументом, что возвращать"
      ],
      "execution_count": null,
      "outputs": [
        {
          "name": "stdout",
          "output_type": "stream",
          "text": [
            "Not found\n",
            "False\n"
          ]
        }
      ]
    },
    {
      "cell_type": "markdown",
      "metadata": {
        "id": "yvZzqtB9gY2V"
      },
      "source": [
        "Также со словарями работают уже знакомые нам операции - проверка количества элементов, проверка на наличие объектов."
      ]
    },
    {
      "cell_type": "code",
      "metadata": {
        "id": "Ebn9B0lVgY2W"
      },
      "source": [
        "d1"
      ],
      "execution_count": null,
      "outputs": []
    },
    {
      "cell_type": "code",
      "metadata": {
        "id": "VSgnJ2-2gY2W",
        "outputId": "3ac596c7-66f7-4e83-e764-a1ec5739018b"
      },
      "source": [
        "print(d1)\n",
        "print(\"кот\" in d1) # проверка на наличие ключа\n",
        "print(\"ктоо\" not in d1) # проверка на отстуствие ключа\n"
      ],
      "execution_count": null,
      "outputs": [
        {
          "name": "stdout",
          "output_type": "stream",
          "text": [
            "{'кот': 13, 'и': 100, 'Тейлора': 2, 1: 'test', 'собака': 13}\n",
            "True\n",
            "True\n"
          ]
        }
      ]
    },
    {
      "cell_type": "markdown",
      "metadata": {
        "id": "YNOBXNMwgY2Y"
      },
      "source": [
        "Удалить отдельный ключ или же очистить весь словарь можно специальными операциями."
      ]
    },
    {
      "cell_type": "code",
      "metadata": {
        "id": "0RxpL6mwgY2Y"
      },
      "source": [
        "del d1[\"кот\"]"
      ],
      "execution_count": null,
      "outputs": []
    },
    {
      "cell_type": "code",
      "metadata": {
        "id": "SXrB6UD-gY2Y",
        "outputId": "d5157a7c-b434-4709-adc0-5ead9feb6291"
      },
      "source": [
        "d1"
      ],
      "execution_count": null,
      "outputs": [
        {
          "data": {
            "text/plain": [
              "{'и': 100, 'Тейлора': 2, 1: 'test', 'собака': 13}"
            ]
          },
          "execution_count": 78,
          "metadata": {},
          "output_type": "execute_result"
        }
      ]
    },
    {
      "cell_type": "code",
      "metadata": {
        "id": "EhppyFlJgY2Z",
        "outputId": "c88274d7-cf82-451e-dc65-ce77a1679a17"
      },
      "source": [
        "d1.clear()\n",
        "d1"
      ],
      "execution_count": null,
      "outputs": [
        {
          "data": {
            "text/plain": [
              "{}"
            ]
          },
          "execution_count": 79,
          "metadata": {},
          "output_type": "execute_result"
        }
      ]
    },
    {
      "cell_type": "code",
      "metadata": {
        "id": "j7QY8fo_gY2a",
        "outputId": "7fd7779c-d636-4308-fc67-c416bc0a1136"
      },
      "source": [
        "del d1[\"кот\"] # удалить ключ со своим значением\n",
        "print(d1)\n",
        "d1.clear() # удалить все\n",
        "print(d1)"
      ],
      "execution_count": null,
      "outputs": [
        {
          "name": "stdout",
          "output_type": "stream",
          "text": [
            "{'и': 100, 'Тейлора': 2, 1: 'test'}\n",
            "{}\n"
          ]
        }
      ]
    },
    {
      "cell_type": "code",
      "metadata": {
        "id": "Ks0Fhzl0gY2b"
      },
      "source": [
        "d1 = dict([(\"кот\", 10), (\"и\", 10), (\"Тейлора\", 2)])"
      ],
      "execution_count": null,
      "outputs": []
    },
    {
      "cell_type": "markdown",
      "metadata": {
        "id": "6jATu-GkgY2c"
      },
      "source": [
        "У словарей есть три метода, с помощью которых мы можем сгенерировать список только ключей, только значений и список пар ключ-значения (на самом деле там несколько другая структура, но ведет себя она очень похоже на список)."
      ]
    },
    {
      "cell_type": "code",
      "metadata": {
        "id": "EHl4GbB4gY2c",
        "outputId": "2407df94-6de6-4350-d8aa-296ebb903ae5"
      },
      "source": [
        "print(d1.values()) # только значения\n",
        "print(d1.keys()) # только ключи\n",
        "print(d1.items()) # только ключ-значение"
      ],
      "execution_count": null,
      "outputs": [
        {
          "name": "stdout",
          "output_type": "stream",
          "text": [
            "dict_values([10, 10, 2])\n",
            "dict_keys(['кот', 'и', 'Тейлора'])\n",
            "dict_items([('кот', 10), ('и', 10), ('Тейлора', 2)])\n"
          ]
        }
      ]
    },
    {
      "cell_type": "markdown",
      "metadata": {
        "id": "VpVP76ZFgY2d"
      },
      "source": [
        "Ну, и раз уж питоновские словари так похожи на обычные, давайте представим, что у нас есть словарь, где все слова многозначные. Ключом будет слово, а значением ‒ целый список. "
      ]
    },
    {
      "cell_type": "code",
      "metadata": {
        "id": "Ncf-s3TzgY2e"
      },
      "source": [
        "my_dict = {'swear' : {'swear' : ['клясться', 'ругаться'], 'dream' : ['спать', 'мечтать']}, 'dream' : ['спать', 'мечтать']}"
      ],
      "execution_count": null,
      "outputs": []
    },
    {
      "cell_type": "markdown",
      "metadata": {
        "id": "QJgMBYp-gY2f"
      },
      "source": [
        "По ключу мы получим значение в виде списка:"
      ]
    },
    {
      "cell_type": "code",
      "metadata": {
        "id": "y7KBpVw0gY2f",
        "outputId": "6387a586-8710-43a2-bb4b-09fcc6227fd4"
      },
      "source": [
        "my_dict['swear']['swear'][0]"
      ],
      "execution_count": null,
      "outputs": [
        {
          "data": {
            "text/plain": [
              "'клясться'"
            ]
          },
          "execution_count": 91,
          "metadata": {},
          "output_type": "execute_result"
        }
      ]
    },
    {
      "cell_type": "markdown",
      "metadata": {
        "id": "ymMkIs86gY2g"
      },
      "source": [
        "Так как значением является список, можем отдельно обращаться к его элементам:"
      ]
    },
    {
      "cell_type": "code",
      "metadata": {
        "id": "xIk7NbN0gY2g",
        "outputId": "ffc6ae43-77e6-4677-807e-af0186ef13ce"
      },
      "source": [
        "my_dict['swear'][0] # первый элемент"
      ],
      "execution_count": null,
      "outputs": [
        {
          "data": {
            "text/plain": [
              "'клясться'"
            ]
          },
          "execution_count": 27,
          "metadata": {},
          "output_type": "execute_result"
        }
      ]
    },
    {
      "cell_type": "markdown",
      "metadata": {
        "id": "MTv2CpNQgY2h"
      },
      "source": [
        "Можем пойти дальше и создать словарь, где значениями являются словари! Например, представим, что в некотором сообществе проходят выборы, и каждый участник может проголосовать за любое число кандидатов. Данные сохраняются в виде словаря, где ключами являются имена пользователей, а значениями – пары *кандидат-голос*."
      ]
    },
    {
      "cell_type": "code",
      "metadata": {
        "id": "xLrDkAiVgY2h"
      },
      "source": [
        "votes = {'user1': {'cand1': '+', 'cand2': '-'},\n",
        "         'user2' : {'cand1': 0, 'cand3' : '+'}} # '+' - за, '-' - против, 0 - воздержался"
      ],
      "execution_count": null,
      "outputs": []
    },
    {
      "cell_type": "code",
      "metadata": {
        "id": "XET8E4v1gY2i",
        "outputId": "e1bba25f-ea64-4dc5-b5c4-7b0c9b992f6a"
      },
      "source": [
        "votes"
      ],
      "execution_count": null,
      "outputs": [
        {
          "data": {
            "text/plain": [
              "{'user1': {'cand1': '+', 'cand2': '-'}, 'user2': {'cand1': 0, 'cand3': '+'}}"
            ]
          },
          "execution_count": 29,
          "metadata": {},
          "output_type": "execute_result"
        }
      ]
    },
    {
      "cell_type": "markdown",
      "metadata": {
        "id": "1AahzTTKgY2j"
      },
      "source": [
        "По аналогии с вложенными списками по ключам мы сможем обратиться к значению в словаре, который сам является значением в `votes` (да, эту фразу нужно осмыслить):"
      ]
    },
    {
      "cell_type": "code",
      "metadata": {
        "id": "xamMiRLAgY2k",
        "outputId": "f863e777-de5c-46e6-e0b9-e53594ab6b3b"
      },
      "source": [
        "votes['user1']['cand1'] # берем значение, соответствующее ключу user1, в нем – ключу cand1"
      ],
      "execution_count": null,
      "outputs": [
        {
          "data": {
            "text/plain": [
              "'+'"
            ]
          },
          "execution_count": 30,
          "metadata": {},
          "output_type": "execute_result"
        }
      ]
    },
    {
      "cell_type": "code",
      "metadata": {
        "id": "Coaduds_gY2l",
        "outputId": "9f94fbf7-cf63-4c9a-f337-8030a8078ff5"
      },
      "source": [
        "dict1 = {'a': 1, 'b': 2}\n",
        "dict2 = {'c': 3, 'd': 4}\n",
        "dict3 = dict1.copy()\n",
        "dict3.update(dict2)\n",
        "print(dict3)"
      ],
      "execution_count": null,
      "outputs": [
        {
          "name": "stdout",
          "output_type": "stream",
          "text": [
            "{'a': 1, 'b': 2, 'c': 3, 'd': 4}\n"
          ]
        }
      ]
    },
    {
      "cell_type": "code",
      "metadata": {
        "id": "-0TtxTelgY2m",
        "outputId": "1b543a99-66b3-4e08-ce12-18304fbae72f"
      },
      "source": [
        "dict1 = {'a': 1, 'b': 2}\n",
        "dict2 = {'c': 3, 'd': 4}\n",
        "dict3 = {**dict1, **dict2}\n",
        "print(dict3) "
      ],
      "execution_count": null,
      "outputs": [
        {
          "name": "stdout",
          "output_type": "stream",
          "text": [
            "{'a': 1, 'b': 2, 'c': 3, 'd': 4}\n"
          ]
        }
      ]
    },
    {
      "cell_type": "markdown",
      "metadata": {
        "id": "D-fiJU9igY2n"
      },
      "source": [
        "Через занятие мы с вами начнем работать с условными операторами и циклом for, и тогда мы поговорим об особенностях обращения к значениям в цикле и сортировок словарей."
      ]
    },
    {
      "cell_type": "markdown",
      "metadata": {
        "id": "KCY9Qj98gY2n"
      },
      "source": [
        "# Home tasks"
      ]
    },
    {
      "cell_type": "markdown",
      "metadata": {
        "id": "grNASDLbgY2o"
      },
      "source": [
        "## Task #1"
      ]
    },
    {
      "cell_type": "markdown",
      "metadata": {
        "id": "LO_xTj5dgY2p"
      },
      "source": [
        "Write a program to use the loop to find the factorial of a given number.\n",
        "\n",
        "The factorial (symbol: `!`) means to multiply all whole numbers from the chosen number down to `1`.\n",
        "\n",
        "For example: calculate the factorial of `5`\n",
        "\n",
        "`5! = 5 × 4 × 3 × 2 × 1 = 120`"
      ]
    },
    {
      "cell_type": "markdown",
      "metadata": {
        "id": "AIj1BrsZgY2q"
      },
      "source": [
        "## Task #2"
      ]
    },
    {
      "cell_type": "markdown",
      "metadata": {
        "id": "Ob-xrieXgY2q"
      },
      "source": [
        "Write a program to calculate the sum of series up to n term. For example, if `n = 5` the series will become `2 + 22 + 222 + 2222 + 22222 = 24690`"
      ]
    },
    {
      "cell_type": "code",
      "metadata": {
        "id": "PG_LhhUKgY2q"
      },
      "source": [
        ""
      ],
      "execution_count": null,
      "outputs": []
    }
  ]
}