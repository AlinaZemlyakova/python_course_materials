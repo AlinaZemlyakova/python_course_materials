{
  "cells": [
    {
      "cell_type": "markdown",
      "id": "165e4ee4",
      "metadata": {
        "id": "165e4ee4"
      },
      "source": [
        "## LIST COMPREHENSIONS\n"
      ]
    },
    {
      "cell_type": "markdown",
      "id": "cbfdeafd",
      "metadata": {
        "id": "cbfdeafd"
      },
      "source": [
        "List comprehensions are a unique way to create lists in Python. A list comprehension consists of brackets containing an expression followed by a for clause, then zero or more for or if clauses. The expressions can be any kind of Python object. List comprehensions will commonly take the form of <value> for <vars> in <iter>.\n",
        "\n",
        "A simple case: Say we want to turn a list of strings into a list of string lengths. We could do this with a for loop:"
      ]
    },
    {
      "cell_type": "code",
      "execution_count": null,
      "id": "0d9440ba",
      "metadata": {
        "id": "0d9440ba",
        "outputId": "44742074-49f1-4190-cb0f-4bf8fef3ce6c",
        "colab": {
          "base_uri": "https://localhost:8080/"
        }
      },
      "outputs": [
        {
          "output_type": "stream",
          "name": "stdout",
          "text": [
            "[4, 3, 4, 5]\n"
          ]
        }
      ],
      "source": [
        ">>> names = [\"Nina\", \"Max\", \"Rose\", \"Jimmy\"]\n",
        ">>> my_list = [] # empty list\n",
        ">>> for name in names:\n",
        "...     my_list.append(len(name))\n",
        "...\n",
        ">>> print(my_list)\n"
      ]
    },
    {
      "cell_type": "markdown",
      "id": "7c8d8b14",
      "metadata": {
        "id": "7c8d8b14"
      },
      "source": [
        "We can do this much easier with a list comprehension:"
      ]
    },
    {
      "cell_type": "code",
      "execution_count": null,
      "id": "e39ac6b6",
      "metadata": {
        "id": "e39ac6b6",
        "outputId": "4a492c81-bfb2-4d49-e5ef-f399f5ea2796",
        "colab": {
          "base_uri": "https://localhost:8080/"
        }
      },
      "outputs": [
        {
          "output_type": "stream",
          "name": "stdout",
          "text": [
            "[4, 3, 4, 5]\n"
          ]
        }
      ],
      "source": [
        ">>> names = [\"Nina\", \"Max\", \"Rose\", \"Jimmy\"]\n",
        ">>> my_list = [len(name) for name in names]\n",
        ">>> print(my_list)\n"
      ]
    },
    {
      "cell_type": "markdown",
      "id": "dd9ab460",
      "metadata": {
        "id": "dd9ab460"
      },
      "source": [
        "We can also use comprehensions to perform operations, and the lists we assemble can be composed of any type of Python object. For example:\n",
        "\n"
      ]
    },
    {
      "cell_type": "code",
      "execution_count": null,
      "id": "cec5835c",
      "metadata": {
        "id": "cec5835c",
        "outputId": "5e4f61f4-47f8-458a-cc88-e02cfdb25643",
        "colab": {
          "base_uri": "https://localhost:8080/"
        }
      },
      "outputs": [
        {
          "output_type": "stream",
          "name": "stdout",
          "text": [
            "[('length', 8), ('length', 6), ('length', 8), ('length', 10)]\n"
          ]
        }
      ],
      "source": [
        ">>> names = [\"Nina\", \"Max\", \"Rose\", \"Jimmy\"]\n",
        ">>> my_list = [(\"length\", len(name) * 2) for name in names]\n",
        ">>> print(my_list)"
      ]
    },
    {
      "cell_type": "markdown",
      "id": "da04fb7b",
      "metadata": {
        "id": "da04fb7b"
      },
      "source": [
        "In the above example, we assemble a list of tuples - each tuple contains the element “length” as well as each number from the len() function multiplied by two.\n",
        "\n"
      ]
    },
    {
      "cell_type": "code",
      "execution_count": null,
      "id": "72edbb6c",
      "metadata": {
        "id": "72edbb6c",
        "outputId": "c72d6365-3f4c-49c5-e511-0bb25a3e8c5c",
        "colab": {
          "base_uri": "https://localhost:8080/"
        }
      },
      "outputs": [
        {
          "output_type": "stream",
          "name": "stdout",
          "text": [
            "[4, 4]\n"
          ]
        }
      ],
      "source": [
        ">>> names = [\"Nina\", \"Max\", \"Rose\", \"Jimmy\"]\n",
        ">>> my_list = [len(name) for name in names if len(name) % 2 == 0]\n",
        ">>> print(my_list)"
      ]
    },
    {
      "cell_type": "markdown",
      "id": "7af5669b",
      "metadata": {
        "id": "7af5669b"
      },
      "source": [
        "Here, we check divide every string length by 2, and check to see if the remainder is 0 (using the modulo operator).\n",
        "\n"
      ]
    },
    {
      "cell_type": "markdown",
      "id": "2f72a527",
      "metadata": {
        "id": "2f72a527"
      },
      "source": [
        "Unfortunately, you can’t join a list of numbers without first converting them to strings. But you can do this easily with a list comprehension:"
      ]
    },
    {
      "cell_type": "code",
      "execution_count": null,
      "id": "7be39b75",
      "metadata": {
        "id": "7be39b75",
        "outputId": "ceaa3c8f-e960-44ed-989f-f4b6617039c1"
      },
      "outputs": [
        {
          "name": "stdout",
          "output_type": "stream",
          "text": [
            "0,1,2,3,4\n"
          ]
        }
      ],
      "source": [
        ">>> my_list = [0, 1, 2, 3, 4]\n",
        ">>> my_string = \",\".join([str(num) for num in my_list])\n",
        ">>> print(my_string)"
      ]
    },
    {
      "cell_type": "markdown",
      "id": "bd204dc7",
      "metadata": {
        "id": "bd204dc7"
      },
      "source": [
        "### sum, min, max\n",
        "Some mathematical functions, such as sum, min, and max, accept lists of numbers to operate on. For example, to get the sum of numbers between zero and five, you could do:"
      ]
    },
    {
      "cell_type": "code",
      "execution_count": null,
      "id": "06b290f8",
      "metadata": {
        "id": "06b290f8",
        "outputId": "cd7bc193-1cff-4819-eef9-e9b9335ea50d"
      },
      "outputs": [
        {
          "name": "stdout",
          "output_type": "stream",
          "text": [
            "10\n"
          ]
        }
      ],
      "source": [
        "my_sum = sum([0, 1, 2, 3, 4])\n",
        "print(my_sum)"
      ]
    },
    {
      "cell_type": "markdown",
      "id": "7391c921",
      "metadata": {
        "id": "7391c921"
      },
      "source": [
        "But remember, anywhere you can use a list, you can use a list comprehension. Say you want to get sum, minimum, and maximum of every number between 0 and 100 that is evenly divisible by 3? No sense typing out a whole list in advance, just use a comprehension:"
      ]
    },
    {
      "cell_type": "code",
      "execution_count": null,
      "id": "d428fdbf",
      "metadata": {
        "id": "d428fdbf",
        "outputId": "e3332ade-8fc4-41df-bfc3-df23ca052f79"
      },
      "outputs": [
        {
          "name": "stdout",
          "output_type": "stream",
          "text": [
            "1683\n"
          ]
        }
      ],
      "source": [
        ">>> my_sum = sum([num for num in range(0, 100) if num % 3 == 0])\n",
        ">>> print(my_sum)"
      ]
    },
    {
      "cell_type": "code",
      "execution_count": null,
      "id": "3d4bdaf5",
      "metadata": {
        "id": "3d4bdaf5",
        "outputId": "0619c358-9070-4704-e242-d872323a5571"
      },
      "outputs": [
        {
          "name": "stdout",
          "output_type": "stream",
          "text": [
            "0\n"
          ]
        }
      ],
      "source": [
        ">>> my_min = min([num for num in range(0, 100) if num % 3 == 0])\n",
        ">>> print(my_min)\n"
      ]
    },
    {
      "cell_type": "code",
      "execution_count": null,
      "id": "4d2ff4a1",
      "metadata": {
        "id": "4d2ff4a1",
        "outputId": "1e82d2bd-e854-4a8d-8682-47c7aea113cb"
      },
      "outputs": [
        {
          "name": "stdout",
          "output_type": "stream",
          "text": [
            "99\n"
          ]
        }
      ],
      "source": [
        ">>> my_max = max([num for num in range(0, 100) if num % 3 == 0])\n",
        ">>> print(my_max)"
      ]
    },
    {
      "cell_type": "markdown",
      "id": "d70a5d7f",
      "metadata": {
        "id": "d70a5d7f"
      },
      "source": [
        "## Dictionary Comprehensions\n",
        "Dictionary comprehensions are a quick and easy way of assembling dictionaries in Python. They work just like list comprehensions, and look almost the same. They use curly braces instead of square brackets, and they contain two variables (for key and value), separated by a colon.\n",
        "\n",
        "For example, to assemble a dict in which the keys are numbers between 0 and 10, and the values are the same number squared, we could do:"
      ]
    },
    {
      "cell_type": "code",
      "execution_count": null,
      "id": "a2940004",
      "metadata": {
        "id": "a2940004",
        "outputId": "423d0430-4084-4aad-f5e3-629ad428fe77"
      },
      "outputs": [
        {
          "name": "stdout",
          "output_type": "stream",
          "text": [
            "{0: 0, 1: 1, 2: 4, 3: 9, 4: 16, 5: 25, 6: 36, 7: 49, 8: 64, 9: 81}\n"
          ]
        }
      ],
      "source": [
        ">>> squares = {num:num * num for num in range(10)}\n",
        ">>> print(squares)"
      ]
    },
    {
      "cell_type": "markdown",
      "id": "86aebf99",
      "metadata": {
        "id": "86aebf99"
      },
      "source": [
        "Or we could use f-strings to assemble a dict to keep game scores:\n"
      ]
    },
    {
      "cell_type": "code",
      "execution_count": null,
      "id": "af01375d",
      "metadata": {
        "id": "af01375d",
        "outputId": "e7fff8c2-98b1-4e30-eb68-284abf2b2181"
      },
      "outputs": [
        {
          "name": "stdout",
          "output_type": "stream",
          "text": [
            "{'player-0': 0, 'player-1': 0, 'player-2': 0, 'player-3': 0, 'player-4': 0}\n"
          ]
        }
      ],
      "source": [
        ">>> scores = {f\"player-{num}\":0 for num in range(0, 5)}\n",
        ">>> print(scores)"
      ]
    },
    {
      "cell_type": "markdown",
      "id": "2e01f2db",
      "metadata": {
        "id": "2e01f2db"
      },
      "source": [
        "In the above example, the f-string gets turned into the dict keys (player-0, etc.) and each value is set to 0. You can also operate on tuples for setting keys and values. For example, we’ll use a list comprehension to create a list of tuples, then turn the tuples into dict keys and values:"
      ]
    },
    {
      "cell_type": "code",
      "execution_count": null,
      "id": "eedf9529",
      "metadata": {
        "id": "eedf9529",
        "outputId": "89f7cbe1-bdfd-435c-cf2b-4f43addcfcdf"
      },
      "outputs": [
        {
          "name": "stdout",
          "output_type": "stream",
          "text": [
            "[('player-0', 0), ('player-1', 2), ('player-2', 4), ('player-3', 6), ('player-4', 8)]\n"
          ]
        }
      ],
      "source": [
        ">>> my_list = [(f\"player-{num}\", num * 2) for num in range(0, 5)]\n",
        ">>> print(my_list)"
      ]
    },
    {
      "cell_type": "code",
      "execution_count": null,
      "id": "72c47a15",
      "metadata": {
        "id": "72c47a15",
        "outputId": "942c5368-dc7f-405c-dea7-655db07f9e23"
      },
      "outputs": [
        {
          "name": "stdout",
          "output_type": "stream",
          "text": [
            "{'player-0': 0, 'player-1': 2, 'player-2': 4, 'player-3': 6, 'player-4': 8}\n"
          ]
        }
      ],
      "source": [
        ">>> scores = {key:value for (key, value) in my_list}\n",
        ">>> print(scores)"
      ]
    },
    {
      "cell_type": "markdown",
      "id": "58317f58",
      "metadata": {
        "id": "58317f58"
      },
      "source": [
        "## task \n",
        "Let’s practice our comprehensions. Create a list of only odd numbers between 0 and 100 using a list comprehension. Then, use a comprehension to create a dictionary where the keys are the even numbers from your list, and the values are random integers between 0 and 100 (hint: try random.randint(min, max)). Finally, use a comprehension to create a set of every unique value from the above dictionary."
      ]
    },
    {
      "cell_type": "code",
      "source": [
        "odd_numbers = [num for num in range (0, 100) if num % 2 == 0]"
      ],
      "metadata": {
        "id": "LkeHCnIwybpE"
      },
      "id": "LkeHCnIwybpE",
      "execution_count": 22,
      "outputs": []
    },
    {
      "cell_type": "code",
      "source": [
        "import random\n",
        "my_dict = {num:random.randint(0, 100) for num in odd_numbers}"
      ],
      "metadata": {
        "id": "UFrYRJVZv7Dw"
      },
      "id": "UFrYRJVZv7Dw",
      "execution_count": 23,
      "outputs": []
    },
    {
      "cell_type": "code",
      "source": [
        "my_dict"
      ],
      "metadata": {
        "colab": {
          "base_uri": "https://localhost:8080/"
        },
        "id": "OlWPXMVVF9AF",
        "outputId": "54365767-137d-491c-fbff-38d2221de445"
      },
      "id": "OlWPXMVVF9AF",
      "execution_count": 24,
      "outputs": [
        {
          "output_type": "execute_result",
          "data": {
            "text/plain": [
              "{0: 68,\n",
              " 2: 86,\n",
              " 4: 72,\n",
              " 6: 64,\n",
              " 8: 68,\n",
              " 10: 63,\n",
              " 12: 27,\n",
              " 14: 62,\n",
              " 16: 93,\n",
              " 18: 20,\n",
              " 20: 24,\n",
              " 22: 2,\n",
              " 24: 32,\n",
              " 26: 21,\n",
              " 28: 95,\n",
              " 30: 68,\n",
              " 32: 88,\n",
              " 34: 54,\n",
              " 36: 44,\n",
              " 38: 24,\n",
              " 40: 48,\n",
              " 42: 64,\n",
              " 44: 76,\n",
              " 46: 31,\n",
              " 48: 100,\n",
              " 50: 62,\n",
              " 52: 24,\n",
              " 54: 50,\n",
              " 56: 54,\n",
              " 58: 13,\n",
              " 60: 15,\n",
              " 62: 24,\n",
              " 64: 10,\n",
              " 66: 77,\n",
              " 68: 77,\n",
              " 70: 39,\n",
              " 72: 100,\n",
              " 74: 55,\n",
              " 76: 70,\n",
              " 78: 46,\n",
              " 80: 98,\n",
              " 82: 57,\n",
              " 84: 29,\n",
              " 86: 100,\n",
              " 88: 60,\n",
              " 90: 91,\n",
              " 92: 90,\n",
              " 94: 59,\n",
              " 96: 1,\n",
              " 98: 84}"
            ]
          },
          "metadata": {},
          "execution_count": 24
        }
      ]
    },
    {
      "cell_type": "code",
      "source": [
        "set_values = {num for num in my_dict.values()}"
      ],
      "metadata": {
        "id": "PY-Q8Js9Ee2w"
      },
      "id": "PY-Q8Js9Ee2w",
      "execution_count": 25,
      "outputs": []
    },
    {
      "cell_type": "code",
      "source": [
        "set_values"
      ],
      "metadata": {
        "colab": {
          "base_uri": "https://localhost:8080/"
        },
        "id": "wdV-GYICGEkj",
        "outputId": "3056f72d-fc6e-4f97-c3ff-72cd4a8258ad"
      },
      "id": "wdV-GYICGEkj",
      "execution_count": 26,
      "outputs": [
        {
          "output_type": "execute_result",
          "data": {
            "text/plain": [
              "{1,\n",
              " 2,\n",
              " 10,\n",
              " 13,\n",
              " 15,\n",
              " 20,\n",
              " 21,\n",
              " 24,\n",
              " 27,\n",
              " 29,\n",
              " 31,\n",
              " 32,\n",
              " 39,\n",
              " 44,\n",
              " 46,\n",
              " 48,\n",
              " 50,\n",
              " 54,\n",
              " 55,\n",
              " 57,\n",
              " 59,\n",
              " 60,\n",
              " 62,\n",
              " 63,\n",
              " 64,\n",
              " 68,\n",
              " 70,\n",
              " 72,\n",
              " 76,\n",
              " 77,\n",
              " 84,\n",
              " 86,\n",
              " 88,\n",
              " 90,\n",
              " 91,\n",
              " 93,\n",
              " 95,\n",
              " 98,\n",
              " 100}"
            ]
          },
          "metadata": {},
          "execution_count": 26
        }
      ]
    },
    {
      "cell_type": "markdown",
      "id": "5827d194",
      "metadata": {
        "id": "5827d194"
      },
      "source": [
        "## Set Comprehensions\n",
        "Set comprehensions are another great operation in Python - they look like a cross between list and dict comprehensions, and they create set objects.\n",
        "\n",
        "For example:"
      ]
    },
    {
      "cell_type": "code",
      "execution_count": null,
      "id": "5f31ca93",
      "metadata": {
        "id": "5f31ca93",
        "outputId": "11b6602c-13d4-45dc-b880-96e90698780f"
      },
      "outputs": [
        {
          "name": "stdout",
          "output_type": "stream",
          "text": [
            "{0, 1, 2, 3}\n"
          ]
        }
      ],
      "source": [
        ">>> my_set = {num for num in [1, 2, 1, 0, 3]}\n",
        ">>> print(my_set)"
      ]
    },
    {
      "cell_type": "markdown",
      "id": "cb788a04",
      "metadata": {
        "id": "cb788a04"
      },
      "source": [
        "Notice that instead of returning the same list of numbers (as num for num would have done in a list comprehension), you instead get a set (note the curly braces) of unique numbers from the list (you only get one 1)."
      ]
    },
    {
      "cell_type": "markdown",
      "id": "1d325f3c",
      "metadata": {
        "id": "1d325f3c"
      },
      "source": [
        "## Generator Expressions\n",
        "Generator expressions are a little more advanced. A generator is a type of iterable object - like a list, you can iterate through each element - however, unlike a list, generators evaluate elements on demand, instead of assembling them all at once.\n",
        "\n",
        "A generator comprehension looks just like a list comprehension, except we use parenthesis instead of brackets. For example, to get a list of the square of every even number between 0 and 10, we could do:"
      ]
    },
    {
      "cell_type": "code",
      "execution_count": null,
      "id": "53eeebdf",
      "metadata": {
        "id": "53eeebdf",
        "outputId": "caffaab5-2d4c-45f3-b4ff-f67a7ebdb3b2"
      },
      "outputs": [
        {
          "name": "stdout",
          "output_type": "stream",
          "text": [
            "[0, 4, 16, 36, 64]\n"
          ]
        }
      ],
      "source": [
        "# List comprehension\n",
        ">>> list_comp = [x ** 2 for x in range(10) if x % 2 == 0]\n",
        ">>> print(list_comp)"
      ]
    },
    {
      "cell_type": "code",
      "execution_count": null,
      "id": "80ebe4cb",
      "metadata": {
        "id": "80ebe4cb",
        "outputId": "a9ca80cb-b696-4285-a845-793174816a52"
      },
      "outputs": [
        {
          "name": "stdout",
          "output_type": "stream",
          "text": [
            "<generator object <genexpr> at 0x7fc5c82accf0>\n"
          ]
        }
      ],
      "source": [
        "# Generator expression\n",
        ">>> gen_exp = (x ** 2 for x in range(10) if x % 2 == 0)\n",
        ">>> print(gen_exp)"
      ]
    },
    {
      "cell_type": "code",
      "execution_count": null,
      "id": "ba94fc60",
      "metadata": {
        "id": "ba94fc60",
        "outputId": "62a32072-cb92-4f97-eccd-1648dc1139e4"
      },
      "outputs": [
        {
          "name": "stdout",
          "output_type": "stream",
          "text": [
            "0\n",
            "4\n",
            "16\n",
            "36\n",
            "64\n"
          ]
        }
      ],
      "source": [
        ">>> for num in gen_exp:\n",
        "...     print(num)"
      ]
    },
    {
      "cell_type": "markdown",
      "id": "5e3f34a8",
      "metadata": {
        "id": "5e3f34a8"
      },
      "source": [
        "Generator comprehensions can be beneficial in circumstances where you want to iterate over very large lists without storing the entire list in memory. For example, if you tried to assemble a list of every number between 0 and 10 ** 8 (10 to the 8th power), Python will try to assemble the entire list in memory. Using the timeit library to create this list only once, we can see how long this takes:"
      ]
    },
    {
      "cell_type": "code",
      "execution_count": null,
      "id": "4f497789",
      "metadata": {
        "id": "4f497789",
        "outputId": "73790119-1719-45f8-c084-1287d97af4cf"
      },
      "outputs": [
        {
          "data": {
            "text/plain": [
              "5.222813788999929"
            ]
          },
          "execution_count": 30,
          "metadata": {},
          "output_type": "execute_result"
        }
      ],
      "source": [
        "list_comp = \"[num for num in range(0, 10 ** 8)]\"\n",
        "import timeit\n",
        "timeit.timeit(list_comp, number=1)"
      ]
    },
    {
      "cell_type": "code",
      "execution_count": null,
      "id": "66f91ea4",
      "metadata": {
        "id": "66f91ea4",
        "outputId": "957153a8-98b0-4eff-b766-48426d811d5e"
      },
      "outputs": [
        {
          "data": {
            "text/plain": [
              "3.1399999897985253e-06"
            ]
          },
          "execution_count": 31,
          "metadata": {},
          "output_type": "execute_result"
        }
      ],
      "source": [
        "# Over 5.7 seconds just to assemble one huge list\n",
        "# Let's do the same with a generator comprehension instead:\n",
        "gen_comp = \"(num for num in range(0, 10 ** 8))\"\n",
        "timeit.timeit(gen_comp, number=1)"
      ]
    },
    {
      "cell_type": "code",
      "execution_count": null,
      "id": "ed6b50d6",
      "metadata": {
        "id": "ed6b50d6",
        "outputId": "fa8eaee9-db32-49d1-9263-86607a517828"
      },
      "outputs": [
        {
          "data": {
            "text/plain": [
              "3.9854316330000756"
            ]
          },
          "execution_count": 32,
          "metadata": {},
          "output_type": "execute_result"
        }
      ],
      "source": [
        "timeit.timeit(gen_comp, number=10000000)"
      ]
    },
    {
      "cell_type": "markdown",
      "id": "2d4d59f7",
      "metadata": {
        "id": "2d4d59f7"
      },
      "source": [
        "As you can see, assembling the generator is almost instantaneous, in fact we can run the generator expression over 10 million times in less time than it takes to assemble the full list once, and the generator will take far less memory."
      ]
    },
    {
      "cell_type": "markdown",
      "id": "45d27392",
      "metadata": {
        "id": "45d27392"
      },
      "source": [
        "## THE ZIP FUNCTION\n"
      ]
    },
    {
      "cell_type": "markdown",
      "id": "c956970f",
      "metadata": {
        "id": "c956970f"
      },
      "source": [
        "It’s often necessary to iterate over multiple lists simultaneously. Suppose we’re keeping score of a game and we have two lists, one for names and one for scores:\n",
        "\n"
      ]
    },
    {
      "cell_type": "code",
      "execution_count": null,
      "id": "7e3d994b",
      "metadata": {
        "id": "7e3d994b"
      },
      "outputs": [],
      "source": [
        ">>> names = [\"Bob\", \"Alice\", \"Eve\"]\n",
        ">>> scores = [42, 97, 68]"
      ]
    },
    {
      "cell_type": "markdown",
      "id": "5ea8f23e",
      "metadata": {
        "id": "5ea8f23e"
      },
      "source": [
        "The zip function takes any number of iterable arguments and steps through all of them at the same time until the end of the shortest iterable has been reached:\n",
        "\n"
      ]
    },
    {
      "cell_type": "code",
      "execution_count": null,
      "id": "7507618d",
      "metadata": {
        "id": "7507618d",
        "outputId": "5a59ccfb-c160-42a2-f886-86220c417720"
      },
      "outputs": [
        {
          "name": "stdout",
          "output_type": "stream",
          "text": [
            "Bob had a score of 42.\n",
            "Alice had a score of 97.\n",
            "Eve had a score of 68.\n"
          ]
        }
      ],
      "source": [
        ">>> for name, score in zip(names, scores):\n",
        ">>>     print(f\"{name} had a score of {score}.\")\n"
      ]
    },
    {
      "cell_type": "markdown",
      "id": "d2d26bca",
      "metadata": {
        "id": "d2d26bca"
      },
      "source": [
        "What will the above loop print after removing the last element from scores?\n",
        "\n"
      ]
    },
    {
      "cell_type": "code",
      "execution_count": null,
      "id": "3575e022",
      "metadata": {
        "id": "3575e022",
        "outputId": "e1045cd7-0431-4090-a15b-89ada4e83e78"
      },
      "outputs": [
        {
          "data": {
            "text/plain": [
              "68"
            ]
          },
          "execution_count": 37,
          "metadata": {},
          "output_type": "execute_result"
        }
      ],
      "source": [
        ">>> scores.pop(-1)"
      ]
    },
    {
      "cell_type": "code",
      "execution_count": null,
      "id": "a40f0045",
      "metadata": {
        "id": "a40f0045",
        "outputId": "8bacb360-6839-45ec-8b79-1fff7772065a"
      },
      "outputs": [
        {
          "name": "stdout",
          "output_type": "stream",
          "text": [
            "Bob had a score of 42.\n",
            "Alice had a score of 97.\n"
          ]
        }
      ],
      "source": [
        "68\n",
        ">>> for name, score in zip(names, scores):\n",
        ">>>     print(f\"{name} had a score of {score}.\")"
      ]
    },
    {
      "cell_type": "markdown",
      "id": "1876b531",
      "metadata": {
        "id": "1876b531"
      },
      "source": [
        "The loop terminates even though there are more values in names. Here, Eve isn’t included because scores only has two elements.\n",
        "\n",
        "We can also use zip() to quickly and easily create a dict from two lists. For example:"
      ]
    },
    {
      "cell_type": "code",
      "execution_count": null,
      "id": "3044c108",
      "metadata": {
        "id": "3044c108",
        "outputId": "014432fa-112c-49f4-e54d-562a2b7c6867"
      },
      "outputs": [
        {
          "name": "stdout",
          "output_type": "stream",
          "text": [
            "{'Bob': 42, 'Alice': 97, 'Eve': 68}\n"
          ]
        }
      ],
      "source": [
        ">>> scores = [42, 97, 68]\n",
        ">>> score_dict = dict(zip(names, scores))\n",
        ">>> print(score_dict)"
      ]
    },
    {
      "cell_type": "markdown",
      "id": "7e458cc3",
      "metadata": {
        "id": "7e458cc3"
      },
      "source": [
        "## Task 2"
      ]
    },
    {
      "cell_type": "markdown",
      "id": "7de1e7f9",
      "metadata": {
        "id": "7de1e7f9"
      },
      "source": [
        "Make a list of all the names you can think of, called “names”. Make a second list of numbers, called “scores”, using a list comprehension and random.randint(min, max) as before. Use the first list in your comprehension to make it the same length. Then, use zip() to output a simple scoreboard of one score per name."
      ]
    },
    {
      "cell_type": "code",
      "execution_count": 30,
      "id": "e8d39b70",
      "metadata": {
        "id": "e8d39b70"
      },
      "outputs": [],
      "source": [
        "names = [\"Nina\", \"Max\", \"Floyd\", \"Lloyd\"]"
      ]
    },
    {
      "cell_type": "code",
      "execution_count": 27,
      "id": "d6e97126",
      "metadata": {
        "id": "d6e97126"
      },
      "outputs": [],
      "source": [
        "scores = [random.randint(0, 100) for num in range(0, 4)]"
      ]
    },
    {
      "cell_type": "code",
      "source": [
        "scores"
      ],
      "metadata": {
        "colab": {
          "base_uri": "https://localhost:8080/"
        },
        "id": "dIL5dCkWGx3M",
        "outputId": "6ffd329f-7885-4511-a634-e6c07dfc6c52"
      },
      "id": "dIL5dCkWGx3M",
      "execution_count": 28,
      "outputs": [
        {
          "output_type": "execute_result",
          "data": {
            "text/plain": [
              "[18, 3, 14, 24]"
            ]
          },
          "metadata": {},
          "execution_count": 28
        }
      ]
    },
    {
      "cell_type": "code",
      "source": [
        "score_dict = dict(zip(names, scores))\n",
        "print(score_dict)"
      ],
      "metadata": {
        "colab": {
          "base_uri": "https://localhost:8080/"
        },
        "id": "Qn49bhEkHz_g",
        "outputId": "28ff9151-0607-4324-9614-ba47821b328f"
      },
      "id": "Qn49bhEkHz_g",
      "execution_count": 31,
      "outputs": [
        {
          "output_type": "stream",
          "name": "stdout",
          "text": [
            "{'Nina': 18, 'Max': 3, 'Floyd': 14, 'Lloyd': 24}\n"
          ]
        }
      ]
    }
  ],
  "metadata": {
    "kernelspec": {
      "display_name": "Python 3",
      "language": "python",
      "name": "python3"
    },
    "language_info": {
      "codemirror_mode": {
        "name": "ipython",
        "version": 3
      },
      "file_extension": ".py",
      "mimetype": "text/x-python",
      "name": "python",
      "nbconvert_exporter": "python",
      "pygments_lexer": "ipython3",
      "version": "3.8.8"
    },
    "colab": {
      "name": "LIST-Dictionary COMPREHENSIONS_done",
      "provenance": [],
      "collapsed_sections": []
    }
  },
  "nbformat": 4,
  "nbformat_minor": 5
}