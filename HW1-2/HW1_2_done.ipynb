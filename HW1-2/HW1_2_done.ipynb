{
  "nbformat": 4,
  "nbformat_minor": 5,
  "metadata": {
    "kernelspec": {
      "display_name": "Python 3",
      "language": "python",
      "name": "python3"
    },
    "language_info": {
      "codemirror_mode": {
        "name": "ipython",
        "version": 3
      },
      "file_extension": ".py",
      "mimetype": "text/x-python",
      "name": "python",
      "nbconvert_exporter": "python",
      "pygments_lexer": "ipython3",
      "version": "3.8.8"
    },
    "colab": {
      "name": "HW1-2 done",
      "provenance": [],
      "collapsed_sections": []
    }
  },
  "cells": [
    {
      "cell_type": "markdown",
      "metadata": {
        "id": "ef43214b"
      },
      "source": [
        "# 0. Наибольший общий делитель - 1 балл\n",
        "Напишите функцию, которая на вход принимает два целых числа, а на выходе отдает их наибольших общий делитель. \n",
        "\n",
        "Пример\n",
        "\n",
        "Ввод \n",
        "\n",
        "`lcd(10,2)`\n",
        "\n",
        "Вывод\n",
        "\n",
        "`2`\n",
        "\n",
        "Пример\n",
        "\n",
        "Ввод \n",
        "\n",
        "`lcd(10,25)`\n",
        "\n",
        "Вывод\n",
        "\n",
        "`5`"
      ],
      "id": "ef43214b"
    },
    {
      "cell_type": "code",
      "metadata": {
        "id": "d227561c",
        "colab": {
          "base_uri": "https://localhost:8080/"
        },
        "outputId": "36a049b7-4a7c-4684-9147-e9801a7c9fd8"
      },
      "source": [
        "def lcd(a, b):\n",
        "  if b == 0:\n",
        "    return a\n",
        "  else:\n",
        "    return lcd(b, a % b)\n",
        "print (lcd(10, 25))"
      ],
      "id": "d227561c",
      "execution_count": null,
      "outputs": [
        {
          "output_type": "stream",
          "name": "stdout",
          "text": [
            "5\n"
          ]
        }
      ]
    },
    {
      "cell_type": "markdown",
      "metadata": {
        "id": "777171f3"
      },
      "source": [
        "# 1. Задачка про перевод из `camel_case`'a в `snake_case` - 1.5 балла\n",
        " Напишите функцию, которая на вход принимает строку, записанную в `CamelCase`, а переводит ее в `snake_case`.\n",
        " Подсказка: идите по строке циклом, обрабатывайте каждый символ, если символ заглавный, к обработанным ранее добавляйте нижнее подчеркивание и нынешний переводите в `lower case` \n",
        " \n",
        " Пример:\n",
        "\n",
        "**Вход**: `'camelCaseVar'`\n",
        "\n",
        "**Выход**: `'camel_сase_var'`"
      ],
      "id": "777171f3"
    },
    {
      "cell_type": "code",
      "metadata": {
        "id": "5e4c1ced",
        "colab": {
          "base_uri": "https://localhost:8080/"
        },
        "outputId": "098f54e5-712f-407c-ea3d-eb0fc80fc698"
      },
      "source": [
        "def camel_to_snake(str):\n",
        "    result = \"\"\n",
        "    for c in str:\n",
        "        if c.isupper():\n",
        "            if len(result) == 0:\n",
        "                result += c.lower()\n",
        "            else:\n",
        "                result += '_' + c.lower()\n",
        "        else:\n",
        "            result += c\n",
        "    return result\n",
        "\n",
        "string = input()\n",
        "print(camel_to_snake(string))"
      ],
      "id": "5e4c1ced",
      "execution_count": 1,
      "outputs": [
        {
          "output_type": "stream",
          "name": "stdout",
          "text": [
            "ПньАшл\n",
            "пнь_ашл\n"
          ]
        }
      ]
    },
    {
      "cell_type": "markdown",
      "metadata": {
        "id": "929847a2"
      },
      "source": [
        "# 2. Про Поросёнка Петра - 2 балла\n",
        "На плоскости в точке `(0,0)` стоит Поросёнок Пётр. Он умеет ходить налево, направо, вверх и вниз. Расстояние его прохода в какую-либо сторону измеряется в шагах. Когда он идет вправо, его первая координата увеличивается, когда влево - уменьшается. Когда он идет вверх, его вторая координата увеличивается, а когда вниз - уменьшается.\n",
        "С клавиатуры считывается число `N` - число ходов, которые сделает Пётр. После чего на каждом шаге спрашивается, сколько шагов и в какую сторону за этот ход Пётр сделает. Так происходит, пока Пётр не осуществит все N ходов.\n",
        "Программа должна вывести, сколько шагов Пётр должен был бы сделать, чтобы кратчайшим путем прибыть из свое начальной точки `(0,0)` в свою конечную точку. \n",
        "\n",
        "Напоминание: Пётр умеет ходить только вверх-вниз, и влево-вправо, но не по диагонали.\n",
        "\n",
        "Пример ввода:\n",
        "\n",
        "Введите N: `3`\n",
        "\n",
        "Ход 1: `Вверх 1`\n",
        "\n",
        "Ход 2: `Вниз 1`\n",
        "\n",
        "Ход 3: `Вверх 1`\n",
        "\n",
        "Пример вывода:\n",
        "`Пётр находится на расстоянии 1 от (0,0)`"
      ],
      "id": "929847a2"
    },
    {
      "cell_type": "code",
      "metadata": {
        "id": "b3231431",
        "colab": {
          "base_uri": "https://localhost:8080/"
        },
        "outputId": "f51e5dbf-36bb-4606-c089-c5ab8901f979"
      },
      "source": [
        "def get_dxy(where, steps):\n",
        "    if where == 'Вверх':\n",
        "        return 0, int(steps)\n",
        "    elif where == 'Вниз':\n",
        "        return 0, -int(steps)\n",
        "    elif where == 'Вправо':\n",
        "        return int(steps), 0\n",
        "    elif where == 'Влево':\n",
        "        return -int(steps), 0\n",
        "    return 0, 0\n",
        "\n",
        "position_x = 0\n",
        "position_y = 0\n",
        "n = input('Введите N: ')\n",
        "for i in range(1, int(n) + 1):\n",
        "    line = input('Step {}: '.format(i))\n",
        "    words = line.split()\n",
        "    where = words[0]\n",
        "    steps = int(words[1])\n",
        "    #print('parsed words: [{}], [{}]'.format(where, steps))\n",
        "    dx, dy = get_dxy(where, steps)\n",
        "    #print('dx: {}, dy: {}'.format(dx, dy)) #проверка\n",
        "    position_x = position_x + dx\n",
        "    position_y = position_y + dy\n",
        "\n",
        "pos = abs(position_x) + abs(position_y)\n",
        "print('Петр находится на расстоянии {} от (0, 0)'.format(abs(pos)))"
      ],
      "id": "b3231431",
      "execution_count": null,
      "outputs": [
        {
          "output_type": "stream",
          "name": "stdout",
          "text": [
            "Введите N: 2\n",
            "Step 1: Вправо 5\n",
            "Step 2: Вниз 3\n",
            "Петр находится на расстоянии 8 от (0, 0)\n"
          ]
        }
      ]
    },
    {
      "cell_type": "markdown",
      "metadata": {
        "id": "818909ca"
      },
      "source": [
        "# 3. Sort the keys of the dictionary from a to z.  - 0.5 балла"
      ],
      "id": "818909ca"
    },
    {
      "cell_type": "code",
      "metadata": {
        "id": "b81d45f3"
      },
      "source": [
        "d_= {\"tiramisu\":5, \"chocolate\":2, \"pudding\":3, \"cheesecake\":4}"
      ],
      "id": "b81d45f3",
      "execution_count": null,
      "outputs": []
    },
    {
      "cell_type": "code",
      "metadata": {
        "colab": {
          "base_uri": "https://localhost:8080/"
        },
        "id": "9F9qxThlOLBW",
        "outputId": "feb80b4c-c9a6-4569-cc72-d6e2580478f9"
      },
      "source": [
        "def sortkey (d_):\n",
        "    sorteddic = sorted(d_)\n",
        "    return sorted (d_)\n",
        "print (sortkey(d_))"
      ],
      "id": "9F9qxThlOLBW",
      "execution_count": null,
      "outputs": [
        {
          "output_type": "stream",
          "name": "stdout",
          "text": [
            "['cheesecake', 'chocolate', 'pudding', 'tiramisu']\n"
          ]
        }
      ]
    },
    {
      "cell_type": "markdown",
      "metadata": {
        "id": "77275ebf"
      },
      "source": [
        "# 4. Compare three values, return true only if 2 or more values are equal - 0.5 балла"
      ],
      "id": "77275ebf"
    },
    {
      "cell_type": "code",
      "metadata": {
        "id": "d0893272",
        "colab": {
          "base_uri": "https://localhost:8080/"
        },
        "outputId": "101c9696-567a-4cbc-ba49-af4e1d7f73de"
      },
      "source": [
        "def compare (a, b, c):\n",
        "    if a==b or b==c or a==c:\n",
        "        return True\n",
        "    else:\n",
        "      return False\n",
        "print (compare (3, 3, 3))\n",
        "print (compare (3, 3, 7))\n",
        "print (compare (3, 6, 7))"
      ],
      "id": "d0893272",
      "execution_count": null,
      "outputs": [
        {
          "output_type": "stream",
          "name": "stdout",
          "text": [
            "True\n",
            "True\n",
            "False\n"
          ]
        }
      ]
    },
    {
      "cell_type": "markdown",
      "metadata": {
        "id": "895340c0"
      },
      "source": [
        "# 5. Given a list with pairs, sort on the sum of pairs - 0.5 балла"
      ],
      "id": "895340c0"
    },
    {
      "cell_type": "code",
      "metadata": {
        "id": "7a8971e2"
      },
      "source": [
        "x = [(3,6),(4,7),(5,9),(8,4),(3,1)]"
      ],
      "id": "7a8971e2",
      "execution_count": null,
      "outputs": []
    },
    {
      "cell_type": "code",
      "metadata": {
        "colab": {
          "base_uri": "https://localhost:8080/"
        },
        "id": "qY7IsKXRRf1z",
        "outputId": "d7eb3361-0ffc-4c2a-e89a-7bdb3ea360fc"
      },
      "source": [
        "def sortedpairsonsum (x):\n",
        "    x.sort(key = lambda item: (item[0] + item[1]))  \n",
        "    return x\n",
        "print(sortedpairsonsum(x))"
      ],
      "id": "qY7IsKXRRf1z",
      "execution_count": null,
      "outputs": [
        {
          "output_type": "stream",
          "name": "stdout",
          "text": [
            "[(3, 1), (3, 6), (4, 7), (8, 4), (5, 9)]\n"
          ]
        }
      ]
    },
    {
      "cell_type": "markdown",
      "metadata": {
        "id": "be5b7018"
      },
      "source": [
        "# 6. Create a function that takes a list of numbers. Return the largest number in the list. - 0.5 балла"
      ],
      "id": "be5b7018"
    },
    {
      "cell_type": "code",
      "metadata": {
        "id": "2ddbc7bf"
      },
      "source": [
        "findLargestNum([4, 5, 1, 3]) ➞ 5\n",
        "\n",
        "findLargestNum([300, 200, 600, 150]) ➞ 600\n",
        "\n",
        "findLargestNum([1000, 1001, 857, 1]) ➞ 1001"
      ],
      "id": "2ddbc7bf",
      "execution_count": null,
      "outputs": []
    },
    {
      "cell_type": "code",
      "metadata": {
        "colab": {
          "base_uri": "https://localhost:8080/"
        },
        "id": "aLC1ZgpVSb87",
        "outputId": "41dba24e-f334-448d-ca68-d29cfd5019f3"
      },
      "source": [
        "def findLargestNum(n):  \n",
        "  max = 0\n",
        "  for i in n:\n",
        "    if i > max:\n",
        "     max = i\n",
        "  return max\n",
        "print(list(map(findLargestNum, [[4, 5, 1, 3], [300, 200, 600, 150], [1000, 1001, 857, 1]])))"
      ],
      "id": "aLC1ZgpVSb87",
      "execution_count": null,
      "outputs": [
        {
          "output_type": "stream",
          "name": "stdout",
          "text": [
            "[5, 600, 1001]\n"
          ]
        }
      ]
    },
    {
      "cell_type": "markdown",
      "metadata": {
        "id": "17918763"
      },
      "source": [
        "# 7. Create a function that takes a string and returns the concatenated first and last character. - 0.5 балла"
      ],
      "id": "17918763"
    },
    {
      "cell_type": "code",
      "metadata": {
        "id": "7062bfdb"
      },
      "source": [
        "repetition(\"ab\", 3) ➞ \"ababab\"\n",
        "\n",
        "repetition(\"kiwi\", 1) ➞ \"kiwi\"\n",
        "\n",
        "repetition(\"cherry\", 2) ➞ \"cherrycherry\""
      ],
      "id": "7062bfdb",
      "execution_count": null,
      "outputs": []
    },
    {
      "cell_type": "code",
      "metadata": {
        "id": "akshl5tCwMD-",
        "colab": {
          "base_uri": "https://localhost:8080/"
        },
        "outputId": "1af97a12-4f09-4c46-9273-497736b16c76"
      },
      "source": [
        "def repetition ():\n",
        "    mystr = input(\"Введите строку: \")\n",
        "    n = int(input(\"Введите количество повторений: \"))\n",
        "    return mystr * n\n",
        "print (repetition ())"
      ],
      "id": "akshl5tCwMD-",
      "execution_count": null,
      "outputs": [
        {
          "output_type": "stream",
          "name": "stdout",
          "text": [
            "Введите строку: vielleicht\n",
            "Введите количество повторений: 2\n",
            "vielleichtvielleicht\n"
          ]
        }
      ]
    },
    {
      "cell_type": "markdown",
      "metadata": {
        "id": "5c2fe48a"
      },
      "source": [
        "# 8. Create a function that takes a 2D list lst returns the sum of the minimum value in each row. - 0.5 балла"
      ],
      "id": "5c2fe48a"
    },
    {
      "cell_type": "code",
      "metadata": {
        "id": "c3232abb",
        "colab": {
          "base_uri": "https://localhost:8080/",
          "height": 135
        },
        "outputId": "c58d9544-13a7-4433-8e5c-a503817571bc"
      },
      "source": [
        "sum_minimums([\n",
        "  [1, 2, 3, 4, 5],\n",
        "  [5, 6, 7, 8, 9],\n",
        "  [20, 21, 34, 56, 100]\n",
        "] ➞ 26\n",
        "\n",
        "# minimum value of the first row is 1\n",
        "# minimum value of the second row is 5\n",
        "# minimum value of the third row is 20"
      ],
      "id": "c3232abb",
      "execution_count": null,
      "outputs": [
        {
          "output_type": "error",
          "ename": "SyntaxError",
          "evalue": "ignored",
          "traceback": [
            "\u001b[0;36m  File \u001b[0;32m\"<ipython-input-72-9a140f85775a>\"\u001b[0;36m, line \u001b[0;32m5\u001b[0m\n\u001b[0;31m    ] ➞ 26\u001b[0m\n\u001b[0m      ^\u001b[0m\n\u001b[0;31mSyntaxError\u001b[0m\u001b[0;31m:\u001b[0m invalid character in identifier\n"
          ]
        }
      ]
    },
    {
      "cell_type": "code",
      "metadata": {
        "id": "kw_jXXd7xCec",
        "colab": {
          "base_uri": "https://localhost:8080/"
        },
        "outputId": "2c993b19-dfa0-471e-9786-2b5dd29d2b05"
      },
      "source": [
        "def sum_minimums(*lists):   \n",
        "  total = 0\n",
        "  for i in lists:\n",
        "    min = i[0]\n",
        "    for j in i:\n",
        "      if j < min:\n",
        "        min = j\n",
        "    total += min\n",
        "  return total\n",
        "print(sum_minimums([1, 2, 3, 4, 5],[5, 6, 7, 8, 9],[20, 21, 34, 56, 100]))"
      ],
      "id": "kw_jXXd7xCec",
      "execution_count": null,
      "outputs": [
        {
          "output_type": "stream",
          "name": "stdout",
          "text": [
            "26\n"
          ]
        }
      ]
    },
    {
      "cell_type": "markdown",
      "metadata": {
        "id": "88c6709f"
      },
      "source": [
        "# 9. Create a function to return the amount of potatoes there are in a string. - 0.5 балла"
      ],
      "id": "88c6709f"
    },
    {
      "cell_type": "code",
      "metadata": {
        "id": "j46WFNk1vmz8",
        "colab": {
          "base_uri": "https://localhost:8080/"
        },
        "outputId": "7846d8f4-49ce-4847-8d4d-98877e070877"
      },
      "source": [
        "def mystring (text):\n",
        "  start = 0\n",
        "  numberofwords = 0\n",
        "  allwordsfound = False\n",
        "  while not allwordsfound:\n",
        "    start = text.find(\"potato\", start)\n",
        "    if start == -1:\n",
        "      allwordsfound = True\n",
        "    else:\n",
        "      start = start + len(\"potato\")\n",
        "      numberofwords += 1\n",
        "  return (numberofwords)\n",
        "\n",
        "print (mystring(\"xpotatoesxpotato\"))\n",
        "print (mystring(\"potatotttttpotatoxxxxxxpotatommmmpotato\"))\n",
        "print (mystring(\"potatoapple\"))\n",
        "print (mystring(\"potoapple\"))"
      ],
      "id": "j46WFNk1vmz8",
      "execution_count": null,
      "outputs": [
        {
          "output_type": "stream",
          "name": "stdout",
          "text": [
            "2\n",
            "4\n",
            "1\n",
            "0\n"
          ]
        }
      ]
    },
    {
      "cell_type": "code",
      "metadata": {
        "colab": {
          "base_uri": "https://localhost:8080/"
        },
        "id": "_yqa6vYs8dqS",
        "outputId": "e734bb6d-bfe5-4d7b-cba6-d078243642a1"
      },
      "source": [
        "def mystring (text): #второй_вариант\n",
        "  numberofwords = 0\n",
        "  allwordsfound = False\n",
        "  while not allwordsfound:\n",
        "    start = text.find(\"potato\")\n",
        "    if start == -1:\n",
        "      allwordsfound = True\n",
        "    else:\n",
        "      idx_from = start + len(\"potato\")\n",
        "      text = text [idx_from:]\n",
        "      numberofwords += 1\n",
        "  return (numberofwords)\n",
        "\n",
        "print (mystring(\"xpotatoesxpotato\"))\n",
        "print (mystring(\"potatotttttpotatoxxxxxxpotatommmmpotato\"))\n",
        "print (mystring(\"potatoapple\"))"
      ],
      "id": "_yqa6vYs8dqS",
      "execution_count": null,
      "outputs": [
        {
          "output_type": "stream",
          "name": "stdout",
          "text": [
            "2\n",
            "4\n",
            "1\n"
          ]
        }
      ]
    },
    {
      "cell_type": "code",
      "metadata": {
        "id": "e2610cbd",
        "colab": {
          "base_uri": "https://localhost:8080/",
          "height": 135
        },
        "outputId": "94bc2e23-d672-4618-9fb9-253e4f47a1bd"
      },
      "source": [
        "potatoes(\"potato\") ➞ 1\n",
        "\n",
        "potatoes(\"potatopotato\") ➞ 2\n",
        "\n",
        "potatoes(\"potatoapple\") ➞ 1"
      ],
      "id": "e2610cbd",
      "execution_count": null,
      "outputs": [
        {
          "output_type": "error",
          "ename": "SyntaxError",
          "evalue": "ignored",
          "traceback": [
            "\u001b[0;36m  File \u001b[0;32m\"<ipython-input-1-417d920efa97>\"\u001b[0;36m, line \u001b[0;32m1\u001b[0m\n\u001b[0;31m    potatoes(\"potato\") ➞ 1\u001b[0m\n\u001b[0m                       ^\u001b[0m\n\u001b[0;31mSyntaxError\u001b[0m\u001b[0;31m:\u001b[0m invalid character in identifier\n"
          ]
        }
      ]
    },
    {
      "cell_type": "markdown",
      "metadata": {
        "id": "7fb5aa44"
      },
      "source": [
        "# 10. Create a function that takes a list of integers as an argument and returns a unique number from that list. All numbers except unique ones have the same number of occurrences in the list. - 0.5 балла"
      ],
      "id": "7fb5aa44"
    },
    {
      "cell_type": "code",
      "metadata": {
        "id": "a43f80e0"
      },
      "source": [
        "find_single_number([2, 2, 2, 3, 4, 4, 4]) ➞ 3\n",
        "\n",
        "find_single_number([2]) ➞ 2\n",
        "\n",
        "find_single_number([]) ➞ None\n",
        "\n",
        "find_single_number([7, 13, 3, 6, 5, 4, 4, 13, 5, 3, 6, 7, 6, 5, 3, 13, 4, 7, 13, 5, 7, 4, 3, 6, 8, 4, 3, 7, 5, 6, 13]) ➞ 8\n",
        "\n",
        "find_single_number([1, 2, 3, 6, 5, 4, 4, 2, 5, 3, 6, 1, 6, 5, 3, 2, 4, 1, 2, 5, 1, 4, 3, 6, 101, 4, 3, 1, 5, 6, 2]) ➞ 101\n"
      ],
      "id": "a43f80e0",
      "execution_count": null,
      "outputs": []
    },
    {
      "cell_type": "code",
      "metadata": {
        "id": "0XIJNVzVUpK2",
        "colab": {
          "base_uri": "https://localhost:8080/"
        },
        "outputId": "da0a4bfa-5810-4a3d-c940-4cfb6cc982c4"
      },
      "source": [
        "def find_single_number(n):\n",
        "  if len(n) == 0:\n",
        "    return None \n",
        "  for elem_to_compare in n:\n",
        "    samenumbers = 0 \n",
        "    for j in n:\n",
        "      if elem_to_compare == j:\n",
        "        samenumbers += 1\n",
        "    if samenumbers == 1:\n",
        "      break\n",
        "  return elem_to_compare\n",
        "\n",
        "print (find_single_number([2, 2, 2, 3, 4, 4, 4]))\n",
        "print (find_single_number([2]))\n",
        "print (find_single_number([]))\n",
        "print (find_single_number([7, 13, 3, 6, 5, 4, 4, 13, 5, 3, 6, 7, 6, 5, 3, 13, 4, 7, 13, 5, 7, 4, 3, 6, 8, 4, 3, 7, 5, 6, 13]))\n",
        "print (find_single_number([1, 2, 3, 6, 5, 4, 4, 2, 5, 3, 6, 1, 6, 5, 3, 2, 4, 1, 2, 5, 1, 4, 3, 6, 101, 4, 3, 1, 5, 6, 2]))"
      ],
      "id": "0XIJNVzVUpK2",
      "execution_count": null,
      "outputs": [
        {
          "output_type": "stream",
          "name": "stdout",
          "text": [
            "3\n",
            "2\n",
            "None\n",
            "8\n",
            "101\n"
          ]
        }
      ]
    },
    {
      "cell_type": "markdown",
      "metadata": {
        "id": "0313ea52"
      },
      "source": [
        "# 11. Given a letter and a list of words, return whether the letter does not appear in any of the words. - 0.5 балла"
      ],
      "id": "0313ea52"
    },
    {
      "cell_type": "code",
      "metadata": {
        "id": "0cb649a5"
      },
      "source": [
        "forbidden_letter(\"r\", [\"rock\", \"paper\", \"scissors\"]) ➞ False\n",
        "\n",
        "forbidden_letter(\"a\", [\"spoon\", \"fork\", \"knife\"]) ➞ True\n",
        "\n",
        "forbidden_letter(\"m\", []) ➞ True"
      ],
      "id": "0cb649a5",
      "execution_count": null,
      "outputs": []
    },
    {
      "cell_type": "code",
      "metadata": {
        "colab": {
          "base_uri": "https://localhost:8080/"
        },
        "id": "YM1R628c040r",
        "outputId": "f26cc504-100c-43a9-810b-721d680484d5"
      },
      "source": [
        "def forbidden_letter (letter, listofwords):\n",
        "  for word in listofwords:\n",
        "    if letter in word:\n",
        "        return False\n",
        "  return True\n",
        "\n",
        "print(forbidden_letter(\"r\", [\"rock\", \"paper\", \"scissors\"]))\n",
        "print(forbidden_letter(\"a\", [\"spoon\", \"fork\", \"knife\"]))\n",
        "print(forbidden_letter(\"m\", []))"
      ],
      "id": "YM1R628c040r",
      "execution_count": null,
      "outputs": [
        {
          "output_type": "stream",
          "name": "stdout",
          "text": [
            "False\n",
            "True\n",
            "True\n"
          ]
        }
      ]
    },
    {
      "cell_type": "markdown",
      "metadata": {
        "id": "0a7ef5b5"
      },
      "source": [
        "# 12.  Define a function which create a Pattern like this one.  - 2 балла"
      ],
      "id": "0a7ef5b5"
    },
    {
      "cell_type": "code",
      "metadata": {
        "id": "7617ebb7"
      },
      "source": [
        "Input: 4\n",
        "Pattern:\n",
        "\n",
        " 01234\n",
        "  | |     0\n",
        " -----    1\n",
        "  | |     2\n",
        " -----    3\n",
        "  | |     4"
      ],
      "id": "7617ebb7",
      "execution_count": null,
      "outputs": []
    },
    {
      "cell_type": "code",
      "metadata": {
        "id": "5d3b0cdd",
        "colab": {
          "base_uri": "https://localhost:8080/"
        },
        "outputId": "611888a8-6f92-4b15-8a20-d0a952e8be4c"
      },
      "source": [
        "def print_pattern(size):\n",
        "    size += 1\n",
        "    first_row =''\n",
        "    for i in range(size):\n",
        "      first_row += str(i)\n",
        "    print(first_row)\n",
        "    row = ''\n",
        "    for i in range(size):\n",
        "      if i % 2 == 0:\n",
        "        row += ' '\n",
        "      else:\n",
        "        row += '|'\n",
        "    for i in range(size):\n",
        "      if i % 2 == 0:\n",
        "        print(row + '   ' + str(i))\n",
        "      else:\n",
        "        print('-' * size + '   ' + str(i))\n",
        "\n",
        "sz = int(input(\"Введите число: \"))\n",
        "print_pattern(sz)"
      ],
      "id": "5d3b0cdd",
      "execution_count": 15,
      "outputs": [
        {
          "output_type": "stream",
          "name": "stdout",
          "text": [
            "Введите число: 5\n",
            "012345\n",
            " | | |   0\n",
            "------   1\n",
            " | | |   2\n",
            "------   3\n",
            " | | |   4\n",
            "------   5\n"
          ]
        }
      ]
    },
    {
      "cell_type": "markdown",
      "metadata": {
        "id": "0d5edcd1"
      },
      "source": [
        "# 13. Create a function that takes three numbers as arguments and returns True if it's a triangle and False if not.  - 0.5 балла"
      ],
      "id": "0d5edcd1"
    },
    {
      "cell_type": "code",
      "metadata": {
        "id": "d867302c"
      },
      "source": [
        "is_triangle(2, 3, 4) ➞ True\n",
        "\n",
        "is_triangle(3, 4, 5) ➞ True\n",
        "\n",
        "is_triangle(4, 3, 8) ➞ False"
      ],
      "id": "d867302c",
      "execution_count": null,
      "outputs": []
    },
    {
      "cell_type": "code",
      "metadata": {
        "id": "8sokqygcYPhP",
        "colab": {
          "base_uri": "https://localhost:8080/"
        },
        "outputId": "0709501a-333d-4e71-ba0b-6d4acea3be68"
      },
      "source": [
        "#в треугольнике сумма любых 2 сторон не должна быть меньше третьей стороны\n",
        "def is_triangle (a, b, c):\n",
        "  value = True\n",
        "  if(a+b<=c) or(a+c<=b)or(b+c<=a):\n",
        "    value = False\n",
        "  return value\n",
        "print (is_triangle(2, 3, 4))\n",
        "print (is_triangle(3, 4, 5))\n",
        "print (is_triangle(4, 3, 8))"
      ],
      "id": "8sokqygcYPhP",
      "execution_count": null,
      "outputs": [
        {
          "output_type": "stream",
          "name": "stdout",
          "text": [
            "True\n",
            "True\n",
            "False\n"
          ]
        }
      ]
    },
    {
      "cell_type": "markdown",
      "metadata": {
        "id": "2bdfb66e"
      },
      "source": [
        "# 14. Create a \"Code\" Generator that takes text as input and replaces some letter with another letter, and outputs the \"encoded\" message. Create funcs to encode and decode messages"
      ],
      "id": "2bdfb66e"
    },
    {
      "cell_type": "code",
      "metadata": {
        "id": "0caf2b35",
        "colab": {
          "base_uri": "https://localhost:8080/"
        },
        "outputId": "e9d785ba-0db6-4909-d700-fa23996e17fc"
      },
      "source": [
        "def convert(dic, line):\n",
        "  result = ''\n",
        "  for symbol in line:\n",
        "    if symbol in dic:\n",
        "      result += dic[symbol]\n",
        "    else:\n",
        "      result += symbol\n",
        "  return result\n",
        "\n",
        "def encode (line):\n",
        "  codedic = {'a' : 'W', 'b' : 'X', 'c' : 'Y', 'd' : 'Z'}\n",
        "  return convert(codedic, line)\n",
        "\n",
        "def decode (line):\n",
        "  codedic = {'W' : 'a', 'X' : 'b', 'Y' : 'c', 'Z': 'd'}\n",
        "  return convert(codedic, line)\n",
        "\n",
        "encoded = encode('last built close day')\n",
        "print(encoded)\n",
        "decoded = decode(encoded)\n",
        "print(decoded)"
      ],
      "id": "0caf2b35",
      "execution_count": null,
      "outputs": [
        {
          "output_type": "stream",
          "name": "stdout",
          "text": [
            "lWst Xuilt Ylose ZWy\n",
            "last built close day\n"
          ]
        }
      ]
    }
  ]
}