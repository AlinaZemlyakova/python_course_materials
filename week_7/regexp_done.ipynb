{
  "nbformat": 4,
  "nbformat_minor": 0,
  "metadata": {
    "kernelspec": {
      "display_name": "Python 3",
      "language": "python",
      "name": "python3"
    },
    "language_info": {
      "codemirror_mode": {
        "name": "ipython",
        "version": 3
      },
      "file_extension": ".py",
      "mimetype": "text/x-python",
      "name": "python",
      "nbconvert_exporter": "python",
      "pygments_lexer": "ipython3",
      "version": "3.8.3"
    },
    "colab": {
      "name": "regexp_done",
      "provenance": [],
      "collapsed_sections": [
        "jlv3Kr840cSC",
        "xUmYHN1X0cSK",
        "cV_xcOkE0cSL",
        "DFwH9QgV0cSP",
        "1Av_R7UN0cSQ",
        "FUZPEwoo0cSW",
        "AEDrj4nE0cSZ",
        "W-QuoYHz0cSc",
        "S7HTk9W30cSi",
        "qy5ZN6KF0cSk",
        "9rC_KAtL0cSl",
        "Iper0XwP0cSp",
        "udi62Xv10cSq",
        "kBFjZevk0cSq"
      ]
    }
  },
  "cells": [
    {
      "cell_type": "markdown",
      "metadata": {
        "id": "T4Hvzzld0cRP"
      },
      "source": [
        "## Регулярные выражения (Regular Expressions)\n"
      ]
    },
    {
      "cell_type": "markdown",
      "metadata": {
        "id": "aiPRkMLZ0cRX"
      },
      "source": [
        "### Введение в регулярные выражения"
      ]
    },
    {
      "cell_type": "markdown",
      "metadata": {
        "id": "2eiuSCSY0cRX"
      },
      "source": [
        "Регулярные выражения ‒ выражения, последовательности символов, которые позволяют искать совпадения в тексте. Выражаясь более формально, они помогают найти подстроки определенного вида в строке. Еще о регулярных выражениях можно думать как о шаблонах, в которые мы можем подставлять текст, и этот текст либо соответствует шаблону, либо нет. В самом простом случае в качестве регулярного выражения может использоваться обычная строка. "
      ]
    },
    {
      "cell_type": "code",
      "metadata": {
        "id": "4ZFB-8Fk0cRY"
      },
      "source": [
        "#!pip list - просмотр загруженных библиотек\n",
        "# библиотека регулярных выражений в Python\n",
        "import re"
      ],
      "execution_count": 3,
      "outputs": []
    },
    {
      "cell_type": "markdown",
      "metadata": {
        "id": "sO5X5ppz0cRb"
      },
      "source": [
        "Возьмем две первых строки из известной считалки Агаты Кристи и попытаемся найти в них слово \"обедать\". \n",
        "Для этого можно воспользоваться оператором in. Он проверяет точное вхождение одной строки в другую и возвращает логическое значение: True, если вхождение есть, и False в противном случае."
      ]
    },
    {
      "cell_type": "code",
      "metadata": {
        "id": "eQalJ0PF0cRc",
        "colab": {
          "base_uri": "https://localhost:8080/"
        },
        "outputId": "efca062b-d957-46f4-f8b8-05ff1838e4bb"
      },
      "source": [
        "string = 'Десять негритят отправились обедать, \\\n",
        "          Один поперхнулся, их осталось девять.'\n",
        "# слово \"обедать\" маленькими буквами есть в строке\n",
        "'обедать' in string"
      ],
      "execution_count": null,
      "outputs": [
        {
          "output_type": "execute_result",
          "data": {
            "text/plain": [
              "True"
            ]
          },
          "metadata": {},
          "execution_count": 4
        }
      ]
    },
    {
      "cell_type": "code",
      "metadata": {
        "id": "0xKzy_wv0cRe",
        "colab": {
          "base_uri": "https://localhost:8080/"
        },
        "outputId": "f78bbb46-4e72-4b87-9970-de6b073c0e86"
      },
      "source": [
        "# а если мы попытаемся поискать слово \"Обедать\" с большой буквы, то оператор вернет False\n",
        "'Обедать' in string"
      ],
      "execution_count": null,
      "outputs": [
        {
          "output_type": "execute_result",
          "data": {
            "text/plain": [
              "False"
            ]
          },
          "metadata": {},
          "execution_count": 5
        }
      ]
    },
    {
      "cell_type": "markdown",
      "metadata": {
        "id": "somYZZco0cRf"
      },
      "source": [
        "Видно, что слово *Обедать* начинается с большой буквы. Что, если мы хотим найти в некоторой строке слово *Обедать* вне зависимости от регистра, то есть все слова типа *Обедать, обедать, ОБЕДАТЬ* и т.д.? Эту задачу все еще можно решить без регулярных выражений: привести всю строку к нижнему регистру и искать слово *один*.\n",
        "А что, если у нас будет текст подлиннее (например, полный текст считалки), и в нем необходимо найти все числительные от одного до десяти во всех падежах (один/одного/двое/двоим и т.д.)? В такой ситуации удобнее написать некоторый шаблон, чтобы не создавать длинный список слов с разными формами слов. Тут на помощь придут регулярные выражения. "
      ]
    },
    {
      "cell_type": "markdown",
      "metadata": {
        "id": "BIKIcMH90cRg"
      },
      "source": [
        "* Промежутки, заключенные в квадратные скобки, позволяют найти цифры или буквы разных алфавитов и разных регистров \n",
        "\n",
        "\n",
        "    [0-9] соответствует любой цифре\n",
        "    \n",
        "    [A-Z] соответствует любой заглавной букве английского алфавита\n",
        "    \n",
        "    [a-z] соответствует любой строчной букве английского алфавита\n",
        "    \n",
        "    [А-Я] и [а-я] ‒ аналогично для букв русского алфавита (кроме буквы ё/Ё - ее нужно включать отдельно!)"
      ]
    },
    {
      "cell_type": "markdown",
      "metadata": {
        "id": "i_KdF4be0cRh"
      },
      "source": [
        "* Для обозначения произвольного символа (кроме новой. строки) используется  точка ‒ `.`.\n",
        "\n",
        "* Для цифр есть специальный символ `\\d` (от *digit*) ≈`[0-9]` . Добавление обратного слэша называется экранированием: так мы отмечаем, что ищем именно цифру, а не просто букву d. \n",
        "\n",
        "* Для любого символа, кроме цифры тоже есть специальный символ `\\D` (от *digit*)≈`[^0-9]` (заглавная буква здесь отвечает за отрицание). Добавление обратного слэша называется экранированием: так мы отмечаем, что ищем именно цифру, а не просто букву d. \n",
        "\n",
        "* Для пробела тоже существует свой символ ‒ `\\s` (от *space*) ≈`[ \\f\\n\\r\\t\\v]`. Этот символ соответствует ровно одному пробельному символу в тексте (пробел, табуляция, перенос строки и т.д.).\n",
        "\n",
        "* Любой непробельный символ, обозначается как `\\S` (заглавная буква здесь отвечает за отрицание).\n",
        "\n",
        "* Для букв тоже существует свой символ ‒ `\\w` (от *word*) ≈ `[0-9a-zA-Zа-яА-ЯёЁ]`. Любая буква (то, что может быть частью слова), а также цифры и _ .\n",
        "\n",
        "* Любая не-буква, не-цифра и не подчёркивание, обозначается как `\\W` (заглавная буква здесь отвечает за отрицание).\n"
      ]
    },
    {
      "cell_type": "markdown",
      "metadata": {
        "id": "mZWR4_cl0cRi"
      },
      "source": [
        "### Комментарий\n",
        "Мы сейчас будем использовать конструкцию re.search(pattern,string).group(0) \\\n",
        "Она ищет первое вхождение паттерна в строку. (чуть позже систематически в этом разберемся)"
      ]
    },
    {
      "cell_type": "code",
      "metadata": {
        "id": "uo2IC7hB0cRk",
        "colab": {
          "base_uri": "https://localhost:8080/",
          "height": 36
        },
        "outputId": "15602d91-bd21-41d0-dde8-c587ca4ba663"
      },
      "source": [
        "# Найти в строке string первую строчку, подходящую под шаблон pattern == re.search(pattern, string)\n",
        "st = 'ёёёёёёёёабв'\n",
        "re.search(\"[^ё]+\",st).group(0)"
      ],
      "execution_count": null,
      "outputs": [
        {
          "output_type": "execute_result",
          "data": {
            "application/vnd.google.colaboratory.intrinsic+json": {
              "type": "string"
            },
            "text/plain": [
              "'абв'"
            ]
          },
          "metadata": {},
          "execution_count": 13
        }
      ]
    },
    {
      "cell_type": "markdown",
      "metadata": {
        "id": "LZ1Niynz0cRl"
      },
      "source": [
        "Здесь нашлось абв, потому что в диапазон а-я буква ё не входит!"
      ]
    },
    {
      "cell_type": "code",
      "metadata": {
        "id": "zUk5X12z0cRl",
        "colab": {
          "base_uri": "https://localhost:8080/",
          "height": 36
        },
        "outputId": "9419ca0e-1653-4afa-840a-dae1151544ae"
      },
      "source": [
        "# Найти в строке string первую строчку, подходящую под шаблон pattern == re.search(pattern, string)\n",
        "st = 'ёёёёёёёёабв'\n",
        "re.search(\"\\w+\", st).group(0)"
      ],
      "execution_count": null,
      "outputs": [
        {
          "output_type": "execute_result",
          "data": {
            "application/vnd.google.colaboratory.intrinsic+json": {
              "type": "string"
            },
            "text/plain": [
              "'ёёёёёёёёабв'"
            ]
          },
          "metadata": {},
          "execution_count": 12
        }
      ]
    },
    {
      "cell_type": "code",
      "metadata": {
        "id": "kjfgV9if0cRm",
        "colab": {
          "base_uri": "https://localhost:8080/",
          "height": 36
        },
        "outputId": "4550c4c5-373e-444a-9f56-f648d3e58298"
      },
      "source": [
        "# Найти в строке string первую строчку, подходящую под шаблон pattern == re.search(pattern, string)\n",
        "st = 'Революция произошла в 1917 году'\n",
        "re.search(\"\\d+\",st).group(0) #or re.search(\"\\d{4}\",st).group(0)"
      ],
      "execution_count": null,
      "outputs": [
        {
          "output_type": "execute_result",
          "data": {
            "application/vnd.google.colaboratory.intrinsic+json": {
              "type": "string"
            },
            "text/plain": [
              "'1917'"
            ]
          },
          "metadata": {},
          "execution_count": 14
        }
      ]
    },
    {
      "cell_type": "code",
      "metadata": {
        "id": "xgmoUJDc0cRm",
        "colab": {
          "base_uri": "https://localhost:8080/",
          "height": 36
        },
        "outputId": "46c17500-8fe0-4f17-b0dc-c81269856c06"
      },
      "source": [
        "# Найти в строке string первую строчку, подходящую под шаблон pattern == re.search(pattern, string)\n",
        "st = 'Революция произошла в 1917 году'\n",
        "re.search(\"\\D+\", st).group(0)"
      ],
      "execution_count": null,
      "outputs": [
        {
          "output_type": "execute_result",
          "data": {
            "application/vnd.google.colaboratory.intrinsic+json": {
              "type": "string"
            },
            "text/plain": [
              "'Революция произошла в '"
            ]
          },
          "metadata": {},
          "execution_count": 26
        }
      ]
    },
    {
      "cell_type": "code",
      "metadata": {
        "colab": {
          "base_uri": "https://localhost:8080/"
        },
        "id": "pSOUj8YE0cRn",
        "outputId": "21227784-ab50-49a2-ed2f-f75ac45a423e"
      },
      "source": [
        "# Найти в строке string первую строчку, подходящую под шаблон pattern == re.search(pattern, string)\n",
        "# Мы добежали до первого пробельного символа\n",
        "st = 'Революция произошла в 1917 году 34'\n",
        "re.findall(\"\\d+\",st)"
      ],
      "execution_count": null,
      "outputs": [
        {
          "output_type": "execute_result",
          "data": {
            "text/plain": [
              "['1917', '34']"
            ]
          },
          "metadata": {},
          "execution_count": 27
        }
      ]
    },
    {
      "cell_type": "code",
      "metadata": {
        "colab": {
          "base_uri": "https://localhost:8080/",
          "height": 36
        },
        "id": "DS1zxz0R8gTw",
        "outputId": "f04e7e5d-4fe5-4c53-ca2c-66129d694626"
      },
      "source": [
        "#функция search находит ТОЛЬКО первое вхождение!\n",
        "st = 'Революция произошла в 1917 году 34'\n",
        "re.search(\"\\d+\",st).group(0)"
      ],
      "execution_count": null,
      "outputs": [
        {
          "output_type": "execute_result",
          "data": {
            "application/vnd.google.colaboratory.intrinsic+json": {
              "type": "string"
            },
            "text/plain": [
              "'1917'"
            ]
          },
          "metadata": {},
          "execution_count": 29
        }
      ]
    },
    {
      "cell_type": "markdown",
      "metadata": {
        "id": "SUlLuv4q0cRo"
      },
      "source": [
        "Для разбора дальнейших символов в регулярных выражениях, создадим небольшой набор слов (не очень осмысленный, но удобный):\n",
        "\n",
        "     хах, хех, хаааа, xaxa"
      ]
    },
    {
      "cell_type": "markdown",
      "metadata": {
        "id": "2nibfa8T0cRo"
      },
      "source": [
        "* Знак `.` соответствует одному любому символу в строке. Так, регулярное выражение `x.x` \"поймает\" слова *хах* и *хех*.\n",
        "* Знак `+` соответствует одному или более вхождению символа(ов), который стоит слева от `+`. Выражение `xa+` \"поймает\" слова *xa* и *хаааа*.\n",
        "* Знак `*` соответствует нулю или более вхождениям символа, который стоит слева от `*`.  Выражение `xaх*`  \"поймает\" слова *xa* и *хах*.\n",
        "* Знак `?` соответствует нулю или одному вхождению символа, который стоит слева от `?`.  Выражение `xa?`  \"поймает\" все последовательности *xa* и буквы *x*.\n",
        "До сих пор мы рассматривали поиск определенной последовательности символов. Но что, если у нас нет определенного шаблона, и нам надо вернуть набор символов из строки, отвечающий определенным правилам? Такая задача часто стоит при извлечении информации из строк. Это можно сделать, написав выражение с использованием специальных символов. Вот наиболее часто используемые из них:\n",
        "\n",
        "- **\\b**\tГраница слова\n",
        "- **[..]**\tОдин из символов в скобках ([^..] — любой символ, кроме тех, что в скобках)\n",
        "- **\\**\tЭкранирование специальных символов (\\. означает точку или \\+ — знак «плюс»)\n",
        "- **^ и $**\tНачало и конец строки соответственно\n",
        "- **{n,m}**\tОт n до m вхождений ({,m} — от 0 до m)\n",
        "- **a|b**\tСоответствует a или b\n",
        "- **()**\tГруппирует выражение и возвращает найденный текст\n",
        "- **\\t, \\n, \\r**\tСимвол табуляции, новой строки и возврата каретки соответственно"
      ]
    },
    {
      "cell_type": "markdown",
      "metadata": {
        "id": "WdQ4q0tn_2gP"
      },
      "source": [
        "**r нужно для читабельности + чтобы передать шаблон для нужной библиотеки (в нашем случае re)**"
      ]
    },
    {
      "cell_type": "code",
      "metadata": {
        "id": "sVIGqOqX0cRp",
        "colab": {
          "base_uri": "https://localhost:8080/"
        },
        "outputId": "68d4494d-b42f-4c08-81ed-1b64042fa040"
      },
      "source": [
        "st = \"хах, хех, хаааа, хаххххххха\"\n",
        "re.findall(r'хах*',st)"
      ],
      "execution_count": null,
      "outputs": [
        {
          "output_type": "execute_result",
          "data": {
            "text/plain": [
              "['хах', 'ха', 'хаххххххх']"
            ]
          },
          "metadata": {},
          "execution_count": 30
        }
      ]
    },
    {
      "cell_type": "code",
      "metadata": {
        "id": "dL2Kxe8P0cRp",
        "outputId": "414bc1bb-49fe-42df-b2ec-31fb78c5ce61"
      },
      "source": [
        "re.findall(r'ха+',st)"
      ],
      "execution_count": null,
      "outputs": [
        {
          "data": {
            "text/plain": [
              "['ха', 'хаааа', 'ха', 'ха']"
            ]
          },
          "execution_count": 41,
          "metadata": {},
          "output_type": "execute_result"
        }
      ]
    },
    {
      "cell_type": "code",
      "metadata": {
        "id": "fUZ1vYEN0cRq",
        "outputId": "0b162c51-b196-4ecd-f24c-a28449b93059"
      },
      "source": [
        "st = \"хах, хех, хаааа, хаха\"\n",
        "re.findall(r'хах*',st) #ха из хаааа, т.к * говорит нам что слева должно быть ха и справа 0 или бесконечно число х"
      ],
      "execution_count": null,
      "outputs": [
        {
          "data": {
            "text/plain": [
              "['хах', 'ха', 'хах']"
            ]
          },
          "execution_count": 58,
          "metadata": {},
          "output_type": "execute_result"
        }
      ]
    },
    {
      "cell_type": "code",
      "metadata": {
        "id": "qhl__nt40cRr",
        "outputId": "f08d813e-5571-467c-dace-e14922054609"
      },
      "source": [
        "st = \"хах, хех, ?хаа..аа, хаха 3456 456 56436743\"\n",
        "re.findall(r'\\d{3}',st) #? говорит нам, что слева должен быть один х, а справа 0 или 1 а. \n",
        "# Соответственно ха и х из хах; х и х из хех; и ха из хааа; ха ха из хаха"
      ],
      "execution_count": null,
      "outputs": [
        {
          "data": {
            "text/plain": [
              "['345', '456', '564', '367']"
            ]
          },
          "execution_count": 48,
          "metadata": {},
          "output_type": "execute_result"
        }
      ]
    },
    {
      "cell_type": "markdown",
      "metadata": {
        "id": "_a3zGdmu0cRr"
      },
      "source": [
        "Как быть, если с помощью регулярного выражения нужно найти подстроку, содержащую знаки препинания? Те же точки, вопросительные знаки, скобки? Нужно их экранировать ‒ ставить перед ними `\\`, например, `\\.`, `\\,`, `\\?`. Это символ будет сообщать Python, что нам нужен именно конкретный символ (точка, запятая, знак вопроса и др.). "
      ]
    },
    {
      "cell_type": "markdown",
      "metadata": {
        "id": "u8yBwRpM0cRr"
      },
      "source": [
        "В регулярных выражениях можно явно задавать число повторений символов. Если мы знаем точное число символов, то его можно указать в фигурных скобках. Так, выражение `а{4}` будет соответствовать четырем буквам `a` подряд. Если точное число повторений нам неизвестно, можно задать диапазон, указав начало и конец отрезка через запятую. Например, такое выражение позволит найти от двух до четырех букв `a` подряд: `a{2,4}`. Если известен только левый или правый конец отрезка, то второй конец можно опустить: `a{2,}` (не менее двух) или `a{,4}` (не более 4)."
      ]
    },
    {
      "cell_type": "markdown",
      "metadata": {
        "id": "RQgTbX7S0cRr"
      },
      "source": [
        "В регулярных выражениях также можно использовать условие *или*. Например, возвращаясь к нашей \"смеющейся\" строке, если мы напишем выражение `x[а|е]х`,  оно поймает слова *хах* и *хех*, а вот вдруг появившийся *хох* не поймает.\n",
        "\n"
      ]
    },
    {
      "cell_type": "code",
      "metadata": {
        "id": "6wFAnGbn0cRs",
        "outputId": "fcbd2f2e-9952-410e-9ef7-9fadc50c6669"
      },
      "source": [
        "st = \"хах, хех, ?хаа..аа, хаха\"\n",
        "re.findall(r'х[а|е]х',st)"
      ],
      "execution_count": null,
      "outputs": [
        {
          "data": {
            "text/plain": [
              "['хах', 'хех', 'хах']"
            ]
          },
          "execution_count": 30,
          "metadata": {},
          "output_type": "execute_result"
        }
      ]
    },
    {
      "cell_type": "markdown",
      "metadata": {
        "id": "wrwNZtUa0cRs"
      },
      "source": [
        "Создадим какой-нибудь незамысловатый текст с разными датами:"
      ]
    },
    {
      "cell_type": "code",
      "metadata": {
        "id": "9N--1pT50cRt",
        "colab": {
          "base_uri": "https://localhost:8080/",
          "height": 54
        },
        "outputId": "2d0ad34a-712c-42e1-d758-2caebff86313"
      },
      "source": [
        "text = \"12 ноября 2011 года произошло удивительное событие. А 13 ноября 2012 - еще удивительнее. Даже не будем \\\n",
        "говорить, что произошло 2 декабря 2011 года и 25 декабря 3012 года.\"\n",
        "text"
      ],
      "execution_count": 1,
      "outputs": [
        {
          "output_type": "execute_result",
          "data": {
            "text/plain": [
              "'12 ноября 2011 года произошло удивительное событие. А 13 ноября 2012 - еще удивительнее. Даже не будем говорить, что произошло 2 декабря 2011 года и 25 декабря 3012 года.'"
            ],
            "application/vnd.google.colaboratory.intrinsic+json": {
              "type": "string"
            }
          },
          "metadata": {},
          "execution_count": 1
        }
      ]
    },
    {
      "cell_type": "markdown",
      "metadata": {
        "id": "fueQSsyZ0cRt"
      },
      "source": [
        "Напишем регулярное выражение, которое будет соответствовать всем цифрам в тексте (не числам), и найдем их все в `text` с помощью функции `findall()`:"
      ]
    },
    {
      "cell_type": "code",
      "metadata": {
        "id": "hKyu8juM0cRt",
        "colab": {
          "base_uri": "https://localhost:8080/"
        },
        "outputId": "33291094-4921-4956-ff58-57dabe1e5445"
      },
      "source": [
        "re.findall(r\"\\d{1,2}\\s[а-яё]+\\s\\d{2}11\", text) # отдельно цифры"
      ],
      "execution_count": null,
      "outputs": [
        {
          "output_type": "execute_result",
          "data": {
            "text/plain": [
              "['12 ноября 2011', '2 декабря 2011']"
            ]
          },
          "metadata": {},
          "execution_count": 3
        }
      ]
    },
    {
      "cell_type": "markdown",
      "metadata": {
        "id": "ACUpacr80cRu"
      },
      "source": [
        "Если забыли, что числа можно искать с помощью `\\d`, можно задействовать промежуток (только не забудьте квадратные скобки):"
      ]
    },
    {
      "cell_type": "code",
      "metadata": {
        "id": "qF6ut1cC0cRu",
        "outputId": "99a24a4c-8545-411a-b2be-64f0ccb995d5"
      },
      "source": [
        "re.findall(\"[0-9]\", text)"
      ],
      "execution_count": null,
      "outputs": [
        {
          "data": {
            "text/plain": [
              "['1',\n",
              " '2',\n",
              " '2',\n",
              " '0',\n",
              " '1',\n",
              " '1',\n",
              " '1',\n",
              " '3',\n",
              " '2',\n",
              " '0',\n",
              " '1',\n",
              " '2',\n",
              " '2',\n",
              " '2',\n",
              " '0',\n",
              " '1',\n",
              " '1',\n",
              " '2',\n",
              " '5',\n",
              " '2',\n",
              " '0',\n",
              " '1',\n",
              " '2']"
            ]
          },
          "execution_count": 9,
          "metadata": {},
          "output_type": "execute_result"
        }
      ]
    },
    {
      "cell_type": "markdown",
      "metadata": {
        "id": "fJ4cE0Zr0cRv"
      },
      "source": [
        "А что, если мы хотим \"ловить\" не цифры, а числа, то есть последовательности из одной или более цифры. Условию \"один и более\" соответствует символ `+`. Попробуем."
      ]
    },
    {
      "cell_type": "code",
      "metadata": {
        "id": "O7Sw4PPc0cRw",
        "outputId": "d33a8619-cbc5-47f1-d860-46e76d954b82"
      },
      "source": [
        "re.findall(\"\\d+\", text) # отдельно числа"
      ],
      "execution_count": null,
      "outputs": [
        {
          "data": {
            "text/plain": [
              "['12', '2011', '13', '2012', '2', '2011', '25', '2012']"
            ]
          },
          "execution_count": 10,
          "metadata": {},
          "output_type": "execute_result"
        }
      ]
    },
    {
      "cell_type": "markdown",
      "metadata": {
        "id": "VuXmR3d40cRw"
      },
      "source": [
        "Получилось! А если сочетания по 1-2 цифры (иногда с пробелом после)? Тут нужен знак `.`, который отвечает ровно за один символ. "
      ]
    },
    {
      "cell_type": "code",
      "metadata": {
        "id": "1rroVQT60cRw",
        "outputId": "dcaff581-b2f1-448e-b6a5-4f0fefc1d34a"
      },
      "source": [
        "re.findall(\"\\d.\", text) # отдельно числа по 1-2 цифры"
      ],
      "execution_count": null,
      "outputs": [
        {
          "data": {
            "text/plain": [
              "['12', '20', '11', '13', '20', '12', '2 ', '20', '11', '25', '20', '12']"
            ]
          },
          "execution_count": 12,
          "metadata": {},
          "output_type": "execute_result"
        }
      ]
    },
    {
      "cell_type": "markdown",
      "metadata": {
        "id": "JX1tRPQ60cRx"
      },
      "source": [
        "Что будет, если мы воспользуемся знаком `?`? Он отвечает за наличие 0 или 1 символа, стоящего слева от регулярного выражения."
      ]
    },
    {
      "cell_type": "code",
      "metadata": {
        "id": "KS0MRGXS0cRx"
      },
      "source": [
        "re.findall(\"\\d?\", text) # по 1 символу"
      ],
      "execution_count": null,
      "outputs": []
    },
    {
      "cell_type": "markdown",
      "metadata": {
        "id": "OEphU0HE0cRx"
      },
      "source": [
        "Получили какое-то безобразие. Но это безобразие оправдано: добавив `?` мы поставили условие, что в подстроке либо есть ровно одна цифра, либо ее нет. Поэтому мы и получили такой странный список. "
      ]
    },
    {
      "cell_type": "markdown",
      "metadata": {
        "id": "yjxWmsQL0cRz"
      },
      "source": [
        "**Задание 1:** написать регулярное выражение, которое будет \"ловить\" все годы в тексте.\n",
        "\n",
        "*Решение:*"
      ]
    },
    {
      "cell_type": "code",
      "metadata": {
        "id": "DT8ozbwP0cRz",
        "outputId": "701943a6-6e22-4c61-d477-67f22b6883b9",
        "colab": {
          "base_uri": "https://localhost:8080/"
        }
      },
      "source": [
        "re.findall('\\d{4}', text) # 4 цифры подряд"
      ],
      "execution_count": 4,
      "outputs": [
        {
          "output_type": "execute_result",
          "data": {
            "text/plain": [
              "['2011', '2012', '2011', '3012']"
            ]
          },
          "metadata": {},
          "execution_count": 4
        }
      ]
    },
    {
      "cell_type": "markdown",
      "metadata": {
        "id": "yuhYCDnL0cRz"
      },
      "source": [
        "А что, если в тексте будут элементы из 4 цифр, которые не будут годами?"
      ]
    },
    {
      "cell_type": "code",
      "metadata": {
        "id": "6Os07qv70cRz",
        "colab": {
          "base_uri": "https://localhost:8080/",
          "height": 54
        },
        "outputId": "d1297a81-de58-4dbd-9024-8406b48ccd74"
      },
      "source": [
        "text = \"По имеющимся данным, в Екатеринбургской губернии на май 1916 года было занято 50611 военнопленных,\\\n",
        "из них 34194 на фабричных и заводских работах, 5731 на «казённых», 5060 на сельскохозяйственных,\\\n",
        "4145 на железнодорожных, 913 на городских и земских, 568 на прочих.\"\n",
        "text"
      ],
      "execution_count": null,
      "outputs": [
        {
          "output_type": "execute_result",
          "data": {
            "application/vnd.google.colaboratory.intrinsic+json": {
              "type": "string"
            },
            "text/plain": [
              "'По имеющимся данным, в Екатеринбургской губернии на май 1916 года было занято 50611 военнопленных,из них 34194 на фабричных и заводских работах, 5731 на «казённых», 5060 на сельскохозяйственных,4145 на железнодорожных, 913 на городских и земских, 568 на прочих.'"
            ]
          },
          "metadata": {},
          "execution_count": 4
        }
      ]
    },
    {
      "cell_type": "code",
      "metadata": {
        "id": "hvwV4yru0cR0",
        "colab": {
          "base_uri": "https://localhost:8080/"
        },
        "outputId": "0de78900-cfcd-4075-84e9-0270e92f6450"
      },
      "source": [
        "re.findall(\"\\s[12]\\d{3}\\s\", text) # 4 цифры подряд"
      ],
      "execution_count": null,
      "outputs": [
        {
          "output_type": "execute_result",
          "data": {
            "text/plain": [
              "[' 1916 ']"
            ]
          },
          "metadata": {},
          "execution_count": 6
        }
      ]
    },
    {
      "cell_type": "markdown",
      "metadata": {
        "id": "lecW4Z4K0cR0"
      },
      "source": [
        "**Задание 2:** написать регулярное выражение, которое будет \"ловить\" все слова с основой *удивительн* в тексте.\n",
        "\n",
        "*Решение:*"
      ]
    },
    {
      "cell_type": "code",
      "metadata": {
        "id": "VgPtcuV-0cR1",
        "colab": {
          "base_uri": "https://localhost:8080/"
        },
        "outputId": "5a80bc08-b989-499b-edc5-1bc8f50cc7ff"
      },
      "source": [
        "text = \"12 ноября 2011 года произошло удивительное событие. А 13 ноября 2012 - еще удивительнее. Даже не будем \\\n",
        "говорить, что произошло 2 декабря 2011 года и 25 декабря 2012 года.\"\n",
        "re.findall(\"удивительн[а-я]{1,10}\", text) # из текста знаем, что больше двух букв после не будет"
      ],
      "execution_count": 5,
      "outputs": [
        {
          "output_type": "execute_result",
          "data": {
            "text/plain": [
              "['удивительное', 'удивительнее']"
            ]
          },
          "metadata": {},
          "execution_count": 5
        }
      ]
    },
    {
      "cell_type": "markdown",
      "metadata": {
        "id": "tEk_J5JY0cR1"
      },
      "source": [
        "Теперь давайте вместе напишем регулярное выражение, которое будет соответствовать датам с годами. Как выглядят даты в нашем тексте? Сначала идет одна цифра или более, затем пробел, далее буквенное название месяца, пробел и снова цифры, но теперь уже ровно 4, так как они складываются в год. Как обозначаются цифры мы знаем, русские буквы тоже. пробелу соответствует символ `\\s` (обратный слэш обязателен, так как без него это будет обычная буква *s*)."
      ]
    },
    {
      "cell_type": "code",
      "metadata": {
        "id": "H6A_IPPD0cR1",
        "outputId": "cdf1296e-d9e4-4133-818f-2e5072dc246a"
      },
      "source": [
        "#Число, пробел, набор букв, пробел, четыре цифры\n",
        "re.findall(\"\\d+\\s[а-я]+\\s\\d{4}\", text) # осталось прочитать регулярку по слогам :)"
      ],
      "execution_count": null,
      "outputs": [
        {
          "data": {
            "text/plain": [
              "['12 ноября 2011', '13 ноября 2012', '2 декабря 2011', '25 декабря 2012']"
            ]
          },
          "execution_count": 92,
          "metadata": {},
          "output_type": "execute_result"
        }
      ]
    },
    {
      "cell_type": "markdown",
      "metadata": {
        "id": "iiOB5ZNO0cR3"
      },
      "source": [
        "Теперь давайте рассмотрим еще один пример. Пусть у нас есть список твитов, только список учебный, вместо полного текста одни хэштеги. "
      ]
    },
    {
      "cell_type": "code",
      "metadata": {
        "id": "1k3fkogx0cR3"
      },
      "source": [
        "tweets = [\"#я не могу молчать\", \"#я не могу кричать\", \"#я не могу\", \"#я справлюсь\", \"я не могу молчать\",\n",
        "        \"#я не могу жить\", \"#я все могу\", \"#с кем не бывает\"]"
      ],
      "execution_count": null,
      "outputs": []
    },
    {
      "cell_type": "markdown",
      "metadata": {
        "id": "Wjg8IxpU0cR3"
      },
      "source": [
        "Задача: создать новый список, содержащий только твиты, начинающиеся с `#я не могу`. Сначала напишем регулярное выражение и посмотрим, как оно работает."
      ]
    },
    {
      "cell_type": "code",
      "metadata": {
        "id": "L-xi0IkV0cR4"
      },
      "source": [
        "tweets = \"#я не могу молчать #я не могу кричать #я не могу #я справлюсь я не могу молчать #я не могу жить #я все могу #с кем не бывает\""
      ],
      "execution_count": null,
      "outputs": []
    },
    {
      "cell_type": "code",
      "metadata": {
        "id": "9e7-Ouwf0cR4",
        "colab": {
          "base_uri": "https://localhost:8080/"
        },
        "outputId": "8cd3bf95-7c10-4b98-a21f-be2547df2b18"
      },
      "source": [
        "re.findall(\"#я не могу\\s[а-я]*\", tweets)"
      ],
      "execution_count": null,
      "outputs": [
        {
          "output_type": "execute_result",
          "data": {
            "text/plain": [
              "['#я не могу молчать', '#я не могу кричать', '#я не могу ', '#я не могу жить']"
            ]
          },
          "metadata": {},
          "execution_count": 11
        }
      ]
    },
    {
      "cell_type": "markdown",
      "metadata": {
        "id": "6pHY1hXJ0cR5"
      },
      "source": [
        "Рассмотрим какую-нибудь задачу, где необходимо применить экранирование. Пусть у нас есть некоторая строка с данными:"
      ]
    },
    {
      "cell_type": "code",
      "metadata": {
        "id": "2muAE9Y00cSB"
      },
      "source": [
        "data = '20.05.1963, 55, 12.12.2000, 17, 15/15/1111'"
      ],
      "execution_count": null,
      "outputs": []
    },
    {
      "cell_type": "markdown",
      "metadata": {
        "id": "nOmopfGc0cSB"
      },
      "source": [
        "И нам нужно выбрать из нее даты, записанные через точку. Напишем регулярное выражение, которое позволит это сделать, но перед этим вспомним, что точку нужно экранировать ‒ ставить перед ней `\\`, чтобы Python понимал, что мы ищем не один любой символ (`.`), а именно точку как знак препинания. "
      ]
    },
    {
      "cell_type": "code",
      "metadata": {
        "id": "wDPo7jHH0cSC",
        "colab": {
          "base_uri": "https://localhost:8080/"
        },
        "outputId": "c2a76c32-6d36-42ea-e7cc-f2a1b18dea97"
      },
      "source": [
        "re.findall(\"\\d+\\.\\d+.\\d{4}\", data) # готово"
      ],
      "execution_count": null,
      "outputs": [
        {
          "output_type": "execute_result",
          "data": {
            "text/plain": [
              "['20.05.1963', '12.12.2000']"
            ]
          },
          "metadata": {},
          "execution_count": 13
        }
      ]
    },
    {
      "cell_type": "markdown",
      "metadata": {
        "id": "rHlyhmhA0cSC"
      },
      "source": [
        "До этого мы работали только с функциями `findall` и `search`(не особенно в них разбираясь), но в модуле `re` есть и другие полезные функции. Вот наиболее часто используемые из них:\n",
        "\n",
        "- `re.match()`\n",
        "- `re.search()`\n",
        "- `re.findall()`\n",
        "- `re.split()`\n",
        "- `re.sub()`\n",
        "- `re.compile()`\n",
        "\n",
        "Рассмотрим их подробнее."
      ]
    },
    {
      "cell_type": "markdown",
      "metadata": {
        "id": "jlv3Kr840cSC"
      },
      "source": [
        "### re.match(pattern, string):\n",
        "Этот метод ищет по заданному шаблону в начале строки. Например, если мы вызовем метод `match()` на строке «Сидоров Иван Иванович» с шаблоном «Сидоров», то он завершится успешно. Однако если мы будем искать «Иван», то результат будет отрицательный. Давайте посмотрим на его работу:"
      ]
    },
    {
      "cell_type": "code",
      "metadata": {
        "id": "IRgpAQ9P0cSD",
        "outputId": "a41658dd-204a-4b29-a58d-7a4b37a8d088"
      },
      "source": [
        "result = re.match(r'\\d+\\w+', '1223ghjhgtyuiСидоров Иван Петрович')\n",
        "print(result)"
      ],
      "execution_count": null,
      "outputs": [
        {
          "name": "stdout",
          "output_type": "stream",
          "text": [
            "<re.Match object; span=(0, 20), match='1223ghjhgtyuiСидоров'>\n"
          ]
        }
      ]
    },
    {
      "cell_type": "markdown",
      "metadata": {
        "id": "42LA02-I0cSD"
      },
      "source": [
        "Искомая подстрока найдена. Чтобы вывести ее содержимое, используем метод `group()`. (Мы используем «r» перед строкой шаблона, чтобы показать, что это «сырая» строка в Python)."
      ]
    },
    {
      "cell_type": "code",
      "metadata": {
        "id": "oyYMQVXB0cSE",
        "outputId": "40ca0c85-27ed-41a0-c726-90af993fe9da"
      },
      "source": [
        "result.group(0)"
      ],
      "execution_count": null,
      "outputs": [
        {
          "data": {
            "text/plain": [
              "'1223ghjhgtyuiСидоров'"
            ]
          },
          "execution_count": 79,
          "metadata": {},
          "output_type": "execute_result"
        }
      ]
    },
    {
      "cell_type": "markdown",
      "metadata": {
        "id": "a19pqieF0cSE"
      },
      "source": [
        "Теперь попробуем найти «Иван» в данной строке. Поскольку строка начинается с фамилии, метод вернет `None`:"
      ]
    },
    {
      "cell_type": "code",
      "metadata": {
        "id": "27k0e7Gp0cSF",
        "outputId": "b2cb3a49-3ba5-4990-a08d-20fefa0ce477"
      },
      "source": [
        "result = re.match(r'Иван', 'Сидоров Иван Петрович')\n",
        "print(result)"
      ],
      "execution_count": null,
      "outputs": [
        {
          "name": "stdout",
          "output_type": "stream",
          "text": [
            "None\n"
          ]
        }
      ]
    },
    {
      "cell_type": "markdown",
      "metadata": {
        "id": "55Qu2AMW0cSF"
      },
      "source": [
        "Также есть методы `start()` и `end()` для того, чтобы узнать начальную и конечную позицию найденной строки."
      ]
    },
    {
      "cell_type": "code",
      "metadata": {
        "id": "bSm_I9p60cSF",
        "outputId": "24e7d48d-b42e-4154-d6b2-3191ac7b15ef"
      },
      "source": [
        "result = re.match(r'Сидоров', 'Сидоров Иван Петрович')\n",
        "print(result.start())\n",
        "print(result.end())"
      ],
      "execution_count": null,
      "outputs": [
        {
          "name": "stdout",
          "output_type": "stream",
          "text": [
            "0\n",
            "7\n"
          ]
        }
      ]
    },
    {
      "cell_type": "markdown",
      "metadata": {
        "id": "5tE0DdRj0cSG"
      },
      "source": [
        "Эти методы иногда очень полезны для работы со строками."
      ]
    },
    {
      "cell_type": "markdown",
      "metadata": {
        "id": "BLil2AQD0cSG"
      },
      "source": [
        "### re.search(pattern, string):\n",
        "Этот метод похож на `match()`, но он ищет не только в начале строки. В отличие от предыдущего, `search()` вернет объект, если мы попытаемся найти «Иван»."
      ]
    },
    {
      "cell_type": "code",
      "metadata": {
        "id": "I4HBrp9k0cSG",
        "colab": {
          "base_uri": "https://localhost:8080/"
        },
        "outputId": "98f6ebfb-ddcb-4b0a-ffab-abec9373400b"
      },
      "source": [
        "result = re.search(r'Иван', 'Сидоров Иван Петрович')\n",
        "result"
      ],
      "execution_count": null,
      "outputs": [
        {
          "output_type": "execute_result",
          "data": {
            "text/plain": [
              "<re.Match object; span=(8, 12), match='Иван'>"
            ]
          },
          "metadata": {},
          "execution_count": 15
        }
      ]
    },
    {
      "cell_type": "markdown",
      "metadata": {
        "id": "cVbiocvI0cSH"
      },
      "source": [
        "Метод `search()` ищет по всей строке, но возвращает только первое найденное совпадение."
      ]
    },
    {
      "cell_type": "markdown",
      "metadata": {
        "id": "Pwktnxnr0cSH"
      },
      "source": [
        "### re.split(pattern, string, [maxsplit=0]):\n",
        "Этот метод разделяет строку по заданному шаблону."
      ]
    },
    {
      "cell_type": "code",
      "metadata": {
        "id": "LlsmJjFO0cSH",
        "outputId": "dd67db3f-763c-4c66-a35d-053bcd69f9de"
      },
      "source": [
        "result = re.split(r' ', 'Сидоров Иван Петрович')\n",
        "result"
      ],
      "execution_count": null,
      "outputs": [
        {
          "data": {
            "text/plain": [
              "['Сидоров', 'Иван', 'Петрович']"
            ]
          },
          "execution_count": 80,
          "metadata": {},
          "output_type": "execute_result"
        }
      ]
    },
    {
      "cell_type": "code",
      "metadata": {
        "colab": {
          "base_uri": "https://localhost:8080/"
        },
        "id": "oasEUvvFPkgK",
        "outputId": "f9ea9e34-1340-418f-d270-1ad699ad5aae"
      },
      "source": [
        "result = re.split(r'[\\.,]', 'Сидоров. Иван, Петрович')\n",
        "result"
      ],
      "execution_count": null,
      "outputs": [
        {
          "output_type": "execute_result",
          "data": {
            "text/plain": [
              "['Сидоров', ' Иван', ' Петрович']"
            ]
          },
          "metadata": {},
          "execution_count": 16
        }
      ]
    },
    {
      "cell_type": "markdown",
      "metadata": {
        "id": "xMrAMWA10cSI"
      },
      "source": [
        "В примере мы разделили нашу строку по пробелам. Метод `split()` принимает также аргумент `maxsplit` со значением по умолчанию, равным 0. В данном случае он разделит строку столько раз, сколько возможно, но если указать этот аргумент, то разделение будет произведено не более указанного количества раз. Давайте посмотрим на примеры:"
      ]
    },
    {
      "cell_type": "code",
      "metadata": {
        "id": "olTXF0pE0cSI",
        "outputId": "6a972f4d-be63-4360-930e-80c7ee888d08"
      },
      "source": [
        "result = re.split(r' ', 'Сидоров Иван Петрович',maxsplit=1)\n",
        "result"
      ],
      "execution_count": null,
      "outputs": [
        {
          "data": {
            "text/plain": [
              "['Сидоров', 'Иван Петрович']"
            ]
          },
          "execution_count": 27,
          "metadata": {},
          "output_type": "execute_result"
        }
      ]
    },
    {
      "cell_type": "markdown",
      "metadata": {
        "id": "2_eVAX5E0cSJ"
      },
      "source": [
        "Мы установили параметр `maxsplit` равным 1, и в результате строка была разделена на две части вместо трех."
      ]
    },
    {
      "cell_type": "markdown",
      "metadata": {
        "id": "S7xJSy9r0cSJ"
      },
      "source": [
        "Приведем \"боевой\" пример. У нас есть некоторая ссылка и её нужно разобрать на параметры, которые потом нужно обработать. Здесь видны адрес сайта, судя по всему, тип страницы, название товарной позиции и какой-то непонятный id \\\n",
        "https://beru.ru/product/konditsioner-dlia-belia-aroma-rich-fairy-lion-0-43-l-paket/100583881004\n"
      ]
    },
    {
      "cell_type": "code",
      "metadata": {
        "id": "MFumMlrb0cSJ",
        "outputId": "3fdb07ed-ba29-4a24-a8ef-2dca80de458d"
      },
      "source": [
        "site = 'https://beru.ru/product/konditsioner-dlia-belia-aroma-rich-fairy-lion-0-43-l-paket/100583881004'\n",
        "result = re.split(r'\\b/', site)\n",
        "result"
      ],
      "execution_count": null,
      "outputs": [
        {
          "data": {
            "text/plain": [
              "['https://beru.ru',\n",
              " 'product',\n",
              " 'konditsioner-dlia-belia-aroma-rich-fairy-lion-0-43-l-paket',\n",
              " '100583881004']"
            ]
          },
          "execution_count": 88,
          "metadata": {},
          "output_type": "execute_result"
        }
      ]
    },
    {
      "cell_type": "markdown",
      "metadata": {
        "id": "xUmYHN1X0cSK"
      },
      "source": [
        "### re.compile(pattern, flags=0):\n",
        "Компилирует объект регулярного выражения.для последующего использования."
      ]
    },
    {
      "cell_type": "code",
      "metadata": {
        "scrolled": true,
        "id": "vuclJu380cSK",
        "outputId": "e22bf352-ca32-4672-efcd-39d023180985"
      },
      "source": [
        "text = 'hfjklhgadsfk_7fjhsdkl867589065,bhjk4\\n \\\n",
        "        5jfnkld45'\n",
        "digitRegex = re.compile(r'[0-9]+') # Не менее 1 цифры\n",
        "\n",
        "''' Сейчас мы их проверим...'''\n",
        "digitRegex.findall(text)"
      ],
      "execution_count": null,
      "outputs": [
        {
          "data": {
            "text/plain": [
              "['7', '867589065', '4', '5', '45']"
            ]
          },
          "execution_count": 62,
          "metadata": {},
          "output_type": "execute_result"
        }
      ]
    },
    {
      "cell_type": "markdown",
      "metadata": {
        "id": "cV_xcOkE0cSL"
      },
      "source": [
        "### re.sub(pattern, repl, string):\n",
        "Этот метод ищет шаблон в строке и заменяет его на указанную подстроку. Если шаблон не найден, строка остается неизменной."
      ]
    },
    {
      "cell_type": "code",
      "metadata": {
        "id": "y7qQcNQm0cSL",
        "outputId": "fc83af3d-18a0-4b30-8418-44b7118172fe"
      },
      "source": [
        "result = re.sub(r'[;,]', ' ', 'Сидоров;Иван,Петрович')\n",
        "result"
      ],
      "execution_count": null,
      "outputs": [
        {
          "data": {
            "text/plain": [
              "'Сидоров Иван Петрович'"
            ]
          },
          "execution_count": 89,
          "metadata": {},
          "output_type": "execute_result"
        }
      ]
    },
    {
      "cell_type": "markdown",
      "metadata": {
        "id": "tZ0crOio0cSL"
      },
      "source": [
        "### Примеры задач с решением\n",
        "\n",
        "### Задача 1. Извлечь все слова, начинающиеся на гласную\n",
        "\n",
        "Для начала вернем все слова:"
      ]
    },
    {
      "cell_type": "code",
      "metadata": {
        "id": "rdROV-GA0cSM",
        "outputId": "6c2414d0-9882-48a7-cd7c-9f63ab9a9d86"
      },
      "source": [
        "string = 'ОГО Десять негритят отправились обедать, \\\n",
        "          Один поперхнулся, их осталось девять.'\n",
        "re.findall(r'\\w+', string)"
      ],
      "execution_count": null,
      "outputs": [
        {
          "data": {
            "text/plain": [
              "['ОГО',\n",
              " 'Десять',\n",
              " 'негритят',\n",
              " 'отправились',\n",
              " 'обедать',\n",
              " 'Один',\n",
              " 'поперхнулся',\n",
              " 'их',\n",
              " 'осталось',\n",
              " 'девять']"
            ]
          },
          "execution_count": 93,
          "metadata": {},
          "output_type": "execute_result"
        }
      ]
    },
    {
      "cell_type": "markdown",
      "metadata": {
        "id": "_q-UQE7u0cSM"
      },
      "source": [
        "А теперь — только те, которые начинаются на определенные буквы (используя `[]`):"
      ]
    },
    {
      "cell_type": "code",
      "metadata": {
        "id": "Hri-BWc-0cSM",
        "outputId": "d70d283b-6d8b-4830-d433-baa890e4f647"
      },
      "source": [
        "re.findall(r'[аяоеуюыиэеАЯОЕУЮЫИЭ]\\w+', string)"
      ],
      "execution_count": null,
      "outputs": [
        {
          "data": {
            "text/plain": [
              "['есять',\n",
              " 'егритят',\n",
              " 'отправились',\n",
              " 'обедать',\n",
              " 'Один',\n",
              " 'оперхнулся',\n",
              " 'их',\n",
              " 'осталось',\n",
              " 'евять']"
            ]
          },
          "execution_count": 91,
          "metadata": {},
          "output_type": "execute_result"
        }
      ]
    },
    {
      "cell_type": "markdown",
      "metadata": {
        "id": "IKT9Xb7V0cSN"
      },
      "source": [
        "Что-то тут не так) Если слово не начинается с глаcной, оно было обрезано до первой гласной. Для того, чтобы убрать их, используем `\\b` для обозначения границы слова:"
      ]
    },
    {
      "cell_type": "code",
      "metadata": {
        "id": "5KWDRRDD0cSN",
        "outputId": "5b1baa93-b628-427b-a44e-786cfc58db57"
      },
      "source": [
        "re.findall(r'\\b[аяоеуюыиэеАЯОЕУЮЫИЭ]\\w+', string)"
      ],
      "execution_count": null,
      "outputs": [
        {
          "data": {
            "text/plain": [
              "['ОГО', 'отправились', 'обедать', 'Один', 'их', 'осталось']"
            ]
          },
          "execution_count": 94,
          "metadata": {},
          "output_type": "execute_result"
        }
      ]
    },
    {
      "cell_type": "markdown",
      "metadata": {
        "id": "NUWHLQRK0cSN"
      },
      "source": [
        "Получили искомый результат. Но что если нам нужно получить слова начинающиеся с согласной буквы? Мы, конечно, можем их всех перечислить как гласные, но это не оптимальный способ. Мы можем использовать `^` внутри квадратных скобок для инвертирования группы:"
      ]
    },
    {
      "cell_type": "code",
      "metadata": {
        "id": "uilHHVUh0cSO",
        "outputId": "a8fe7bb0-55ce-47a4-c945-5e395124ba63"
      },
      "source": [
        "re.findall(r'\\b[^аяоеуюыиэеАЯОЕУЮЫИЭ]\\w+', string)"
      ],
      "execution_count": null,
      "outputs": [
        {
          "data": {
            "text/plain": [
              "['Десять',\n",
              " ' негритят',\n",
              " ' отправились',\n",
              " ' обедать',\n",
              " ' поперхнулся',\n",
              " ' осталось',\n",
              " ' девять']"
            ]
          },
          "execution_count": 66,
          "metadata": {},
          "output_type": "execute_result"
        }
      ]
    },
    {
      "cell_type": "markdown",
      "metadata": {
        "id": "di6rKmMg0cSO"
      },
      "source": [
        "В результат попали слова, «начинающиеся» с пробела. Уберем их, включив пробел в диапазон в квадратных скобках:"
      ]
    },
    {
      "cell_type": "code",
      "metadata": {
        "id": "310ZZkmM0cSP",
        "outputId": "88893715-6df9-483c-c322-a605eef91e81"
      },
      "source": [
        "# слова, не начинающиеся с гласной или пробела\n",
        "re.findall(r'\\b[^аяоеуюыиэеАЯОЕУЮЫИЭ ]\\w+', string)"
      ],
      "execution_count": null,
      "outputs": [
        {
          "data": {
            "text/plain": [
              "['Десять', 'негритят', 'поперхнулся', 'девять']"
            ]
          },
          "execution_count": 67,
          "metadata": {},
          "output_type": "execute_result"
        }
      ]
    },
    {
      "cell_type": "markdown",
      "metadata": {
        "id": "DFwH9QgV0cSP"
      },
      "source": [
        "### Задача 2. Проверить телефонный номер (номер должен быть длиной 10 знаков и начинаться с 7 или 8)\n",
        "\n",
        "У нас есть телефонный номер и нам нужно проверить его, используя регулярные выражения:"
      ]
    },
    {
      "cell_type": "code",
      "metadata": {
        "id": "hpOEuAuY0cSP",
        "outputId": "8097ce74-802f-4498-ad05-7f52fc1a2d74"
      },
      "source": [
        "val = '899999999964'\n",
        "\n",
        "\n",
        "if re.match(r'[7-8]{1}[0-9]{9}', val) and len(val) == 10:\n",
        "    print('Да')\n",
        "else:\n",
        "    print ('Нет')"
      ],
      "execution_count": null,
      "outputs": [
        {
          "name": "stdout",
          "output_type": "stream",
          "text": [
            "Нет\n"
          ]
        }
      ]
    },
    {
      "cell_type": "markdown",
      "metadata": {
        "id": "ved1x18h0cSQ"
      },
      "source": [
        "Для каждого номера мы проверям его по следующему паттерну: сначала стоит либо 7, либо 8 `[7-8]`, строго один раз `{1}`. Далее идет блок из любых цифр `[0-9]` длинной строго в 9 `{9}`. Ну и в конце мы проверяем длину \"числа\". Если все хорошо, помечаем номер как верный.`[0-9]` можно также заменить на `\\d`, а `{1}` можно опустить. Потому что `[]` по умолчанию подразумевают наличие одного элемента из скобок."
      ]
    },
    {
      "cell_type": "code",
      "metadata": {
        "id": "wM6kmrDC0cSQ",
        "outputId": "75fcec11-4c8b-47b9-e961-ad48a6d0d644"
      },
      "source": [
        "val = '7999999999'\n",
        "\n",
        "if re.match(r'[7-8]\\d{9}', val) and len(val) == 10:\n",
        "    print('Да')\n",
        "else:\n",
        "    print ('Нет')"
      ],
      "execution_count": null,
      "outputs": [
        {
          "name": "stdout",
          "output_type": "stream",
          "text": [
            "Да\n"
          ]
        }
      ]
    },
    {
      "cell_type": "markdown",
      "metadata": {
        "id": "1Av_R7UN0cSQ"
      },
      "source": [
        "### Задача 3. Проверить номера автомобилей \n",
        "\n",
        "В России применяются регистрационные знаки нескольких видов. \n",
        "Общего в них то, что они состоят из цифр и букв. Причём используются только 12 букв кириллицы, \\\n",
        "имеющие графические аналоги в латинском алфавите — А, В, Е, К, М, Н, О, Р, С, Т, У и Х.\n",
        "\n",
        "У частных легковых автомобилях номера — это буква, три цифры, две буквы, затем две или три цифры с \\\n",
        "кодом региона. У такси — две буквы, три цифры, затем две или три цифры с кодом региона. \\\n",
        "Есть также и другие виды, но в этой задаче они не понадобятся."
      ]
    },
    {
      "cell_type": "code",
      "metadata": {
        "id": "_aYb6KKk0cSR"
      },
      "source": [
        "numbers = ['С227НА777','КУ22777','Т22В7477','М227К19У9','С227НА8777']\n",
        "# Теперь правильные ответы\n",
        "Answers = ['Private','Taxi','Fail','Fail','Fail']"
      ],
      "execution_count": null,
      "outputs": []
    },
    {
      "cell_type": "code",
      "metadata": {
        "id": "gAShB9wG0cST"
      },
      "source": [
        "[Буквы, которые входят в номер]{1}\\d{3}[Буквы, которые входят в номер]{2}\\d{2,3}\n",
        "[Буквы, которые входят в номер]{2}\\d{5,6}"
      ],
      "execution_count": null,
      "outputs": []
    },
    {
      "cell_type": "code",
      "metadata": {
        "id": "R7DUYDr-0cST",
        "outputId": "c57ff989-b33e-41ef-e42c-be5341d69ad9"
      },
      "source": [
        "x = int(input('Введите номер примера для проверки:'))\n",
        "num = numbers[x]\n",
        "\n",
        "if re.match(r'[АВЕКМНОРСТУХ]{1}\\d{3}[АВЕКМНОРСТУХ]{2}\\d{2,3}', num) and len(num) in (8,9):\n",
        "    print('Private')\n",
        "elif re.match(r'[АВЕКМНОРСТУХ]{2}\\d{5,6}', num) and len(num) in (7,8):\n",
        "    print('Taxi')\n",
        "else:\n",
        "    print('Fail')\n"
      ],
      "execution_count": null,
      "outputs": [
        {
          "name": "stdout",
          "output_type": "stream",
          "text": [
            "Введите номер примера для проверки:1\n",
            "Taxi\n"
          ]
        }
      ]
    },
    {
      "cell_type": "code",
      "metadata": {
        "id": "5VHX0hh80cSV",
        "outputId": "38eb19b1-4971-47e9-d19e-d544cde61532"
      },
      "source": [
        "r'hjfdksdajh{}754895'.format('d')"
      ],
      "execution_count": null,
      "outputs": [
        {
          "data": {
            "text/plain": [
              "'hjfdksdajhd754895'"
            ]
          },
          "execution_count": 70,
          "metadata": {},
          "output_type": "execute_result"
        }
      ]
    },
    {
      "cell_type": "markdown",
      "metadata": {
        "id": "FUZPEwoo0cSW"
      },
      "source": [
        "### Задача 4. Извлечь информацию из html-файла\n",
        "\n",
        "Допустим, нам надо извлечь информацию из html-файла, заключенную между `<td>` и `</td>` (из таблицы), кроме первого столбца с номером. Также будем считать, что html-код содержится в строке.\n",
        "\n",
        "Пример содержимого html-файла:"
      ]
    },
    {
      "cell_type": "code",
      "metadata": {
        "id": "Tpur19tw0cSX",
        "outputId": "8ad48c6f-ab2b-452f-80fd-87bb7c7012db"
      },
      "source": [
        "test_str = \"1NoahEmma2LiamOlivia3MasonSophia4JacobIsabella5WilliamAva6EthanMia7MichaelEmily\"\n",
        "\n",
        "re.findall(r'\\d([A-Z][a-z]+)([A-Z][a-z]+)', test_str)"
      ],
      "execution_count": null,
      "outputs": [
        {
          "data": {
            "text/plain": [
              "[('Noah', 'Emma'),\n",
              " ('Liam', 'Olivia'),\n",
              " ('Mason', 'Sophia'),\n",
              " ('Jacob', 'Isabella'),\n",
              " ('William', 'Ava'),\n",
              " ('Ethan', 'Mia'),\n",
              " ('Michael', 'Emily')]"
            ]
          },
          "execution_count": 160,
          "metadata": {},
          "output_type": "execute_result"
        }
      ]
    },
    {
      "cell_type": "markdown",
      "metadata": {
        "id": "hSnRPlfI0cSX"
      },
      "source": [
        "Для лучшего понимания строки, распишем ее в другом виде:\n",
        "\n",
        "1. NoahEmma\n",
        "2. LiamOlivia\n",
        "3. MasonSophia\n",
        "4. ...\n",
        "\n",
        "Сначала мы ищем число, которое будет у нас означать начало новой строки в таблице (стартовую позицию поиска в строке) `\\d`. После этого мы указываем, что имя начинается с заглавной буквы `[A-Z]`. Получим число и первую букву имени."
      ]
    },
    {
      "cell_type": "code",
      "metadata": {
        "id": "_Z-VJDWu0cSY",
        "outputId": "c8a87dc9-20f8-411b-e491-9821e11275a6"
      },
      "source": [
        "re.findall(r'\\d[A-Z]', test_str)"
      ],
      "execution_count": null,
      "outputs": [
        {
          "data": {
            "text/plain": [
              "['1N', '2L', '3M', '4J', '5W', '6E', '7M']"
            ]
          },
          "execution_count": 42,
          "metadata": {},
          "output_type": "execute_result"
        }
      ]
    },
    {
      "cell_type": "markdown",
      "metadata": {
        "id": "Ne2IX80R0cSY"
      },
      "source": [
        "Далее забираем основную часть имени `[a-z]`, там уже строчные буквы. Используем модификатор `+`, чтобы взять все буквы."
      ]
    },
    {
      "cell_type": "code",
      "metadata": {
        "id": "WKv9CitX0cSY",
        "outputId": "0f06ce7c-e9a4-454c-b646-b156dbf335f4"
      },
      "source": [
        "re.findall(r'\\d[A-Z][a-z]+', test_str)"
      ],
      "execution_count": null,
      "outputs": [
        {
          "data": {
            "text/plain": [
              "['1Noah', '2Liam', '3Mason', '4Jacob', '5William', '6Ethan', '7Michael']"
            ]
          },
          "execution_count": 47,
          "metadata": {},
          "output_type": "execute_result"
        }
      ]
    },
    {
      "cell_type": "markdown",
      "metadata": {
        "id": "4v0hFkzI0cSY"
      },
      "source": [
        "Но у нас в начале есть номер и имя с фамилией слеплены вместе. Сначала разберемся с номером: `()` позволяют нам указать, что мы будем выводить `([A-Z][a-z]+)`, число останется вне вывода и будет использоваться только для определения позиции следующего применения паттерна."
      ]
    },
    {
      "cell_type": "code",
      "metadata": {
        "id": "OJENL4Py0cSY",
        "outputId": "480ac9d7-dcee-4111-92c6-26718b0877b6"
      },
      "source": [
        "re.findall(r'\\d([A-Z][a-z]+)', test_str)"
      ],
      "execution_count": null,
      "outputs": [
        {
          "data": {
            "text/plain": [
              "['Noah', 'Liam', 'Mason', 'Jacob', 'William', 'Ethan', 'Michael']"
            ]
          },
          "execution_count": 48,
          "metadata": {},
          "output_type": "execute_result"
        }
      ]
    },
    {
      "cell_type": "markdown",
      "metadata": {
        "id": "5ExVLLdD0cSY"
      },
      "source": [
        "Теперь займемся фамилией. По условию задачи мы знаем, что фамилия тоже начинается с заглавной буквы. Поэтому мы укажем второй (аналогичный имени) паттерн и занесем его в `()` для отдельного вывода"
      ]
    },
    {
      "cell_type": "code",
      "metadata": {
        "id": "KDieNHuK0cSZ",
        "outputId": "e64210ec-bf54-4228-f327-89cb48c65145"
      },
      "source": [
        "re.findall(r'\\d([A-Z][a-z]+)([A-Z][a-z]+)', test_str)"
      ],
      "execution_count": null,
      "outputs": [
        {
          "data": {
            "text/plain": [
              "[('Noah', 'Emma'),\n",
              " ('Liam', 'Olivia'),\n",
              " ('Mason', 'Sophia'),\n",
              " ('Jacob', 'Isabella'),\n",
              " ('William', 'Ava'),\n",
              " ('Ethan', 'Mia'),\n",
              " ('Michael', 'Emily')]"
            ]
          },
          "execution_count": 161,
          "metadata": {},
          "output_type": "execute_result"
        }
      ]
    },
    {
      "cell_type": "markdown",
      "metadata": {
        "id": "uLNsgefT0cSZ"
      },
      "source": [
        "Как видно по выводу, фамилия теперь отображается как второй элемент первого вывода паттерна."
      ]
    },
    {
      "cell_type": "markdown",
      "metadata": {
        "id": "AEDrj4nE0cSZ"
      },
      "source": [
        "### Задача 5. Поиск однокоренных слов\n",
        "\n",
        "Нужно в тексте найти все однокоренные слова. Будем выполнять на данной скороговорке:\n",
        "\n",
        "Рыла свинья белорыла, тупорыла; полдвора рылом изрыла, вырыла, подрыла."
      ]
    },
    {
      "cell_type": "code",
      "metadata": {
        "id": "fztVP1KY0cSa",
        "outputId": "b2e206ab-f910-4c75-82d6-3e261bc44fe9"
      },
      "source": [
        "pig = \"Рыла свинья белорыла, тупорыла; полдвора рылом изрыла, вырыла, подрыла.\"\n",
        "pig"
      ],
      "execution_count": null,
      "outputs": [
        {
          "data": {
            "text/plain": [
              "'Рыла свинья белорыла, тупорыла; полдвора рылом изрыла, вырыла, подрыла.'"
            ]
          },
          "execution_count": 109,
          "metadata": {},
          "output_type": "execute_result"
        }
      ]
    },
    {
      "cell_type": "markdown",
      "metadata": {
        "id": "7yqSVsAP0cSa"
      },
      "source": [
        "Корень может быть как в начале слова, так и где-то в середине. Поэтому учтем это. Сначала у нас могут быть буквы `[а-яА-Я]` длиной от 0 до бесконечности `*`"
      ]
    },
    {
      "cell_type": "code",
      "metadata": {
        "id": "upkZFO0t0cSa",
        "outputId": "f52e1a3c-fa62-4cf6-85d4-d92b1e67c74a"
      },
      "source": [
        "re.findall(r'[а-яА-Я]*', \"Рыла свинья белорыла, тупорыла; полдвора рылом изрыла, вырыла, подрыла.\")"
      ],
      "execution_count": null,
      "outputs": [
        {
          "data": {
            "text/plain": [
              "['Рыла',\n",
              " '',\n",
              " 'свинья',\n",
              " '',\n",
              " 'белорыла',\n",
              " '',\n",
              " '',\n",
              " 'тупорыла',\n",
              " '',\n",
              " '',\n",
              " 'полдвора',\n",
              " '',\n",
              " 'рылом',\n",
              " '',\n",
              " 'изрыла',\n",
              " '',\n",
              " '',\n",
              " 'вырыла',\n",
              " '',\n",
              " '',\n",
              " 'подрыла',\n",
              " '',\n",
              " '']"
            ]
          },
          "execution_count": 59,
          "metadata": {},
          "output_type": "execute_result"
        }
      ]
    },
    {
      "cell_type": "markdown",
      "metadata": {
        "id": "bnkPUqXp0cSb"
      },
      "source": [
        "Нам попались все слова и пробелы, так как `*`. Далее будем искать наш корень. Нам нужно точное совпадение с `рыл` или `Рыл` для случая с началом предложения `(?:рыл|Рыл)`. `|` говорит нам о выборе между `рыл` и `Рыл`, т.е. подойдет любой из них.\n",
        "\n",
        "Что делает `(?:)` ? Этот символ помогает нам вернуть последовательность полностью. Выше мы уже видели, что, то, что последовательность в скобках соответствует формату вывода. В этом случае `(?:)` это меняет: если последовательность символов подходит ВСЕМУ шаблону, то оно и будет возвращено функцией findall.\n",
        "\n",
        "Но если мы уберем ?:, то любая последовательность подходящая под внутренний паттерн скобок будет выведена."
      ]
    },
    {
      "cell_type": "code",
      "metadata": {
        "id": "BsxRvDh10cSc",
        "outputId": "f469fb8b-a811-4fb1-c62b-c9fe6684463f"
      },
      "source": [
        "re.findall(r'[а-яА-Я]*(?:рыл|Рыл)', \"Рыла свинья белорыла, тупорыла; полдвора рылом изрыла, вырыла, подрыла.\")"
      ],
      "execution_count": null,
      "outputs": [
        {
          "data": {
            "text/plain": [
              "['Рыл', 'белорыл', 'тупорыл', 'рыл', 'изрыл', 'вырыл', 'подрыл']"
            ]
          },
          "execution_count": 63,
          "metadata": {},
          "output_type": "execute_result"
        }
      ]
    },
    {
      "cell_type": "markdown",
      "metadata": {
        "id": "tR14xdKg0cSc"
      },
      "source": [
        "Есть начало слова и его корень. Осталось добавить окончание. Все аналогично началу слова:"
      ]
    },
    {
      "cell_type": "code",
      "metadata": {
        "id": "8b5i7bGC0cSc",
        "outputId": "66af45a5-6674-4353-a0f9-a7749c306fb6"
      },
      "source": [
        "re.findall(r'[а-яА-Я]*(?:рыл|Рыл)[а-яА-Я]*', \"Рыла свинья белорыла, тупорыла; полдвора рылом изрыла, вырыла, подрыла.\")"
      ],
      "execution_count": null,
      "outputs": [
        {
          "data": {
            "text/plain": [
              "['Рыла', 'белорыла', 'тупорыла', 'рылом', 'изрыла', 'вырыла', 'подрыла']"
            ]
          },
          "execution_count": 62,
          "metadata": {},
          "output_type": "execute_result"
        }
      ]
    },
    {
      "cell_type": "markdown",
      "metadata": {
        "id": "W-QuoYHz0cSc"
      },
      "source": [
        "### Задача 6. Проверка пароля\n",
        "\n",
        "На сайте нужно вывести сообщение, если пароль не валиден. \\\n",
        "Обычно пароль должен содержать не менее 8 символов, не менее одной заглавной буквы, \\\n",
        "не менее одной строчной буквы и, опционально, символ"
      ]
    },
    {
      "cell_type": "markdown",
      "metadata": {
        "id": "yUnjHWOY0cSc"
      },
      "source": [
        "\"Your password must have at least 8 characters, at least an upper case letter, an lowercase letter,\\\n",
        "a number and probably a symbol so you make sure you’ll never remember it in the future\""
      ]
    },
    {
      "cell_type": "code",
      "metadata": {
        "id": "OsleLVW20cSd",
        "outputId": "35679169-7827-4e1e-ca9c-d31066517ac6"
      },
      "source": [
        "import re\n",
        "\n",
        "passwordText = 'fbbE4gfhdsjk'\n",
        "\n",
        "# Strength Checks\n",
        "charRegex = re.compile(r'(\\w{8,})')  # Не менее 8 символов (тут не считаются знаки препинания)\n",
        "lowerRegex = re.compile(r'[a-z]+') # Не менее 1 маленькой буквы\n",
        "upperRegex = re.compile(r'[A-Z]+')# Не менее 1 большой буквы\n",
        "digitRegex = re.compile(r'[0-9]+') # Не менее 1 цифры\n",
        "\n",
        "''' Сейчас мы их проверим...'''\n",
        "if charRegex.findall(passwordText) == []:  \n",
        "    print('Password must contain at least 8 characters')\n",
        "elif lowerRegex.findall(passwordText)==[]: \n",
        "    print('Password must contain at least one lowercase character')\n",
        "elif upperRegex.findall(passwordText)==[]: \n",
        "    print('Password must contain at least one uppercase character')\n",
        "elif digitRegex.findall(passwordText)==[]: \n",
        "    print('Password must contain at least one digit character')\n",
        "else:  \n",
        "    print('Your password is strong. Good job!')"
      ],
      "execution_count": null,
      "outputs": [
        {
          "name": "stdout",
          "output_type": "stream",
          "text": [
            "Your password is strong. Good job!\n"
          ]
        }
      ]
    },
    {
      "cell_type": "markdown",
      "metadata": {
        "id": "hppPHl4c0cSe"
      },
      "source": [
        "## Группирующие скобки (...)\n",
        "\n",
        "Если в шаблоне регулярного выражения встречаются скобки (...) без ?:, то они становятся группирующими. В match-объекте, который возвращают re.search, re.fullmatch и re.finditer, по каждой такой группе можно получить ту же информацию, что и по всему шаблону. А именно часть подстроки, которая соответствует (...), а также индексы начала и окончания в исходной строке. Достаточно часто это бывает полезно."
      ]
    },
    {
      "cell_type": "code",
      "metadata": {
        "id": "39XHmTI20cSf",
        "outputId": "843ab6e3-9860-41a0-a7f3-3784036705d0"
      },
      "source": [
        "import re \n",
        "pattern = r'\\s*([А-Яа-яЁё]+)(\\d+)\\s*' \n",
        "\n",
        "string = r'---   Опять45   ---' \n",
        "\n",
        "match = re.search(pattern, string) \n",
        "\n",
        "print(f'Найдена подстрока >{match[0]}< с позиции {match.start(0)} до {match.end(0)}') \n",
        "\n",
        "print(f'Группа букв >{match[1]}< с позиции {match.start(1)} до {match.end(1)}') \n",
        "print(f'Группа цифр >{match[2]}< с позиции {match.start(2)} до {match.end(2)}') \n",
        "### \n",
        "# -> Найдена подстрока >   Опять45   < с позиции 3 до 16 \n",
        "# -> Группа букв >Опять< с позиции 6 до 11 \n",
        "# -> Группа цифр >45< с позиции 11 до 13 "
      ],
      "execution_count": null,
      "outputs": [
        {
          "name": "stdout",
          "output_type": "stream",
          "text": [
            "Найдена подстрока >   Опять45   < с позиции 3 до 16\n",
            "Группа букв >Опять< с позиции 6 до 11\n",
            "Группа цифр >45< с позиции 11 до 13\n"
          ]
        }
      ]
    },
    {
      "cell_type": "code",
      "metadata": {
        "id": "EsjiRVf60cSf",
        "outputId": "62092441-b3de-45b6-fa7f-723f72d43e58"
      },
      "source": [
        "s = 'It\\'s been a long time'\n",
        "match = re.search(r'(\\s\\w)(\\w\\w)', s) \n",
        "match[2]"
      ],
      "execution_count": null,
      "outputs": [
        {
          "data": {
            "text/plain": [
              "'ee'"
            ]
          },
          "execution_count": 78,
          "metadata": {},
          "output_type": "execute_result"
        }
      ]
    },
    {
      "cell_type": "markdown",
      "metadata": {
        "id": "4At_3LAS0cSg"
      },
      "source": [
        "## Заглядывание вперед и назад или позиционные шаблоны\n",
        "\n",
        "Следующие шаблоны применяются в основном в тех случаях, когда нужно уточнить, что должно идти непосредственно перед или после шаблона, но при этом \n",
        "не включать найденное в match-объект."
      ]
    },
    {
      "cell_type": "markdown",
      "metadata": {
        "id": "oqtEl2bM0cSg"
      },
      "source": [
        "* `(?=...)` lookahead assertion, соответствует каждой позиции, сразу после которой начинается соответствие шаблону \n",
        "\n",
        "* `(?!...)` negative lookahead assertion, соответствует каждой позиции, сразу после которой НЕ может начинаться шаблон\n",
        "* `(?<=...)` positive lookbehind assertion, соответствует каждой позиции, которой может заканчиваться шаблон. Длина шаблона должна быть фиксированной, то есть abc и a|b — это ОК, а a* и a{2,3} — нет.\n",
        "\n",
        "* `(?<!...)` negative lookbehind assertion, соответствует каждой позиции, которой НЕ может заканчиваться шаблон"
      ]
    },
    {
      "cell_type": "code",
      "metadata": {
        "id": "-sYdGvot0cSg",
        "outputId": "42a24731-d10b-4a6c-dd65-40c2736f0c5f"
      },
      "source": [
        "string = 'КарлIV, КарлIX, КарлV, КарлVI, КарлVII, КарлVIII,ЛюдовикIX, \\\n",
        "ЛюдовикVI, ЛюдовикVII, ЛюдовикVIII, ЛюдовикX, ..., ЛюдовикXVIII, ФилиппI, \\\n",
        "ФилиппII, ФилиппIII, ФилиппIV, ФилиппV, ФилиппVI'\n",
        "# Людовик, после которого первые два символа == VI\n",
        "re.findall(r'Людовик(?=VI)\\w{2,4}',string)"
      ],
      "execution_count": null,
      "outputs": [
        {
          "data": {
            "text/plain": [
              "['ЛюдовикVI', 'ЛюдовикVII', 'ЛюдовикVIII']"
            ]
          },
          "execution_count": 100,
          "metadata": {},
          "output_type": "execute_result"
        }
      ]
    },
    {
      "cell_type": "code",
      "metadata": {
        "id": "_7v_FzWQ0cSh",
        "outputId": "da055213-8c6a-4137-e9e1-c352ba4ff389"
      },
      "source": [
        "string = 'КарлIV, КарлIX, КарлV, КарлVI, КарлVII, КарлVIII,ЛюдовикIX, ЛюдовикVI, ЛюдовикVII, ЛюдовикVIII, ЛюдовикX, ..., ЛюдовикXVIII, ФилиппI, ФилиппII, ФилиппIII, ФилиппIV, ФилиппV, ФилиппVI'\n",
        "# Людовик, после которого первые два символа != VI\n",
        "re.findall(r'Людовик(?!VI)\\w{1,4}',string)"
      ],
      "execution_count": null,
      "outputs": [
        {
          "data": {
            "text/plain": [
              "['ЛюдовикIX', 'ЛюдовикX', 'ЛюдовикXVII']"
            ]
          },
          "execution_count": 102,
          "metadata": {},
          "output_type": "execute_result"
        }
      ]
    },
    {
      "cell_type": "code",
      "metadata": {
        "id": "ZBV51kJp0cSh",
        "outputId": "b2c46b18-61c1-458b-ecd2-4bec334ae2f0"
      },
      "source": [
        "string = 'КарлIV, КарлIX, КарлV, КарлVI, КарлVII, КарлVIII,ЛюдовикIX, ЛюдовикVI, ЛюдовикVII, ЛюдовикVIII, ЛюдовикX, ..., ЛюдовикXVIII, ФилиппI, ФилиппII, ФилиппIII, ФилиппIV, ФилиппV, ФилиппVI'\n",
        "# цифра, начинающаяся на VI, только если перед ней стоит Людовик\n",
        "re.findall(r'\\w*(?<=Людови.)VI\\w{,2}',string)"
      ],
      "execution_count": null,
      "outputs": [
        {
          "data": {
            "text/plain": [
              "['ЛюдовигVI', 'ЛюдовикVII', 'ЛюдовикVIII']"
            ]
          },
          "execution_count": 105,
          "metadata": {},
          "output_type": "execute_result"
        }
      ]
    },
    {
      "cell_type": "code",
      "metadata": {
        "id": "VIQIJmrG0cSh",
        "outputId": "7effd04d-e767-4f46-da9e-651dc56f37f7"
      },
      "source": [
        "import re\n",
        "string = 'КарлIV, КарлIX, КарлV, КарлVI, КарлVII, КарлVIII,ЛюдовигIX, ЛюдовикVI, ЛюдовикVII, ЛюдовикVIII, ЛюдовикX, ..., ЛюдовикXVIII, ФилиппI, ФилиппII, ФилиппIII, ФилиппIV, ФилиппV, ФилиппVI'\n",
        "# цифра, начинающаяся на VI, только если перед ней НЕ стоит Людовик\n",
        "re.findall(r'[а-яА-Я]+(?<!Людови.)VI\\w{,2}',string)"
      ],
      "execution_count": null,
      "outputs": [
        {
          "data": {
            "text/plain": [
              "['КарлVI', 'КарлVII', 'КарлVIII', 'ФилиппVI']"
            ]
          },
          "execution_count": 104,
          "metadata": {},
          "output_type": "execute_result"
        }
      ]
    },
    {
      "cell_type": "markdown",
      "metadata": {
        "id": "S7HTk9W30cSi"
      },
      "source": [
        "### Проверка пароля, дубль два\n",
        "У нас уже была задачка про проверку пароля, которую мы реализовали через *if*. \\\n",
        "Давайте попробуем ее прогнать через одно регулярное выражение\n"
      ]
    },
    {
      "cell_type": "markdown",
      "metadata": {
        "id": "bSSO6keL0cSi"
      },
      "source": [
        "**Должно быть:**\n",
        "* Не менее 8 символов (тут не считаются знаки препинания)\n",
        "* Не менее 1 маленькой буквы\n",
        "* Не менее 1 большой буквы\n",
        "* Не менее 1 цифры\n",
        "* Без пробелов"
      ]
    },
    {
      "cell_type": "code",
      "metadata": {
        "id": "YMU-a-zD0cSi",
        "outputId": "7cb35072-b492-456d-f57a-96de9865e54c"
      },
      "source": [
        "import re\n",
        "\n",
        "passwordText = '4fBt!hgjkfdl'\n",
        "\n",
        "# Не менее 1 цифры, не менее 1 буквы, не менее 1 большой буквы и без пробелов\n",
        "charRegex = re.compile(r'(?=^.{8,}$)(^(?=.*\\d)(?=.*[a-z])(?=.*[^\\w\\s])(?=.*[A-Z])(?!.*\\s).*).*$')  \n",
        "\n",
        "''' Сейчас мы их проверим...'''\n",
        "if charRegex.match(passwordText) == None:  \n",
        "    print('FAIL')\n",
        "else:  \n",
        "    print('Your password is strong. Good job!')"
      ],
      "execution_count": null,
      "outputs": [
        {
          "name": "stdout",
          "output_type": "stream",
          "text": [
            "Your password is strong. Good job!\n"
          ]
        }
      ]
    },
    {
      "cell_type": "markdown",
      "metadata": {
        "id": "GliZbucd0cSj"
      },
      "source": [
        "И еще давайте туда же встроим проверку на наличие спецсимвола (запятая, точка, восклицательный знак, вопросительный знак)"
      ]
    },
    {
      "cell_type": "code",
      "metadata": {
        "id": "702iwkr80cSj",
        "outputId": "048b7c13-72f0-4974-b533-0957b27d50fb"
      },
      "source": [
        "passwordText = 'fbbE4fkT!'\n",
        "\n",
        "# Не менее 1 цифры, не менее 1 буквы, не менее 1 большой буквы и без пробелов\n",
        "d = ''\n",
        "charRegex = re.compile(r'(?=^.{8,}$)((?=.*\\d)(?=.*[a-z])(?=.*[,.!?])(?=.*[A-Z])(?!.*\\s))')  \n",
        "\n",
        "''' Сейчас мы их проверим...'''\n",
        "if charRegex.match(passwordText) == None:  \n",
        "    print('FAIL')\n",
        "else:  \n",
        "    print('Your password is strong. Good job!')"
      ],
      "execution_count": null,
      "outputs": [
        {
          "name": "stdout",
          "output_type": "stream",
          "text": [
            "Your password is strong. Good job!\n"
          ]
        }
      ]
    },
    {
      "cell_type": "markdown",
      "metadata": {
        "id": "EO2_X5SJ0cSk"
      },
      "source": [
        "## Упражения"
      ]
    },
    {
      "cell_type": "markdown",
      "metadata": {
        "id": "qy5ZN6KF0cSk"
      },
      "source": [
        "### 1. Достать из строки имена-фамилии на русском языке"
      ]
    },
    {
      "cell_type": "code",
      "metadata": {
        "id": "6JkPpj2I0cSk"
      },
      "source": [
        "users = 'Василий Зайцев, Erwin König, Людмила Павличенко, Josef Allerberger, Matthäus Hetzenauer, Александр Башлачёв'"
      ],
      "execution_count": 6,
      "outputs": []
    },
    {
      "cell_type": "code",
      "source": [
        "re.findall(\"[а-яА-ЯёЁ]+\\s[а-яА-ЯёЁ]+\", users)"
      ],
      "metadata": {
        "colab": {
          "base_uri": "https://localhost:8080/"
        },
        "id": "iXGI8Jq7lXgD",
        "outputId": "ada072b7-6047-48a1-c756-2e25c8934cdc"
      },
      "execution_count": 8,
      "outputs": [
        {
          "output_type": "execute_result",
          "data": {
            "text/plain": [
              "['Василий Зайцев', 'Людмила Павличенко', 'Александр Башлачёв']"
            ]
          },
          "metadata": {},
          "execution_count": 8
        }
      ]
    },
    {
      "cell_type": "markdown",
      "metadata": {
        "id": "7bzXla1w0cSl"
      },
      "source": [
        "Ответ: ['Василий Зайцев', 'Людмила Павличенко', 'Александр Башлачёв']"
      ]
    },
    {
      "cell_type": "markdown",
      "metadata": {
        "id": "9rC_KAtL0cSl"
      },
      "source": [
        "### 2. Выделить из строки email'ы "
      ]
    },
    {
      "cell_type": "markdown",
      "metadata": {
        "id": "eLt2tl5C0cSl"
      },
      "source": [
        "'iawpghnube1206@gmail.com\\r\\n+79151489999 (telegram @vasiiesal) test.tewst2@subsubdomain.subdomain.domain.ru.!'"
      ]
    },
    {
      "cell_type": "markdown",
      "metadata": {
        "id": "BZwQc34_0cSl"
      },
      "source": [
        "Для начала разобьем эту строку \"по границам слов\", то бишь по символам.\n",
        "*findall(r'\\b',x)* разобьет строку вот так:\n",
        "* iawpghnube1206\n",
        "* @\n",
        "* gmail\n",
        "* .\n",
        "* com\n",
        "* \\\n",
        "* r\n",
        "* \\\n",
        "* n\n",
        "* +\n",
        "* 79151489999\n",
        "* (\n",
        "* telegram\n",
        "* @\n",
        "* vasiiesal\n",
        "* test\n",
        "* .\n",
        "* tewst2\n",
        "* @\n",
        "* subsubdomain\n",
        "* .\n",
        "* subdomain\n",
        "* .\n",
        "* domain\n",
        "* .\n",
        "* ru\n",
        "* .!"
      ]
    },
    {
      "cell_type": "code",
      "metadata": {
        "id": "VwRdzK0j0cSm",
        "outputId": "feb70eb8-e64b-4e14-d5fd-a5e05e215a4d"
      },
      "source": [
        "x = 'iawpgh-----nube1206@gmail.com\\r\\n+79151489999 (telegram @vasiiesal) test.tewst2@subsubdomain.subdomain.domain.ru.!'\n",
        "re.findall(r'\\b', x) # строки в выводе пустые, потому что не указали какой паттерн искать"
      ],
      "execution_count": null,
      "outputs": [
        {
          "data": {
            "text/plain": [
              "['',\n",
              " '',\n",
              " '',\n",
              " '',\n",
              " '',\n",
              " '',\n",
              " '',\n",
              " '',\n",
              " '',\n",
              " '',\n",
              " '',\n",
              " '',\n",
              " '',\n",
              " '',\n",
              " '',\n",
              " '',\n",
              " '',\n",
              " '',\n",
              " '',\n",
              " '',\n",
              " '',\n",
              " '',\n",
              " '',\n",
              " '',\n",
              " '',\n",
              " '']"
            ]
          },
          "execution_count": 90,
          "metadata": {},
          "output_type": "execute_result"
        }
      ]
    },
    {
      "cell_type": "markdown",
      "metadata": {
        "id": "7hGz36E80cSm"
      },
      "source": [
        "Далее идет блок в `[ ]`, в котором как раз определяем паттерн, который ищем, в нашем случае это `S`, где `\\S` любой непробельный символ. НО это только один символ, попадающий в эту маску. Для того чтобы получить неограниченную длинной последовательность, мы добави + к квадратным скобкам.\n",
        "\n",
        "Получим такие вот подстроки:\n",
        "- iawpghnube1206@gmail.com\n",
        "- 79151489999\n",
        "- telegram\n",
        "- vasiiesal)\n",
        "- test.tewst2!@subsubdomain.subdomain.domain.ru.!"
      ]
    },
    {
      "cell_type": "code",
      "metadata": {
        "id": "vtOLJnLG0cSm",
        "outputId": "cc26f0c7-8f23-453b-9df8-5a0c2c774f9a"
      },
      "source": [
        "re.findall(r'\\b[\\S]+', x)"
      ],
      "execution_count": null,
      "outputs": [
        {
          "data": {
            "text/plain": [
              "['iawpgh-----nube1206@gmail.com',\n",
              " '79151489999',\n",
              " 'telegram',\n",
              " 'vasiiesal)',\n",
              " 'test.tewst2@subsubdomain.subdomain.domain.ru.!']"
            ]
          },
          "execution_count": 91,
          "metadata": {},
          "output_type": "execute_result"
        }
      ]
    },
    {
      "cell_type": "markdown",
      "metadata": {
        "id": "2c4RizjC0cSm"
      },
      "source": [
        "`@` показывает нам, что далее нужно найти 1 символ `@`. Что даст следующие подстроки:\n",
        "\n",
        "- iawpghnube1206@\n",
        "- test.tewst2!@"
      ]
    },
    {
      "cell_type": "code",
      "metadata": {
        "id": "-3q5Tk7o0cSn",
        "outputId": "e2da6f7b-f81b-4adc-b3a0-d2dc2032570a"
      },
      "source": [
        "re.findall(r'\\b[\\S]+@', x)"
      ],
      "execution_count": null,
      "outputs": [
        {
          "data": {
            "text/plain": [
              "['iawpgh-----nube1206@', 'test.tewst2@']"
            ]
          },
          "execution_count": 92,
          "metadata": {},
          "output_type": "execute_result"
        }
      ]
    },
    {
      "cell_type": "markdown",
      "metadata": {
        "id": "TYrWSCVe0cSn"
      },
      "source": [
        "После `@` всегда идет домен. Как говорилось выше он может иметь несколько уровней. Поэтому мы снова ищем последовательность из букв, цифр и спец знаков, причем данная последовательность встречается от 1 и более раз `{1,}`\n",
        "\n",
        "Получим такие строки:\n",
        "- iawpghnube1206@gmail.com'\n",
        "- test.tewst2!@subsubdomain.subdomain.domain.ru.!"
      ]
    },
    {
      "cell_type": "code",
      "metadata": {
        "id": "axi8a2rD0cSn",
        "outputId": "e592fb60-2978-495e-dd25-dee5574cbf56"
      },
      "source": [
        "re.findall(r'\\b[\\S]+@[\\S]{1,}', x)"
      ],
      "execution_count": null,
      "outputs": [
        {
          "data": {
            "text/plain": [
              "['iawpgh-----nube1206@gmail.com',\n",
              " 'test.tewst2@subsubdomain.subdomain.domain.ru.!']"
            ]
          },
          "execution_count": 93,
          "metadata": {},
          "output_type": "execute_result"
        }
      ]
    },
    {
      "cell_type": "markdown",
      "metadata": {
        "id": "Q5XWCfvX0cSo"
      },
      "source": [
        "Все выглядит хорошо, кроме того что мы захватили с собой лишние знаки. Однако мы знаем, что почта всегда заканчивается точкой и доменной зоной. Попробуем, это учесть. Укажем, что мы хотим ровно одну точку `\\.` и неограниченное количество букв `\\w+`.В данном случае мы прямо указываем на то что должны быть только буквы, цифры и спецсимволы не могу быть в доменной зоне. Получим:\n",
        "- iawpghnube1206@gmail.com\n",
        "- test.tewst2!@subsubdomain.subdomain.domain.ru"
      ]
    },
    {
      "cell_type": "code",
      "metadata": {
        "id": "CKFw_WzH0cSo",
        "outputId": "5cb1a86f-4b0c-4fd6-a93c-ce584463ea4e"
      },
      "source": [
        "re.findall(r'\\b[\\w\\d\\S]+@[\\w\\d\\S]{1,}\\.\\w+', x)"
      ],
      "execution_count": null,
      "outputs": [
        {
          "data": {
            "text/plain": [
              "['iawpgh-----nube1206@gmail.com',\n",
              " 'test.tewst2@subsubdomain.subdomain.domain.ru']"
            ]
          },
          "execution_count": 94,
          "metadata": {},
          "output_type": "execute_result"
        }
      ]
    },
    {
      "cell_type": "markdown",
      "metadata": {
        "id": "Iper0XwP0cSp"
      },
      "source": [
        "### А что если мы хотим обращаться прямо к найденным группам?"
      ]
    },
    {
      "cell_type": "code",
      "metadata": {
        "id": "X9EQS4f60cSp",
        "outputId": "5a832957-d44b-4758-ba04-6e6bd0bba5c9"
      },
      "source": [
        "string = '32 32 32'\n",
        "re.match(r'^(\\d+)\\s\\1\\s\\1$', string)\n",
        "# Тут мы обратились к первой найденной группе через \\1"
      ],
      "execution_count": null,
      "outputs": [
        {
          "data": {
            "text/plain": [
              "<re.Match object; span=(0, 8), match='32 32 32'>"
            ]
          },
          "execution_count": 117,
          "metadata": {},
          "output_type": "execute_result"
        }
      ]
    },
    {
      "cell_type": "markdown",
      "metadata": {
        "id": "kBFjZevk0cSq"
      },
      "source": [
        "### Заключение\n",
        "Сегодня мы познакомились с функциями из модуля `re`. Дополнительно про них можно почитать в официальной [документации](https://docs.python.org/3/library/re.html). Кроме того, есть очень хороший ресурс [regex101.com](https://regex101.com), который позволяет скопировать нужный текст и в интерактивном режиме следить, какие совпадения находятся при изменении регулярного выражения, введенного в отдельном окне (не забудьте поставить галочку Python в разделе FLAVOR слева)."
      ]
    }
  ]
}